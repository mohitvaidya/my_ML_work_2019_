{
 "cells": [
  {
   "cell_type": "markdown",
   "metadata": {},
   "source": [
    "## I have included most of the EDA and complete modelling + Statistical test required in this notebook, however for detailed EDA please refer 'ketto_eda.html' file"
   ]
  },
  {
   "cell_type": "code",
   "execution_count": 128,
   "metadata": {
    "scrolled": true
   },
   "outputs": [],
   "source": [
    "import pandas as pd\n",
    "import numpy as np\n",
    "import matplotlib.pyplot as plt\n",
    "import pickle\n",
    "from collections import OrderedDict"
   ]
  },
  {
   "cell_type": "code",
   "execution_count": 129,
   "metadata": {},
   "outputs": [
    {
     "name": "stderr",
     "output_type": "stream",
     "text": [
      "C:\\Users\\uesr\\Anaconda3\\lib\\site-packages\\IPython\\core\\interactiveshell.py:2785: DtypeWarning: Columns (11) have mixed types. Specify dtype option on import or set low_memory=False.\n",
      "  interactivity=interactivity, compiler=compiler, result=result)\n"
     ]
    }
   ],
   "source": [
    "main_data=pd.read_csv('./Autos_train_data.csv',encoding='latin-1',parse_dates=['lastSeen'],dayfirst=True,infer_datetime_format=True)"
   ]
  },
  {
   "cell_type": "code",
   "execution_count": 130,
   "metadata": {},
   "outputs": [],
   "source": [
    "car_data = main_data.copy()"
   ]
  },
  {
   "cell_type": "markdown",
   "metadata": {},
   "source": [
    "# five point summary of car data"
   ]
  },
  {
   "cell_type": "code",
   "execution_count": 292,
   "metadata": {},
   "outputs": [
    {
     "data": {
      "text/html": [
       "<div>\n",
       "<style scoped>\n",
       "    .dataframe tbody tr th:only-of-type {\n",
       "        vertical-align: middle;\n",
       "    }\n",
       "\n",
       "    .dataframe tbody tr th {\n",
       "        vertical-align: top;\n",
       "    }\n",
       "\n",
       "    .dataframe thead th {\n",
       "        text-align: right;\n",
       "    }\n",
       "</style>\n",
       "<table border=\"1\" class=\"dataframe\">\n",
       "  <thead>\n",
       "    <tr style=\"text-align: right;\">\n",
       "      <th></th>\n",
       "      <th>price</th>\n",
       "      <th>powerPS</th>\n",
       "      <th>kilometer</th>\n",
       "      <th>nrOfPictures</th>\n",
       "      <th>car_age</th>\n",
       "    </tr>\n",
       "  </thead>\n",
       "  <tbody>\n",
       "    <tr>\n",
       "      <th>count</th>\n",
       "      <td>177249.000000</td>\n",
       "      <td>177249.000000</td>\n",
       "      <td>177249.000000</td>\n",
       "      <td>177249.0</td>\n",
       "      <td>177249.000000</td>\n",
       "    </tr>\n",
       "    <tr>\n",
       "      <th>mean</th>\n",
       "      <td>5790.095967</td>\n",
       "      <td>113.882634</td>\n",
       "      <td>125415.855661</td>\n",
       "      <td>0.0</td>\n",
       "      <td>13.059549</td>\n",
       "    </tr>\n",
       "    <tr>\n",
       "      <th>std</th>\n",
       "      <td>6918.577367</td>\n",
       "      <td>67.470692</td>\n",
       "      <td>39892.785095</td>\n",
       "      <td>0.0</td>\n",
       "      <td>7.063561</td>\n",
       "    </tr>\n",
       "    <tr>\n",
       "      <th>min</th>\n",
       "      <td>120.000000</td>\n",
       "      <td>0.000000</td>\n",
       "      <td>5000.000000</td>\n",
       "      <td>0.0</td>\n",
       "      <td>0.000000</td>\n",
       "    </tr>\n",
       "    <tr>\n",
       "      <th>25%</th>\n",
       "      <td>1250.000000</td>\n",
       "      <td>75.000000</td>\n",
       "      <td>100000.000000</td>\n",
       "      <td>0.0</td>\n",
       "      <td>8.000000</td>\n",
       "    </tr>\n",
       "    <tr>\n",
       "      <th>50%</th>\n",
       "      <td>3199.000000</td>\n",
       "      <td>109.000000</td>\n",
       "      <td>150000.000000</td>\n",
       "      <td>0.0</td>\n",
       "      <td>13.000000</td>\n",
       "    </tr>\n",
       "    <tr>\n",
       "      <th>75%</th>\n",
       "      <td>7500.000000</td>\n",
       "      <td>150.000000</td>\n",
       "      <td>150000.000000</td>\n",
       "      <td>0.0</td>\n",
       "      <td>17.000000</td>\n",
       "    </tr>\n",
       "    <tr>\n",
       "      <th>max</th>\n",
       "      <td>37091.000000</td>\n",
       "      <td>343.000000</td>\n",
       "      <td>150000.000000</td>\n",
       "      <td>0.0</td>\n",
       "      <td>66.000000</td>\n",
       "    </tr>\n",
       "  </tbody>\n",
       "</table>\n",
       "</div>"
      ],
      "text/plain": [
       "               price        powerPS      kilometer  nrOfPictures  \\\n",
       "count  177249.000000  177249.000000  177249.000000      177249.0   \n",
       "mean     5790.095967     113.882634  125415.855661           0.0   \n",
       "std      6918.577367      67.470692   39892.785095           0.0   \n",
       "min       120.000000       0.000000    5000.000000           0.0   \n",
       "25%      1250.000000      75.000000  100000.000000           0.0   \n",
       "50%      3199.000000     109.000000  150000.000000           0.0   \n",
       "75%      7500.000000     150.000000  150000.000000           0.0   \n",
       "max     37091.000000     343.000000  150000.000000           0.0   \n",
       "\n",
       "             car_age  \n",
       "count  177249.000000  \n",
       "mean       13.059549  \n",
       "std         7.063561  \n",
       "min         0.000000  \n",
       "25%         8.000000  \n",
       "50%        13.000000  \n",
       "75%        17.000000  \n",
       "max        66.000000  "
      ]
     },
     "execution_count": 292,
     "metadata": {},
     "output_type": "execute_result"
    }
   ],
   "source": [
    "car_data.describe()"
   ]
  },
  {
   "cell_type": "markdown",
   "metadata": {},
   "source": [
    "# type of variables"
   ]
  },
  {
   "cell_type": "code",
   "execution_count": 131,
   "metadata": {},
   "outputs": [
    {
     "data": {
      "text/plain": [
       "dateCrawled                    object\n",
       "name                           object\n",
       "seller                         object\n",
       "offerType                      object\n",
       "price                         float64\n",
       "abtest                         object\n",
       "vehicleType                    object\n",
       "yearOfRegistration            float64\n",
       "gearbox                        object\n",
       "powerPS                       float64\n",
       "model                          object\n",
       "kilometer                      object\n",
       "monthOfRegistration           float64\n",
       "fuelType                       object\n",
       "brand                          object\n",
       "notRepairedDamage              object\n",
       "dateCreated                    object\n",
       "nrOfPictures                  float64\n",
       "postalCode                    float64\n",
       "lastSeen               datetime64[ns]\n",
       "dtype: object"
      ]
     },
     "execution_count": 131,
     "metadata": {},
     "output_type": "execute_result"
    }
   ],
   "source": [
    "car_data.dtypes"
   ]
  },
  {
   "cell_type": "code",
   "execution_count": 132,
   "metadata": {},
   "outputs": [],
   "source": [
    "# car_data.dateCrawled=pd.to_datetime(car_data.dateCrawled,dayfirst=True,errors='coerce')"
   ]
  },
  {
   "cell_type": "code",
   "execution_count": 133,
   "metadata": {
    "scrolled": true
   },
   "outputs": [
    {
     "data": {
      "text/html": [
       "<div>\n",
       "<style scoped>\n",
       "    .dataframe tbody tr th:only-of-type {\n",
       "        vertical-align: middle;\n",
       "    }\n",
       "\n",
       "    .dataframe tbody tr th {\n",
       "        vertical-align: top;\n",
       "    }\n",
       "\n",
       "    .dataframe thead th {\n",
       "        text-align: right;\n",
       "    }\n",
       "</style>\n",
       "<table border=\"1\" class=\"dataframe\">\n",
       "  <thead>\n",
       "    <tr style=\"text-align: right;\">\n",
       "      <th></th>\n",
       "      <th>dateCrawled</th>\n",
       "      <th>name</th>\n",
       "      <th>seller</th>\n",
       "      <th>offerType</th>\n",
       "      <th>price</th>\n",
       "      <th>abtest</th>\n",
       "      <th>vehicleType</th>\n",
       "      <th>yearOfRegistration</th>\n",
       "      <th>gearbox</th>\n",
       "      <th>powerPS</th>\n",
       "      <th>model</th>\n",
       "      <th>kilometer</th>\n",
       "      <th>monthOfRegistration</th>\n",
       "      <th>fuelType</th>\n",
       "      <th>brand</th>\n",
       "      <th>notRepairedDamage</th>\n",
       "      <th>dateCreated</th>\n",
       "      <th>nrOfPictures</th>\n",
       "      <th>postalCode</th>\n",
       "      <th>lastSeen</th>\n",
       "    </tr>\n",
       "  </thead>\n",
       "  <tbody>\n",
       "    <tr>\n",
       "      <th>0</th>\n",
       "      <td>24-03-16 11:52</td>\n",
       "      <td>Golf_3_1.6</td>\n",
       "      <td>privat</td>\n",
       "      <td>Angebot</td>\n",
       "      <td>480.0</td>\n",
       "      <td>test</td>\n",
       "      <td>NaN</td>\n",
       "      <td>1993.0</td>\n",
       "      <td>manuell</td>\n",
       "      <td>0.0</td>\n",
       "      <td>golf</td>\n",
       "      <td>150000</td>\n",
       "      <td>0.0</td>\n",
       "      <td>benzin</td>\n",
       "      <td>volkswagen</td>\n",
       "      <td>NaN</td>\n",
       "      <td>24-03-16 0:00</td>\n",
       "      <td>0.0</td>\n",
       "      <td>70435.0</td>\n",
       "      <td>2016-04-07 03:16:00</td>\n",
       "    </tr>\n",
       "    <tr>\n",
       "      <th>1</th>\n",
       "      <td>24-03-16 10:58</td>\n",
       "      <td>A5_Sportback_2.7_Tdi</td>\n",
       "      <td>privat</td>\n",
       "      <td>Angebot</td>\n",
       "      <td>18300.0</td>\n",
       "      <td>test</td>\n",
       "      <td>coupe</td>\n",
       "      <td>2011.0</td>\n",
       "      <td>manuell</td>\n",
       "      <td>190.0</td>\n",
       "      <td>NaN</td>\n",
       "      <td>125000</td>\n",
       "      <td>5.0</td>\n",
       "      <td>diesel</td>\n",
       "      <td>audi</td>\n",
       "      <td>ja</td>\n",
       "      <td>24-03-16 0:00</td>\n",
       "      <td>0.0</td>\n",
       "      <td>66954.0</td>\n",
       "      <td>2016-04-07 01:46:00</td>\n",
       "    </tr>\n",
       "    <tr>\n",
       "      <th>2</th>\n",
       "      <td>14-03-16 12:52</td>\n",
       "      <td>Jeep_Grand_Cherokee_\"Overland\"</td>\n",
       "      <td>privat</td>\n",
       "      <td>Angebot</td>\n",
       "      <td>9800.0</td>\n",
       "      <td>test</td>\n",
       "      <td>suv</td>\n",
       "      <td>2004.0</td>\n",
       "      <td>automatik</td>\n",
       "      <td>163.0</td>\n",
       "      <td>grand</td>\n",
       "      <td>125000</td>\n",
       "      <td>8.0</td>\n",
       "      <td>diesel</td>\n",
       "      <td>jeep</td>\n",
       "      <td>NaN</td>\n",
       "      <td>14-03-16 0:00</td>\n",
       "      <td>0.0</td>\n",
       "      <td>90480.0</td>\n",
       "      <td>2016-04-05 12:47:00</td>\n",
       "    </tr>\n",
       "    <tr>\n",
       "      <th>3</th>\n",
       "      <td>17-03-16 16:54</td>\n",
       "      <td>GOLF_4_1_4__3TÜRER</td>\n",
       "      <td>privat</td>\n",
       "      <td>Angebot</td>\n",
       "      <td>1500.0</td>\n",
       "      <td>test</td>\n",
       "      <td>kleinwagen</td>\n",
       "      <td>2001.0</td>\n",
       "      <td>manuell</td>\n",
       "      <td>75.0</td>\n",
       "      <td>golf</td>\n",
       "      <td>150000</td>\n",
       "      <td>6.0</td>\n",
       "      <td>benzin</td>\n",
       "      <td>volkswagen</td>\n",
       "      <td>nein</td>\n",
       "      <td>17-03-16 0:00</td>\n",
       "      <td>0.0</td>\n",
       "      <td>91074.0</td>\n",
       "      <td>2016-03-17 17:40:00</td>\n",
       "    </tr>\n",
       "    <tr>\n",
       "      <th>4</th>\n",
       "      <td>31-03-16 17:25</td>\n",
       "      <td>Skoda_Fabia_1.4_TDI_PD_Classic</td>\n",
       "      <td>privat</td>\n",
       "      <td>Angebot</td>\n",
       "      <td>3600.0</td>\n",
       "      <td>test</td>\n",
       "      <td>kleinwagen</td>\n",
       "      <td>2008.0</td>\n",
       "      <td>manuell</td>\n",
       "      <td>69.0</td>\n",
       "      <td>fabia</td>\n",
       "      <td>90000</td>\n",
       "      <td>7.0</td>\n",
       "      <td>diesel</td>\n",
       "      <td>skoda</td>\n",
       "      <td>nein</td>\n",
       "      <td>31-03-16 0:00</td>\n",
       "      <td>0.0</td>\n",
       "      <td>60437.0</td>\n",
       "      <td>2016-04-06 10:17:00</td>\n",
       "    </tr>\n",
       "  </tbody>\n",
       "</table>\n",
       "</div>"
      ],
      "text/plain": [
       "      dateCrawled                            name  seller offerType    price  \\\n",
       "0  24-03-16 11:52                      Golf_3_1.6  privat   Angebot    480.0   \n",
       "1  24-03-16 10:58            A5_Sportback_2.7_Tdi  privat   Angebot  18300.0   \n",
       "2  14-03-16 12:52  Jeep_Grand_Cherokee_\"Overland\"  privat   Angebot   9800.0   \n",
       "3  17-03-16 16:54              GOLF_4_1_4__3TÜRER  privat   Angebot   1500.0   \n",
       "4  31-03-16 17:25  Skoda_Fabia_1.4_TDI_PD_Classic  privat   Angebot   3600.0   \n",
       "\n",
       "  abtest vehicleType  yearOfRegistration    gearbox  powerPS  model kilometer  \\\n",
       "0   test         NaN              1993.0    manuell      0.0   golf    150000   \n",
       "1   test       coupe              2011.0    manuell    190.0    NaN    125000   \n",
       "2   test         suv              2004.0  automatik    163.0  grand    125000   \n",
       "3   test  kleinwagen              2001.0    manuell     75.0   golf    150000   \n",
       "4   test  kleinwagen              2008.0    manuell     69.0  fabia     90000   \n",
       "\n",
       "   monthOfRegistration fuelType       brand notRepairedDamage    dateCreated  \\\n",
       "0                  0.0   benzin  volkswagen               NaN  24-03-16 0:00   \n",
       "1                  5.0   diesel        audi                ja  24-03-16 0:00   \n",
       "2                  8.0   diesel        jeep               NaN  14-03-16 0:00   \n",
       "3                  6.0   benzin  volkswagen              nein  17-03-16 0:00   \n",
       "4                  7.0   diesel       skoda              nein  31-03-16 0:00   \n",
       "\n",
       "   nrOfPictures  postalCode            lastSeen  \n",
       "0           0.0     70435.0 2016-04-07 03:16:00  \n",
       "1           0.0     66954.0 2016-04-07 01:46:00  \n",
       "2           0.0     90480.0 2016-04-05 12:47:00  \n",
       "3           0.0     91074.0 2016-03-17 17:40:00  \n",
       "4           0.0     60437.0 2016-04-06 10:17:00  "
      ]
     },
     "execution_count": 133,
     "metadata": {},
     "output_type": "execute_result"
    }
   ],
   "source": [
    "car_data.head()"
   ]
  },
  {
   "cell_type": "markdown",
   "metadata": {},
   "source": [
    "## Removing data before 1950 and after 2016 "
   ]
  },
  {
   "cell_type": "code",
   "execution_count": 134,
   "metadata": {},
   "outputs": [],
   "source": [
    "car_data = car_data[\n",
    "        (car_data.yearOfRegistration <= 2016) \n",
    "      & (car_data.yearOfRegistration >= 1950) ]"
   ]
  },
  {
   "cell_type": "markdown",
   "metadata": {},
   "source": [
    "## new variable car_age represents age of car"
   ]
  },
  {
   "cell_type": "code",
   "execution_count": 135,
   "metadata": {},
   "outputs": [],
   "source": [
    "car_data['car_age']=car_data.lastSeen.dt.year - car_data.yearOfRegistration"
   ]
  },
  {
   "cell_type": "markdown",
   "metadata": {},
   "source": [
    "## dropping all non-relevant columns"
   ]
  },
  {
   "cell_type": "code",
   "execution_count": 136,
   "metadata": {},
   "outputs": [],
   "source": [
    "drop_cols=['dateCrawled','name','yearOfRegistration','monthOfRegistration','dateCreated','postalCode','lastSeen']\n",
    "car_data.drop(columns=drop_cols,axis=1,inplace=True)"
   ]
  },
  {
   "cell_type": "markdown",
   "metadata": {},
   "source": [
    "## separating out all numerical and chracter columns"
   ]
  },
  {
   "cell_type": "code",
   "execution_count": 137,
   "metadata": {},
   "outputs": [],
   "source": [
    "char_col=[]\n",
    "num_col=[]\n",
    "for col in list(car_data.columns):\n",
    "    if car_data[col].dtype=='object':\n",
    "        char_col.append(col)\n",
    "    else:\n",
    "        num_col.append(col)"
   ]
  },
  {
   "cell_type": "markdown",
   "metadata": {},
   "source": [
    "## for variable model i have replcaed model with other_cat for whom count is less than 1000. "
   ]
  },
  {
   "cell_type": "code",
   "execution_count": 138,
   "metadata": {},
   "outputs": [],
   "source": [
    "remove_these=[]\n",
    "keep_these=[]\n",
    "for mod, val in dict(car_data.model.value_counts()).items():\n",
    "    if val <=1000:\n",
    "        remove_these.append(mod)\n",
    "    else:\n",
    "        keep_these.append(mod)               \n",
    "car_data.loc[car_data.model.isin(remove_these),'model'] = 'other_cat'"
   ]
  },
  {
   "cell_type": "markdown",
   "metadata": {},
   "source": [
    "## dropping other irrelevant columns"
   ]
  },
  {
   "cell_type": "code",
   "execution_count": 139,
   "metadata": {},
   "outputs": [],
   "source": [
    "char_col.remove('kilometer')\n",
    "char_col.remove('seller')\n",
    "char_col.remove('offerType')\n",
    "num_col.remove('nrOfPictures')"
   ]
  },
  {
   "cell_type": "code",
   "execution_count": 140,
   "metadata": {},
   "outputs": [],
   "source": [
    "num_col.append('kilometer')"
   ]
  },
  {
   "cell_type": "code",
   "execution_count": 141,
   "metadata": {},
   "outputs": [
    {
     "data": {
      "text/plain": [
       "['abtest', 'vehicleType', 'gearbox', 'model', 'fuelType', 'brand', 'notRepairedDamage']"
      ]
     },
     "execution_count": 141,
     "metadata": {},
     "output_type": "execute_result"
    }
   ],
   "source": [
    "char_col"
   ]
  },
  {
   "cell_type": "markdown",
   "metadata": {},
   "source": [
    "## running value_counts to understand distribution of categorical variables."
   ]
  },
  {
   "cell_type": "code",
   "execution_count": 142,
   "metadata": {},
   "outputs": [
    {
     "name": "stdout",
     "output_type": "stream",
     "text": [
      "column_name is  abtest\n",
      "test       94638\n",
      "control    87766\n",
      "Name: abtest, dtype: int64\n",
      "----------------------------------------\n",
      "column_name is  vehicleType\n",
      "limousine     48851\n",
      "kleinwagen    41030\n",
      "kombi         34622\n",
      "bus           15409\n",
      "cabrio        11769\n",
      "coupe          9645\n",
      "suv            7526\n",
      "andere         1737\n",
      "Name: vehicleType, dtype: int64\n",
      "----------------------------------------\n",
      "column_name is  gearbox\n",
      "manuell      134797\n",
      "automatik     38350\n",
      "Name: gearbox, dtype: int64\n",
      "----------------------------------------\n",
      "column_name is  model\n",
      "other_cat      47113\n",
      "golf           14388\n",
      "andere         13251\n",
      "3er            10210\n",
      "polo            6433\n",
      "corsa           6101\n",
      "astra           5293\n",
      "passat          5211\n",
      "a4              5124\n",
      "c_klasse        4378\n",
      "5er             4246\n",
      "e_klasse        3819\n",
      "a3              3191\n",
      "a6              3041\n",
      "focus           2929\n",
      "fiesta          2843\n",
      "transporter     2697\n",
      "2_reihe         2414\n",
      "twingo          2373\n",
      "fortwo          2131\n",
      "vectra          2084\n",
      "a_klasse        2030\n",
      "1er             1964\n",
      "clio            1773\n",
      "mondeo          1771\n",
      "3_reihe         1761\n",
      "touran          1684\n",
      "punto           1614\n",
      "zafira          1440\n",
      "megane          1421\n",
      "ibiza           1333\n",
      "ka              1322\n",
      "lupo            1232\n",
      "x_reihe         1176\n",
      "octavia         1111\n",
      "cooper          1061\n",
      "fabia           1034\n",
      "Name: model, dtype: int64\n",
      "----------------------------------------\n",
      "column_name is  fuelType\n",
      "benzin     111161\n",
      "diesel      53815\n",
      "lpg          2616\n",
      "cng           301\n",
      "hybrid        137\n",
      "andere        108\n",
      "elektro        58\n",
      "Name: fuelType, dtype: int64\n",
      "----------------------------------------\n",
      "column_name is  brand\n",
      "volkswagen        38616\n",
      "bmw               20072\n",
      "opel              19484\n",
      "mercedes_benz     17513\n",
      "audi              16250\n",
      "ford              12542\n",
      "renault            8692\n",
      "peugeot            5438\n",
      "fiat               4737\n",
      "seat               3466\n",
      "mazda              2866\n",
      "skoda              2791\n",
      "citroen            2591\n",
      "smart              2566\n",
      "nissan             2435\n",
      "toyota             2291\n",
      "sonstige_autos     1932\n",
      "hyundai            1798\n",
      "mini               1694\n",
      "volvo              1663\n",
      "mitsubishi         1482\n",
      "honda              1354\n",
      "kia                1260\n",
      "suzuki             1176\n",
      "porsche            1126\n",
      "alfa_romeo         1112\n",
      "chevrolet           937\n",
      "chrysler            734\n",
      "dacia               444\n",
      "jeep                413\n",
      "daihatsu            404\n",
      "subaru              403\n",
      "land_rover          396\n",
      "jaguar              322\n",
      "trabant             296\n",
      "daewoo              263\n",
      "saab                257\n",
      "lancia              246\n",
      "rover               227\n",
      "lada                115\n",
      "Name: brand, dtype: int64\n",
      "----------------------------------------\n",
      "column_name is  notRepairedDamage\n",
      "nein    131010\n",
      "ja       17878\n",
      "Name: notRepairedDamage, dtype: int64\n",
      "----------------------------------------\n"
     ]
    }
   ],
   "source": [
    "for col in char_col:\n",
    "    print('column_name is ',col)\n",
    "    print(car_data[col].value_counts())\n",
    "    print('----------------------------------------')    "
   ]
  },
  {
   "cell_type": "code",
   "execution_count": 143,
   "metadata": {},
   "outputs": [
    {
     "data": {
      "text/plain": [
       "test       94638\n",
       "control    87766\n",
       "Name: abtest, dtype: int64"
      ]
     },
     "execution_count": 143,
     "metadata": {},
     "output_type": "execute_result"
    }
   ],
   "source": [
    "car_data.abtest.value_counts()"
   ]
  },
  {
   "cell_type": "markdown",
   "metadata": {},
   "source": [
    "## Since abtest type benzin is related to only single observation i am dropping the same. "
   ]
  },
  {
   "cell_type": "code",
   "execution_count": 144,
   "metadata": {},
   "outputs": [],
   "source": [
    "car_data.drop(car_data.loc[car_data['abtest']=='benzin',:].index,inplace=True)"
   ]
  },
  {
   "cell_type": "markdown",
   "metadata": {},
   "source": [
    "## dropping na values based on abtest and brand(2 observation)."
   ]
  },
  {
   "cell_type": "code",
   "execution_count": 145,
   "metadata": {},
   "outputs": [],
   "source": [
    "car_data.dropna(subset=['abtest','brand'],inplace=True)"
   ]
  },
  {
   "cell_type": "code",
   "execution_count": 146,
   "metadata": {},
   "outputs": [
    {
     "data": {
      "text/plain": [
       "nein    131010\n",
       "ja       17878\n",
       "Name: notRepairedDamage, dtype: int64"
      ]
     },
     "execution_count": 146,
     "metadata": {},
     "output_type": "execute_result"
    }
   ],
   "source": [
    "car_data.notRepairedDamage.value_counts()"
   ]
  },
  {
   "cell_type": "markdown",
   "metadata": {},
   "source": [
    "## missing value as percent of the data."
   ]
  },
  {
   "cell_type": "code",
   "execution_count": 147,
   "metadata": {},
   "outputs": [
    {
     "name": "stdout",
     "output_type": "stream",
     "text": [
      "variable name is vehicleType and total missing values are 6.48 of the data\n",
      "variable name is gearbox and total missing values are 5.07 of the data\n",
      "variable name is model and total missing values are 5.16 of the data\n",
      "variable name is fuelType and total missing values are 7.79 of the data\n",
      "variable name is notRepairedDamage and total missing values are 18.37 of the data\n"
     ]
    }
   ],
   "source": [
    "for i,j in dict(car_data[char_col].isna().sum()).items():\n",
    "    if j!=0:\n",
    "        print('variable name is {} and total missing values are {:.2f} of the data'.format(i,j/len(car_data)*100))"
   ]
  },
  {
   "cell_type": "markdown",
   "metadata": {},
   "source": [
    "## there were some zeroes in price, i am removing these as it will badly affect my regression line."
   ]
  },
  {
   "cell_type": "code",
   "execution_count": 148,
   "metadata": {},
   "outputs": [
    {
     "data": {
      "text/plain": [
       "'total zeroes in car_data is 2.83 %'"
      ]
     },
     "execution_count": 148,
     "metadata": {},
     "output_type": "execute_result"
    }
   ],
   "source": [
    "'total zeroes in car_data is {:.2f} %'.format(car_data.loc[car_data.price==0,:].shape[0]/car_data.shape[0]*100)"
   ]
  },
  {
   "cell_type": "code",
   "execution_count": 149,
   "metadata": {},
   "outputs": [],
   "source": [
    "car_data= car_data.loc[car_data.price!=0,:]"
   ]
  },
  {
   "cell_type": "code",
   "execution_count": 150,
   "metadata": {},
   "outputs": [
    {
     "data": {
      "text/html": [
       "<div>\n",
       "<style scoped>\n",
       "    .dataframe tbody tr th:only-of-type {\n",
       "        vertical-align: middle;\n",
       "    }\n",
       "\n",
       "    .dataframe tbody tr th {\n",
       "        vertical-align: top;\n",
       "    }\n",
       "\n",
       "    .dataframe thead th {\n",
       "        text-align: right;\n",
       "    }\n",
       "</style>\n",
       "<table border=\"1\" class=\"dataframe\">\n",
       "  <thead>\n",
       "    <tr style=\"text-align: right;\">\n",
       "      <th></th>\n",
       "      <th>price</th>\n",
       "      <th>powerPS</th>\n",
       "      <th>car_age</th>\n",
       "      <th>kilometer</th>\n",
       "    </tr>\n",
       "  </thead>\n",
       "  <tbody>\n",
       "    <tr>\n",
       "      <th>0</th>\n",
       "      <td>480.0</td>\n",
       "      <td>0.0</td>\n",
       "      <td>23.0</td>\n",
       "      <td>150000</td>\n",
       "    </tr>\n",
       "    <tr>\n",
       "      <th>1</th>\n",
       "      <td>18300.0</td>\n",
       "      <td>190.0</td>\n",
       "      <td>5.0</td>\n",
       "      <td>125000</td>\n",
       "    </tr>\n",
       "    <tr>\n",
       "      <th>2</th>\n",
       "      <td>9800.0</td>\n",
       "      <td>163.0</td>\n",
       "      <td>12.0</td>\n",
       "      <td>125000</td>\n",
       "    </tr>\n",
       "    <tr>\n",
       "      <th>3</th>\n",
       "      <td>1500.0</td>\n",
       "      <td>75.0</td>\n",
       "      <td>15.0</td>\n",
       "      <td>150000</td>\n",
       "    </tr>\n",
       "    <tr>\n",
       "      <th>4</th>\n",
       "      <td>3600.0</td>\n",
       "      <td>69.0</td>\n",
       "      <td>8.0</td>\n",
       "      <td>90000</td>\n",
       "    </tr>\n",
       "  </tbody>\n",
       "</table>\n",
       "</div>"
      ],
      "text/plain": [
       "     price  powerPS  car_age kilometer\n",
       "0    480.0      0.0     23.0    150000\n",
       "1  18300.0    190.0      5.0    125000\n",
       "2   9800.0    163.0     12.0    125000\n",
       "3   1500.0     75.0     15.0    150000\n",
       "4   3600.0     69.0      8.0     90000"
      ]
     },
     "execution_count": 150,
     "metadata": {},
     "output_type": "execute_result"
    }
   ],
   "source": [
    "car_data[num_col].head()"
   ]
  },
  {
   "cell_type": "code",
   "execution_count": 151,
   "metadata": {},
   "outputs": [
    {
     "data": {
      "text/plain": [
       "['price', 'powerPS', 'car_age', 'kilometer']"
      ]
     },
     "execution_count": 151,
     "metadata": {},
     "output_type": "execute_result"
    }
   ],
   "source": [
    "num_col"
   ]
  },
  {
   "cell_type": "markdown",
   "metadata": {},
   "source": [
    "## outlier capping based on 1 and 99 percentile."
   ]
  },
  {
   "cell_type": "code",
   "execution_count": 152,
   "metadata": {},
   "outputs": [],
   "source": [
    "def out_capp(data, cols):\n",
    "    for col in cols:\n",
    "        data.loc[(data[col] < data[col].quantile(0.01)),col] = data[col].quantile(0.01) \n",
    "        data.loc[(data[col] > data[col].quantile(0.99)),col] = data[col].quantile(0.99)\n",
    "    return data"
   ]
  },
  {
   "cell_type": "code",
   "execution_count": 153,
   "metadata": {},
   "outputs": [],
   "source": [
    "car_data = out_capp(car_data,cols=['price','powerPS'])"
   ]
  },
  {
   "cell_type": "code",
   "execution_count": 154,
   "metadata": {},
   "outputs": [],
   "source": [
    "# car_data = car_data[\n",
    "#         (car_data.yearOfRegistration <= 2016) \n",
    "#       & (car_data.yearOfRegistration >= 1950) \n",
    "#       & (car_data.price >= car_data.price.quantile(0.01)) \n",
    "#       & (car_data.price <= car_data.price.quantile(0.99)) \n",
    "#       & (car_data.powerPS >= car_data.powerPS.quantile(0.01)) \n",
    "#       & (car_data.powerPS <= car_data.powerPS.quantile(0.99))]"
   ]
  },
  {
   "cell_type": "code",
   "execution_count": 155,
   "metadata": {},
   "outputs": [
    {
     "data": {
      "text/html": [
       "<div>\n",
       "<style scoped>\n",
       "    .dataframe tbody tr th:only-of-type {\n",
       "        vertical-align: middle;\n",
       "    }\n",
       "\n",
       "    .dataframe tbody tr th {\n",
       "        vertical-align: top;\n",
       "    }\n",
       "\n",
       "    .dataframe thead th {\n",
       "        text-align: right;\n",
       "    }\n",
       "</style>\n",
       "<table border=\"1\" class=\"dataframe\">\n",
       "  <thead>\n",
       "    <tr style=\"text-align: right;\">\n",
       "      <th></th>\n",
       "      <th>seller</th>\n",
       "      <th>offerType</th>\n",
       "      <th>price</th>\n",
       "      <th>abtest</th>\n",
       "      <th>vehicleType</th>\n",
       "      <th>gearbox</th>\n",
       "      <th>powerPS</th>\n",
       "      <th>model</th>\n",
       "      <th>kilometer</th>\n",
       "      <th>fuelType</th>\n",
       "      <th>brand</th>\n",
       "      <th>notRepairedDamage</th>\n",
       "      <th>nrOfPictures</th>\n",
       "      <th>car_age</th>\n",
       "    </tr>\n",
       "  </thead>\n",
       "  <tbody>\n",
       "    <tr>\n",
       "      <th>0</th>\n",
       "      <td>privat</td>\n",
       "      <td>Angebot</td>\n",
       "      <td>480.0</td>\n",
       "      <td>test</td>\n",
       "      <td>NaN</td>\n",
       "      <td>manuell</td>\n",
       "      <td>0.0</td>\n",
       "      <td>golf</td>\n",
       "      <td>150000</td>\n",
       "      <td>benzin</td>\n",
       "      <td>volkswagen</td>\n",
       "      <td>NaN</td>\n",
       "      <td>0.0</td>\n",
       "      <td>23.0</td>\n",
       "    </tr>\n",
       "    <tr>\n",
       "      <th>1</th>\n",
       "      <td>privat</td>\n",
       "      <td>Angebot</td>\n",
       "      <td>18300.0</td>\n",
       "      <td>test</td>\n",
       "      <td>coupe</td>\n",
       "      <td>manuell</td>\n",
       "      <td>190.0</td>\n",
       "      <td>NaN</td>\n",
       "      <td>125000</td>\n",
       "      <td>diesel</td>\n",
       "      <td>audi</td>\n",
       "      <td>ja</td>\n",
       "      <td>0.0</td>\n",
       "      <td>5.0</td>\n",
       "    </tr>\n",
       "    <tr>\n",
       "      <th>2</th>\n",
       "      <td>privat</td>\n",
       "      <td>Angebot</td>\n",
       "      <td>9800.0</td>\n",
       "      <td>test</td>\n",
       "      <td>suv</td>\n",
       "      <td>automatik</td>\n",
       "      <td>163.0</td>\n",
       "      <td>other_cat</td>\n",
       "      <td>125000</td>\n",
       "      <td>diesel</td>\n",
       "      <td>jeep</td>\n",
       "      <td>NaN</td>\n",
       "      <td>0.0</td>\n",
       "      <td>12.0</td>\n",
       "    </tr>\n",
       "    <tr>\n",
       "      <th>3</th>\n",
       "      <td>privat</td>\n",
       "      <td>Angebot</td>\n",
       "      <td>1500.0</td>\n",
       "      <td>test</td>\n",
       "      <td>kleinwagen</td>\n",
       "      <td>manuell</td>\n",
       "      <td>75.0</td>\n",
       "      <td>golf</td>\n",
       "      <td>150000</td>\n",
       "      <td>benzin</td>\n",
       "      <td>volkswagen</td>\n",
       "      <td>nein</td>\n",
       "      <td>0.0</td>\n",
       "      <td>15.0</td>\n",
       "    </tr>\n",
       "    <tr>\n",
       "      <th>4</th>\n",
       "      <td>privat</td>\n",
       "      <td>Angebot</td>\n",
       "      <td>3600.0</td>\n",
       "      <td>test</td>\n",
       "      <td>kleinwagen</td>\n",
       "      <td>manuell</td>\n",
       "      <td>69.0</td>\n",
       "      <td>fabia</td>\n",
       "      <td>90000</td>\n",
       "      <td>diesel</td>\n",
       "      <td>skoda</td>\n",
       "      <td>nein</td>\n",
       "      <td>0.0</td>\n",
       "      <td>8.0</td>\n",
       "    </tr>\n",
       "  </tbody>\n",
       "</table>\n",
       "</div>"
      ],
      "text/plain": [
       "   seller offerType    price abtest vehicleType    gearbox  powerPS  \\\n",
       "0  privat   Angebot    480.0   test         NaN    manuell      0.0   \n",
       "1  privat   Angebot  18300.0   test       coupe    manuell    190.0   \n",
       "2  privat   Angebot   9800.0   test         suv  automatik    163.0   \n",
       "3  privat   Angebot   1500.0   test  kleinwagen    manuell     75.0   \n",
       "4  privat   Angebot   3600.0   test  kleinwagen    manuell     69.0   \n",
       "\n",
       "       model kilometer fuelType       brand notRepairedDamage  nrOfPictures  \\\n",
       "0       golf    150000   benzin  volkswagen               NaN           0.0   \n",
       "1        NaN    125000   diesel        audi                ja           0.0   \n",
       "2  other_cat    125000   diesel        jeep               NaN           0.0   \n",
       "3       golf    150000   benzin  volkswagen              nein           0.0   \n",
       "4      fabia     90000   diesel       skoda              nein           0.0   \n",
       "\n",
       "   car_age  \n",
       "0     23.0  \n",
       "1      5.0  \n",
       "2     12.0  \n",
       "3     15.0  \n",
       "4      8.0  "
      ]
     },
     "execution_count": 155,
     "metadata": {},
     "output_type": "execute_result"
    }
   ],
   "source": [
    "car_data.head()"
   ]
  },
  {
   "cell_type": "code",
   "execution_count": 156,
   "metadata": {},
   "outputs": [],
   "source": [
    "car_data.kilometer = pd.to_numeric(car_data.kilometer)"
   ]
  },
  {
   "cell_type": "markdown",
   "metadata": {},
   "source": [
    "## Dummy variable creation for categorical variables."
   ]
  },
  {
   "cell_type": "code",
   "execution_count": 157,
   "metadata": {},
   "outputs": [],
   "source": [
    "dummy_data = pd.get_dummies(data=car_data[char_col],columns=char_col,dummy_na=True)"
   ]
  },
  {
   "cell_type": "code",
   "execution_count": 158,
   "metadata": {},
   "outputs": [],
   "source": [
    "final_data=pd.concat(objs=[car_data[num_col],dummy_data],axis=1)"
   ]
  },
  {
   "cell_type": "code",
   "execution_count": 159,
   "metadata": {},
   "outputs": [
    {
     "data": {
      "text/html": [
       "<div>\n",
       "<style scoped>\n",
       "    .dataframe tbody tr th:only-of-type {\n",
       "        vertical-align: middle;\n",
       "    }\n",
       "\n",
       "    .dataframe tbody tr th {\n",
       "        vertical-align: top;\n",
       "    }\n",
       "\n",
       "    .dataframe thead th {\n",
       "        text-align: right;\n",
       "    }\n",
       "</style>\n",
       "<table border=\"1\" class=\"dataframe\">\n",
       "  <thead>\n",
       "    <tr style=\"text-align: right;\">\n",
       "      <th></th>\n",
       "      <th>price</th>\n",
       "      <th>powerPS</th>\n",
       "      <th>car_age</th>\n",
       "      <th>kilometer</th>\n",
       "      <th>abtest_control</th>\n",
       "      <th>abtest_test</th>\n",
       "      <th>abtest_nan</th>\n",
       "      <th>vehicleType_andere</th>\n",
       "      <th>vehicleType_bus</th>\n",
       "      <th>vehicleType_cabrio</th>\n",
       "      <th>...</th>\n",
       "      <th>brand_subaru</th>\n",
       "      <th>brand_suzuki</th>\n",
       "      <th>brand_toyota</th>\n",
       "      <th>brand_trabant</th>\n",
       "      <th>brand_volkswagen</th>\n",
       "      <th>brand_volvo</th>\n",
       "      <th>brand_nan</th>\n",
       "      <th>notRepairedDamage_ja</th>\n",
       "      <th>notRepairedDamage_nein</th>\n",
       "      <th>notRepairedDamage_nan</th>\n",
       "    </tr>\n",
       "  </thead>\n",
       "  <tbody>\n",
       "    <tr>\n",
       "      <th>0</th>\n",
       "      <td>480.0</td>\n",
       "      <td>0.0</td>\n",
       "      <td>23.0</td>\n",
       "      <td>150000</td>\n",
       "      <td>0</td>\n",
       "      <td>1</td>\n",
       "      <td>0</td>\n",
       "      <td>0</td>\n",
       "      <td>0</td>\n",
       "      <td>0</td>\n",
       "      <td>...</td>\n",
       "      <td>0</td>\n",
       "      <td>0</td>\n",
       "      <td>0</td>\n",
       "      <td>0</td>\n",
       "      <td>1</td>\n",
       "      <td>0</td>\n",
       "      <td>0</td>\n",
       "      <td>0</td>\n",
       "      <td>0</td>\n",
       "      <td>1</td>\n",
       "    </tr>\n",
       "    <tr>\n",
       "      <th>1</th>\n",
       "      <td>18300.0</td>\n",
       "      <td>190.0</td>\n",
       "      <td>5.0</td>\n",
       "      <td>125000</td>\n",
       "      <td>0</td>\n",
       "      <td>1</td>\n",
       "      <td>0</td>\n",
       "      <td>0</td>\n",
       "      <td>0</td>\n",
       "      <td>0</td>\n",
       "      <td>...</td>\n",
       "      <td>0</td>\n",
       "      <td>0</td>\n",
       "      <td>0</td>\n",
       "      <td>0</td>\n",
       "      <td>0</td>\n",
       "      <td>0</td>\n",
       "      <td>0</td>\n",
       "      <td>1</td>\n",
       "      <td>0</td>\n",
       "      <td>0</td>\n",
       "    </tr>\n",
       "    <tr>\n",
       "      <th>2</th>\n",
       "      <td>9800.0</td>\n",
       "      <td>163.0</td>\n",
       "      <td>12.0</td>\n",
       "      <td>125000</td>\n",
       "      <td>0</td>\n",
       "      <td>1</td>\n",
       "      <td>0</td>\n",
       "      <td>0</td>\n",
       "      <td>0</td>\n",
       "      <td>0</td>\n",
       "      <td>...</td>\n",
       "      <td>0</td>\n",
       "      <td>0</td>\n",
       "      <td>0</td>\n",
       "      <td>0</td>\n",
       "      <td>0</td>\n",
       "      <td>0</td>\n",
       "      <td>0</td>\n",
       "      <td>0</td>\n",
       "      <td>0</td>\n",
       "      <td>1</td>\n",
       "    </tr>\n",
       "    <tr>\n",
       "      <th>3</th>\n",
       "      <td>1500.0</td>\n",
       "      <td>75.0</td>\n",
       "      <td>15.0</td>\n",
       "      <td>150000</td>\n",
       "      <td>0</td>\n",
       "      <td>1</td>\n",
       "      <td>0</td>\n",
       "      <td>0</td>\n",
       "      <td>0</td>\n",
       "      <td>0</td>\n",
       "      <td>...</td>\n",
       "      <td>0</td>\n",
       "      <td>0</td>\n",
       "      <td>0</td>\n",
       "      <td>0</td>\n",
       "      <td>1</td>\n",
       "      <td>0</td>\n",
       "      <td>0</td>\n",
       "      <td>0</td>\n",
       "      <td>1</td>\n",
       "      <td>0</td>\n",
       "    </tr>\n",
       "    <tr>\n",
       "      <th>4</th>\n",
       "      <td>3600.0</td>\n",
       "      <td>69.0</td>\n",
       "      <td>8.0</td>\n",
       "      <td>90000</td>\n",
       "      <td>0</td>\n",
       "      <td>1</td>\n",
       "      <td>0</td>\n",
       "      <td>0</td>\n",
       "      <td>0</td>\n",
       "      <td>0</td>\n",
       "      <td>...</td>\n",
       "      <td>0</td>\n",
       "      <td>0</td>\n",
       "      <td>0</td>\n",
       "      <td>0</td>\n",
       "      <td>0</td>\n",
       "      <td>0</td>\n",
       "      <td>0</td>\n",
       "      <td>0</td>\n",
       "      <td>1</td>\n",
       "      <td>0</td>\n",
       "    </tr>\n",
       "  </tbody>\n",
       "</table>\n",
       "<p>5 rows × 109 columns</p>\n",
       "</div>"
      ],
      "text/plain": [
       "     price  powerPS  car_age  kilometer  abtest_control  abtest_test  \\\n",
       "0    480.0      0.0     23.0     150000               0            1   \n",
       "1  18300.0    190.0      5.0     125000               0            1   \n",
       "2   9800.0    163.0     12.0     125000               0            1   \n",
       "3   1500.0     75.0     15.0     150000               0            1   \n",
       "4   3600.0     69.0      8.0      90000               0            1   \n",
       "\n",
       "   abtest_nan  vehicleType_andere  vehicleType_bus  vehicleType_cabrio  \\\n",
       "0           0                   0                0                   0   \n",
       "1           0                   0                0                   0   \n",
       "2           0                   0                0                   0   \n",
       "3           0                   0                0                   0   \n",
       "4           0                   0                0                   0   \n",
       "\n",
       "           ...            brand_subaru  brand_suzuki  brand_toyota  \\\n",
       "0          ...                       0             0             0   \n",
       "1          ...                       0             0             0   \n",
       "2          ...                       0             0             0   \n",
       "3          ...                       0             0             0   \n",
       "4          ...                       0             0             0   \n",
       "\n",
       "   brand_trabant  brand_volkswagen  brand_volvo  brand_nan  \\\n",
       "0              0                 1            0          0   \n",
       "1              0                 0            0          0   \n",
       "2              0                 0            0          0   \n",
       "3              0                 1            0          0   \n",
       "4              0                 0            0          0   \n",
       "\n",
       "   notRepairedDamage_ja  notRepairedDamage_nein  notRepairedDamage_nan  \n",
       "0                     0                       0                      1  \n",
       "1                     1                       0                      0  \n",
       "2                     0                       0                      1  \n",
       "3                     0                       1                      0  \n",
       "4                     0                       1                      0  \n",
       "\n",
       "[5 rows x 109 columns]"
      ]
     },
     "execution_count": 159,
     "metadata": {},
     "output_type": "execute_result"
    }
   ],
   "source": [
    "final_data.head()"
   ]
  },
  {
   "cell_type": "code",
   "execution_count": 161,
   "metadata": {},
   "outputs": [
    {
     "data": {
      "text/html": [
       "<div>\n",
       "<style scoped>\n",
       "    .dataframe tbody tr th:only-of-type {\n",
       "        vertical-align: middle;\n",
       "    }\n",
       "\n",
       "    .dataframe tbody tr th {\n",
       "        vertical-align: top;\n",
       "    }\n",
       "\n",
       "    .dataframe thead th {\n",
       "        text-align: right;\n",
       "    }\n",
       "</style>\n",
       "<table border=\"1\" class=\"dataframe\">\n",
       "  <thead>\n",
       "    <tr style=\"text-align: right;\">\n",
       "      <th></th>\n",
       "      <th>price</th>\n",
       "      <th>powerPS</th>\n",
       "      <th>car_age</th>\n",
       "      <th>kilometer</th>\n",
       "    </tr>\n",
       "  </thead>\n",
       "  <tbody>\n",
       "    <tr>\n",
       "      <th>price</th>\n",
       "      <td>1.000000</td>\n",
       "      <td>0.554979</td>\n",
       "      <td>-0.405519</td>\n",
       "      <td>-0.445885</td>\n",
       "    </tr>\n",
       "    <tr>\n",
       "      <th>powerPS</th>\n",
       "      <td>0.554979</td>\n",
       "      <td>1.000000</td>\n",
       "      <td>-0.203305</td>\n",
       "      <td>-0.024536</td>\n",
       "    </tr>\n",
       "    <tr>\n",
       "      <th>car_age</th>\n",
       "      <td>-0.405519</td>\n",
       "      <td>-0.203305</td>\n",
       "      <td>1.000000</td>\n",
       "      <td>0.278858</td>\n",
       "    </tr>\n",
       "    <tr>\n",
       "      <th>kilometer</th>\n",
       "      <td>-0.445885</td>\n",
       "      <td>-0.024536</td>\n",
       "      <td>0.278858</td>\n",
       "      <td>1.000000</td>\n",
       "    </tr>\n",
       "  </tbody>\n",
       "</table>\n",
       "</div>"
      ],
      "text/plain": [
       "              price   powerPS   car_age  kilometer\n",
       "price      1.000000  0.554979 -0.405519  -0.445885\n",
       "powerPS    0.554979  1.000000 -0.203305  -0.024536\n",
       "car_age   -0.405519 -0.203305  1.000000   0.278858\n",
       "kilometer -0.445885 -0.024536  0.278858   1.000000"
      ]
     },
     "execution_count": 161,
     "metadata": {},
     "output_type": "execute_result"
    }
   ],
   "source": [
    "final_data[num_col].corr()"
   ]
  },
  {
   "cell_type": "markdown",
   "metadata": {},
   "source": [
    "## using kmeans clustering to check segments in data"
   ]
  },
  {
   "cell_type": "code",
   "execution_count": null,
   "metadata": {},
   "outputs": [],
   "source": [
    "import pandas as pd\n",
    "from sklearn.cluster import AgglomerativeClustering\n",
    "from mpl_toolkits.mplot3d import Axes3D\n",
    "import matplotlib.pyplot as plt\n",
    "from sklearn.cluster import KMeans\n",
    "from sklearn.decomposition import PCA\n",
    "from collections import Counter\n",
    "\n",
    "# Kmeans with StandardScaler\n",
    "from sklearn.preprocessing import StandardScaler\n",
    "scale=StandardScaler()\n",
    "scale.fit(final_data[num_col])\n",
    "\n",
    "scaled_data=scale.transform(final_data[num_col])\n",
    "\n",
    "kmeans = KMeans(n_clusters=2, random_state=0).fit(scaled_data)\n",
    "y_label=kmeans.predict(scaled_data)\n",
    "\n",
    "Counter(y_label)"
   ]
  },
  {
   "cell_type": "markdown",
   "metadata": {},
   "source": [
    "## PCA for data visualization with cluster(K means)"
   ]
  },
  {
   "cell_type": "code",
   "execution_count": null,
   "metadata": {},
   "outputs": [],
   "source": [
    "pca = PCA(n_components=2)\n",
    "pca.fit(final_data[num_col].T)"
   ]
  },
  {
   "cell_type": "code",
   "execution_count": 191,
   "metadata": {},
   "outputs": [
    {
     "data": {
      "text/plain": [
       "0.9999998847650682"
      ]
     },
     "execution_count": 191,
     "metadata": {},
     "output_type": "execute_result"
    }
   ],
   "source": [
    "sum(pca.explained_variance_ratio_)"
   ]
  },
  {
   "cell_type": "code",
   "execution_count": 183,
   "metadata": {},
   "outputs": [
    {
     "name": "stderr",
     "output_type": "stream",
     "text": [
      "C:\\Users\\uesr\\Anaconda3\\lib\\site-packages\\sklearn\\preprocessing\\data.py:645: DataConversionWarning: Data with input dtype int64, float64 were all converted to float64 by StandardScaler.\n",
      "  return self.partial_fit(X, y)\n",
      "C:\\Users\\uesr\\Anaconda3\\lib\\site-packages\\ipykernel_launcher.py:14: DataConversionWarning: Data with input dtype int64, float64 were all converted to float64 by StandardScaler.\n",
      "  \n"
     ]
    },
    {
     "data": {
      "text/plain": [
       "<matplotlib.collections.PathCollection object at 0x00000000382255C0>"
      ]
     },
     "execution_count": 183,
     "metadata": {},
     "output_type": "execute_result"
    },
    {
     "data": {
      "image/png": "[encoded data removed]",
      "text/plain": [
       "<Figure size 432x288 with 1 Axes>"
      ]
     },
     "metadata": {},
     "output_type": "display_data"
    }
   ],
   "source": [
    "transformed_data=pca.components_.T\n",
    "\n",
    "%matplotlib inline\n",
    "plt.scatter(transformed_data[:,0],transformed_data[:,1],c=y_label)"
   ]
  },
  {
   "cell_type": "code",
   "execution_count": 237,
   "metadata": {},
   "outputs": [],
   "source": [
    "pca_data=pd.DataFrame({'pc_1':pd.Series(transformed_data[:,0]),'pc_2':pd.Series(transformed_data[:,0]),'cluster':pd.Series(y_label)}).sample(10000)"
   ]
  },
  {
   "cell_type": "code",
   "execution_count": 241,
   "metadata": {
    "scrolled": true
   },
   "outputs": [
    {
     "data": {
      "text/plain": [
       "<matplotlib.legend.Legend object at 0x000000003476A3C8>"
      ]
     },
     "execution_count": 241,
     "metadata": {},
     "output_type": "execute_result"
    },
    {
     "data": {
      "image/png": "[encoded data removed]",
      "text/plain": [
       "<Figure size 288x288 with 1 Axes>"
      ]
     },
     "metadata": {},
     "output_type": "display_data"
    }
   ],
   "source": [
    "fig = plt.figure(figsize = (4,4))\n",
    "ax = fig.add_subplot(1,1,1) \n",
    "ax.set_xlabel('Principal Component 1', fontsize = 15)\n",
    "ax.set_ylabel('Principal Component 2', fontsize = 15)\n",
    "ax.set_title('2 component PCA', fontsize = 20)\n",
    "targets = [0,1]\n",
    "colors = ['r', 'g',]\n",
    "for target, color in zip(targets,colors):\n",
    "    indicesToKeep = pca_data['cluster'] == target\n",
    "    ax.scatter(pca_data.loc[indicesToKeep, 'pc_1']\n",
    "               , pca_data.loc[indicesToKeep, 'pc_1']\n",
    "               , c = color\n",
    "               , s = 50)\n",
    "ax.legend(targets)\n"
   ]
  },
  {
   "cell_type": "markdown",
   "metadata": {},
   "source": [
    "## corrlation plot between numerical variables."
   ]
  },
  {
   "cell_type": "code",
   "execution_count": 294,
   "metadata": {},
   "outputs": [
    {
     "data": {
      "image/png": "[encoded data removed]",
      "text/plain": [
       "<Figure size 432x288 with 2 Axes>"
      ]
     },
     "metadata": {},
     "output_type": "display_data"
    }
   ],
   "source": [
    "import seaborn as sns; sns.set()\n",
    "ax = sns.heatmap(final_data[num_col].corr())"
   ]
  },
  {
   "cell_type": "code",
   "execution_count": 300,
   "metadata": {},
   "outputs": [],
   "source": [
    "plotting_data=car_data.copy()\n",
    "plotting_data.dropna(inplace=True)"
   ]
  },
  {
   "cell_type": "markdown",
   "metadata": {},
   "source": [
    "## Understanding histogram of categorical variables"
   ]
  },
  {
   "cell_type": "code",
   "execution_count": 310,
   "metadata": {},
   "outputs": [
    {
     "name": "stdout",
     "output_type": "stream",
     "text": [
      "abtest\n",
      "test       68421\n",
      "control    63343\n",
      "Name: abtest, dtype: int64\n"
     ]
    },
    {
     "data": {
      "image/png": "[encoded data removed]",
      "text/plain": [
       "<Figure size 360x216 with 1 Axes>"
      ]
     },
     "metadata": {},
     "output_type": "display_data"
    },
    {
     "name": "stdout",
     "output_type": "stream",
     "text": [
      "vehicleType\n",
      "limousine     38476\n",
      "kleinwagen    29792\n",
      "kombi         27064\n",
      "bus           12606\n",
      "cabrio         9492\n",
      "Name: vehicleType, dtype: int64\n"
     ]
    },
    {
     "data": {
      "image/png": "[encoded data removed]",
      "text/plain": [
       "<Figure size 360x216 with 1 Axes>"
      ]
     },
     "metadata": {},
     "output_type": "display_data"
    },
    {
     "name": "stdout",
     "output_type": "stream",
     "text": [
      "gearbox\n",
      "manuell      100834\n",
      "automatik     30930\n",
      "Name: gearbox, dtype: int64\n"
     ]
    },
    {
     "data": {
      "image/png": "[encoded data removed]",
      "text/plain": [
       "<Figure size 360x216 with 1 Axes>"
      ]
     },
     "metadata": {},
     "output_type": "display_data"
    },
    {
     "name": "stdout",
     "output_type": "stream",
     "text": [
      "model\n",
      "other_cat    36960\n",
      "golf         10463\n",
      "andere       10287\n",
      "3er           7912\n",
      "polo          4467\n",
      "Name: model, dtype: int64\n"
     ]
    },
    {
     "data": {
      "image/png": "[encoded data removed]",
      "text/plain": [
       "<Figure size 360x216 with 1 Axes>"
      ]
     },
     "metadata": {},
     "output_type": "display_data"
    },
    {
     "name": "stdout",
     "output_type": "stream",
     "text": [
      "fuelType\n",
      "benzin    85265\n",
      "diesel    44137\n",
      "lpg        1939\n",
      "cng         251\n",
      "hybrid      106\n",
      "Name: fuelType, dtype: int64\n"
     ]
    },
    {
     "data": {
      "image/png": "[encoded data removed]",
      "text/plain": [
       "<Figure size 360x216 with 1 Axes>"
      ]
     },
     "metadata": {},
     "output_type": "display_data"
    },
    {
     "name": "stdout",
     "output_type": "stream",
     "text": [
      "brand\n",
      "volkswagen       27221\n",
      "bmw              15386\n",
      "mercedes_benz    13724\n",
      "opel             13246\n",
      "audi             12518\n",
      "Name: brand, dtype: int64\n"
     ]
    },
    {
     "data": {
      "image/png": "[encoded data removed]",
      "text/plain": [
       "<Figure size 360x216 with 1 Axes>"
      ]
     },
     "metadata": {},
     "output_type": "display_data"
    },
    {
     "name": "stdout",
     "output_type": "stream",
     "text": [
      "notRepairedDamage\n",
      "nein    118150\n",
      "ja       13614\n",
      "Name: notRepairedDamage, dtype: int64\n"
     ]
    },
    {
     "data": {
      "image/png": "[encoded data removed]",
      "text/plain": [
       "<Figure size 360x216 with 1 Axes>"
      ]
     },
     "metadata": {},
     "output_type": "display_data"
    }
   ],
   "source": [
    "for c in char_col:\n",
    "    v = plotting_data[c].unique()\n",
    "    \n",
    "    g = plotting_data.groupby(by=c)[c].count().sort_values(ascending=False)\n",
    "    r = range(min(len(v), 5))\n",
    "\n",
    "    print( g.head())\n",
    "    plt.figure(figsize=(5,3))\n",
    "    plt.bar(r, g.head()) \n",
    "    #plt.xticks(r, v)\n",
    "    plt.xticks(r, g.index)\n",
    "    plt.show()"
   ]
  },
  {
   "cell_type": "markdown",
   "metadata": {},
   "source": [
    "## For normalizing target variable i have used square root transformation"
   ]
  },
  {
   "cell_type": "code",
   "execution_count": 160,
   "metadata": {},
   "outputs": [
    {
     "data": {
      "text/plain": [
       "<matplotlib.axes._subplots.AxesSubplot object at 0x00000000108100F0>"
      ]
     },
     "execution_count": 160,
     "metadata": {},
     "output_type": "execute_result"
    },
    {
     "data": {
      "image/png": "[encoded data removed]",
      "text/plain": [
       "<Figure size 432x288 with 1 Axes>"
      ]
     },
     "metadata": {},
     "output_type": "display_data"
    }
   ],
   "source": [
    "final_data.price.apply(np.sqrt).hist()"
   ]
  },
  {
   "cell_type": "code",
   "execution_count": 242,
   "metadata": {},
   "outputs": [
    {
     "name": "stderr",
     "output_type": "stream",
     "text": [
      "C:\\Users\\uesr\\Anaconda3\\lib\\site-packages\\scipy\\stats\\morestats.py:1309: UserWarning: p-value may not be accurate for N > 5000.\n",
      "  warnings.warn(\"p-value may not be accurate for N > 5000.\")\n"
     ]
    },
    {
     "data": {
      "text/plain": [
       "(0.9202556014060974, 0.0)"
      ]
     },
     "execution_count": 242,
     "metadata": {},
     "output_type": "execute_result"
    }
   ],
   "source": [
    "# from scipy import stats\n",
    "# stats.shapiro(final_data.price.apply(np.sqrt))"
   ]
  },
  {
   "cell_type": "code",
   "execution_count": 281,
   "metadata": {},
   "outputs": [],
   "source": [
    "Y = final_data['price'].apply(np.sqrt)\n",
    "X = final_data.drop(['price'], axis='columns', inplace=False)"
   ]
  },
  {
   "cell_type": "markdown",
   "metadata": {},
   "source": [
    "## Splitting data into train and test"
   ]
  },
  {
   "cell_type": "code",
   "execution_count": 282,
   "metadata": {},
   "outputs": [
    {
     "name": "stdout",
     "output_type": "stream",
     "text": [
      "(124074, 108) (53175, 108) (124074,) (53175,)\n"
     ]
    }
   ],
   "source": [
    "from sklearn.linear_model import Ridge, RidgeCV, ElasticNet, Lasso, LassoCV, LassoLarsCV\n",
    "from sklearn.model_selection import cross_val_score, train_test_split\n",
    "\n",
    "def cv_rmse(model, x, y):\n",
    "    r = np.sqrt(-cross_val_score(model, x, y, scoring=\"neg_mean_squared_error\", cv = 5))\n",
    "    return r\n",
    "\n",
    "\n",
    "test_size = .30\n",
    "\n",
    "#Split into train and validation\n",
    "X_train, X_val, y_train, y_val = train_test_split(X, Y, test_size=test_size, random_state = 3)\n",
    "print(X_train.shape, X_val.shape, y_train.shape, y_val.shape)\n"
   ]
  },
  {
   "cell_type": "markdown",
   "metadata": {},
   "source": [
    "## Linear regression with R2 of 72 %"
   ]
  },
  {
   "cell_type": "code",
   "execution_count": 283,
   "metadata": {},
   "outputs": [
    {
     "data": {
      "text/plain": [
       "0.7160135359762891"
      ]
     },
     "execution_count": 283,
     "metadata": {},
     "output_type": "execute_result"
    }
   ],
   "source": [
    "from sklearn.linear_model import LinearRegression\n",
    "reg = LinearRegression().fit(X_train, y_train)\n",
    "reg.score(X_train, y_train)"
   ]
  },
  {
   "cell_type": "markdown",
   "metadata": {},
   "source": [
    "## Calculating r square and adjusted r square for training data"
   ]
  },
  {
   "cell_type": "code",
   "execution_count": 284,
   "metadata": {},
   "outputs": [
    {
     "name": "stdout",
     "output_type": "stream",
     "text": [
      "R square is 0.716 and adjusted r square is 0.716\n"
     ]
    }
   ],
   "source": [
    "yhat = reg.predict(X_train)\n",
    "SS_Residual = sum((y_train-yhat)**2)\n",
    "SS_Total = sum((y_train-np.mean(y_train))**2)\n",
    "r_squared = 1 - (float(SS_Residual))/SS_Total\n",
    "adjusted_r_squared = 1 - (1-r_squared)*(len(y_train)-1)/(len(y_train)-X_train.shape[1]-1)\n",
    "print('R square is {:.3f} and adjusted r square is {:.3f}'.format(r_squared, adjusted_r_squared))"
   ]
  },
  {
   "cell_type": "markdown",
   "metadata": {},
   "source": [
    "## overall VIF score"
   ]
  },
  {
   "cell_type": "code",
   "execution_count": 285,
   "metadata": {},
   "outputs": [
    {
     "data": {
      "text/plain": [
       "'overall VIF for the model is 3.52'"
      ]
     },
     "execution_count": 285,
     "metadata": {},
     "output_type": "execute_result"
    }
   ],
   "source": [
    "'overall VIF for the model is {:.2f}'.format(1/(1-r_squared))"
   ]
  },
  {
   "cell_type": "code",
   "execution_count": 270,
   "metadata": {},
   "outputs": [],
   "source": [
    "from statsmodels.stats.outliers_influence import variance_inflation_factor\n",
    "vif = pd.DataFrame()\n",
    "vif[\"VIF Factor\"] = [variance_inflation_factor(X_train[num_col[1:]].values, i) for i in range(X_train[num_col[1:]].shape[1])]\n",
    "vif[\"features\"] = X[num_col[1:]].columns"
   ]
  },
  {
   "cell_type": "code",
   "execution_count": 271,
   "metadata": {},
   "outputs": [
    {
     "data": {
      "text/html": [
       "<div>\n",
       "<style scoped>\n",
       "    .dataframe tbody tr th:only-of-type {\n",
       "        vertical-align: middle;\n",
       "    }\n",
       "\n",
       "    .dataframe tbody tr th {\n",
       "        vertical-align: top;\n",
       "    }\n",
       "\n",
       "    .dataframe thead th {\n",
       "        text-align: right;\n",
       "    }\n",
       "</style>\n",
       "<table border=\"1\" class=\"dataframe\">\n",
       "  <thead>\n",
       "    <tr style=\"text-align: right;\">\n",
       "      <th></th>\n",
       "      <th>VIF Factor</th>\n",
       "      <th>features</th>\n",
       "    </tr>\n",
       "  </thead>\n",
       "  <tbody>\n",
       "    <tr>\n",
       "      <th>0</th>\n",
       "      <td>3.0</td>\n",
       "      <td>powerPS</td>\n",
       "    </tr>\n",
       "    <tr>\n",
       "      <th>1</th>\n",
       "      <td>4.4</td>\n",
       "      <td>car_age</td>\n",
       "    </tr>\n",
       "    <tr>\n",
       "      <th>2</th>\n",
       "      <td>6.6</td>\n",
       "      <td>kilometer</td>\n",
       "    </tr>\n",
       "  </tbody>\n",
       "</table>\n",
       "</div>"
      ],
      "text/plain": [
       "   VIF Factor   features\n",
       "0         3.0    powerPS\n",
       "1         4.4    car_age\n",
       "2         6.6  kilometer"
      ]
     },
     "execution_count": 271,
     "metadata": {},
     "output_type": "execute_result"
    }
   ],
   "source": [
    "vif.round(1)"
   ]
  },
  {
   "cell_type": "code",
   "execution_count": null,
   "metadata": {},
   "outputs": [],
   "source": []
  },
  {
   "cell_type": "code",
   "execution_count": 275,
   "metadata": {},
   "outputs": [
    {
     "name": "stderr",
     "output_type": "stream",
     "text": [
      "C:\\Users\\uesr\\Anaconda3\\lib\\site-packages\\statsmodels\\regression\\linear_model.py:1543: RuntimeWarning: invalid value encountered in double_scalars\n",
      "  return 1 - self.ssr/self.centered_tss\n"
     ]
    }
   ],
   "source": [
    "vif = pd.DataFrame()\n",
    "vif[\"VIF Factor\"] = [variance_inflation_factor(X_train[list(dummy_data.columns)[:50]].values, i) for i in range(X_train[list(dummy_data.columns)[:50]].shape[1])]\n",
    "vif[\"features\"] = X[list(dummy_data.columns)[:50]].columns"
   ]
  },
  {
   "cell_type": "code",
   "execution_count": 286,
   "metadata": {},
   "outputs": [
    {
     "data": {
      "text/html": [
       "<div>\n",
       "<style scoped>\n",
       "    .dataframe tbody tr th:only-of-type {\n",
       "        vertical-align: middle;\n",
       "    }\n",
       "\n",
       "    .dataframe tbody tr th {\n",
       "        vertical-align: top;\n",
       "    }\n",
       "\n",
       "    .dataframe thead th {\n",
       "        text-align: right;\n",
       "    }\n",
       "</style>\n",
       "<table border=\"1\" class=\"dataframe\">\n",
       "  <thead>\n",
       "    <tr style=\"text-align: right;\">\n",
       "      <th></th>\n",
       "      <th>VIF Factor</th>\n",
       "      <th>features</th>\n",
       "    </tr>\n",
       "  </thead>\n",
       "  <tbody>\n",
       "    <tr>\n",
       "      <th>0</th>\n",
       "      <td>3.411368e+08</td>\n",
       "      <td>abtest_control</td>\n",
       "    </tr>\n",
       "    <tr>\n",
       "      <th>1</th>\n",
       "      <td>1.538157e+08</td>\n",
       "      <td>abtest_test</td>\n",
       "    </tr>\n",
       "    <tr>\n",
       "      <th>2</th>\n",
       "      <td>NaN</td>\n",
       "      <td>abtest_nan</td>\n",
       "    </tr>\n",
       "    <tr>\n",
       "      <th>3</th>\n",
       "      <td>3.344671e+12</td>\n",
       "      <td>vehicleType_andere</td>\n",
       "    </tr>\n",
       "    <tr>\n",
       "      <th>4</th>\n",
       "      <td>1.819696e+07</td>\n",
       "      <td>vehicleType_bus</td>\n",
       "    </tr>\n",
       "    <tr>\n",
       "      <th>5</th>\n",
       "      <td>1.873339e+11</td>\n",
       "      <td>vehicleType_cabrio</td>\n",
       "    </tr>\n",
       "    <tr>\n",
       "      <th>6</th>\n",
       "      <td>3.516240e+11</td>\n",
       "      <td>vehicleType_coupe</td>\n",
       "    </tr>\n",
       "    <tr>\n",
       "      <th>7</th>\n",
       "      <td>2.444268e+10</td>\n",
       "      <td>vehicleType_kleinwagen</td>\n",
       "    </tr>\n",
       "    <tr>\n",
       "      <th>8</th>\n",
       "      <td>1.423192e+10</td>\n",
       "      <td>vehicleType_kombi</td>\n",
       "    </tr>\n",
       "    <tr>\n",
       "      <th>9</th>\n",
       "      <td>2.914216e+10</td>\n",
       "      <td>vehicleType_limousine</td>\n",
       "    </tr>\n",
       "  </tbody>\n",
       "</table>\n",
       "</div>"
      ],
      "text/plain": [
       "     VIF Factor                features\n",
       "0  3.411368e+08          abtest_control\n",
       "1  1.538157e+08             abtest_test\n",
       "2           NaN              abtest_nan\n",
       "3  3.344671e+12      vehicleType_andere\n",
       "4  1.819696e+07         vehicleType_bus\n",
       "5  1.873339e+11      vehicleType_cabrio\n",
       "6  3.516240e+11       vehicleType_coupe\n",
       "7  2.444268e+10  vehicleType_kleinwagen\n",
       "8  1.423192e+10       vehicleType_kombi\n",
       "9  2.914216e+10   vehicleType_limousine"
      ]
     },
     "execution_count": 286,
     "metadata": {},
     "output_type": "execute_result"
    }
   ],
   "source": [
    "vif.round(1).head(10)"
   ]
  },
  {
   "cell_type": "markdown",
   "metadata": {},
   "source": [
    "## sapiro wilk test for normality"
   ]
  },
  {
   "cell_type": "code",
   "execution_count": 244,
   "metadata": {},
   "outputs": [
    {
     "name": "stderr",
     "output_type": "stream",
     "text": [
      "C:\\Users\\uesr\\Anaconda3\\lib\\site-packages\\scipy\\stats\\morestats.py:1309: UserWarning: p-value may not be accurate for N > 5000.\n",
      "  warnings.warn(\"p-value may not be accurate for N > 5000.\")\n"
     ]
    },
    {
     "data": {
      "text/plain": [
       "(0.9302718043327332, 0.0)"
      ]
     },
     "execution_count": 244,
     "metadata": {},
     "output_type": "execute_result"
    }
   ],
   "source": [
    "from scipy import stats\n",
    "stats.shapiro(y_train - reg.predict(X_train))"
   ]
  },
  {
   "cell_type": "markdown",
   "metadata": {},
   "source": [
    "# Top features based on std_beta value"
   ]
  },
  {
   "cell_type": "code",
   "execution_count": 236,
   "metadata": {},
   "outputs": [
    {
     "data": {
      "text/html": [
       "<div>\n",
       "<style scoped>\n",
       "    .dataframe tbody tr th:only-of-type {\n",
       "        vertical-align: middle;\n",
       "    }\n",
       "\n",
       "    .dataframe tbody tr th {\n",
       "        vertical-align: top;\n",
       "    }\n",
       "\n",
       "    .dataframe thead th {\n",
       "        text-align: right;\n",
       "    }\n",
       "</style>\n",
       "<table border=\"1\" class=\"dataframe\">\n",
       "  <thead>\n",
       "    <tr style=\"text-align: right;\">\n",
       "      <th></th>\n",
       "      <th>var</th>\n",
       "      <th>params</th>\n",
       "    </tr>\n",
       "  </thead>\n",
       "  <tbody>\n",
       "    <tr>\n",
       "      <th>90</th>\n",
       "      <td>brand_porsche</td>\n",
       "      <td>0.068013</td>\n",
       "    </tr>\n",
       "    <tr>\n",
       "      <th>97</th>\n",
       "      <td>brand_sonstige_autos</td>\n",
       "      <td>0.037024</td>\n",
       "    </tr>\n",
       "    <tr>\n",
       "      <th>50</th>\n",
       "      <td>model_transporter</td>\n",
       "      <td>0.036462</td>\n",
       "    </tr>\n",
       "    <tr>\n",
       "      <th>82</th>\n",
       "      <td>brand_land_rover</td>\n",
       "      <td>0.032560</td>\n",
       "    </tr>\n",
       "    <tr>\n",
       "      <th>14</th>\n",
       "      <td>vehicleType_nan</td>\n",
       "      <td>0.024493</td>\n",
       "    </tr>\n",
       "    <tr>\n",
       "      <th>80</th>\n",
       "      <td>brand_lada</td>\n",
       "      <td>0.024209</td>\n",
       "    </tr>\n",
       "    <tr>\n",
       "      <th>65</th>\n",
       "      <td>brand_audi</td>\n",
       "      <td>0.022327</td>\n",
       "    </tr>\n",
       "    <tr>\n",
       "      <th>66</th>\n",
       "      <td>brand_bmw</td>\n",
       "      <td>0.021968</td>\n",
       "    </tr>\n",
       "    <tr>\n",
       "      <th>71</th>\n",
       "      <td>brand_daewoo</td>\n",
       "      <td>0.021769</td>\n",
       "    </tr>\n",
       "    <tr>\n",
       "      <th>85</th>\n",
       "      <td>brand_mini</td>\n",
       "      <td>0.021438</td>\n",
       "    </tr>\n",
       "    <tr>\n",
       "      <th>84</th>\n",
       "      <td>brand_mercedes_benz</td>\n",
       "      <td>0.020557</td>\n",
       "    </tr>\n",
       "    <tr>\n",
       "      <th>92</th>\n",
       "      <td>brand_rover</td>\n",
       "      <td>0.020341</td>\n",
       "    </tr>\n",
       "    <tr>\n",
       "      <th>8</th>\n",
       "      <td>vehicleType_cabrio</td>\n",
       "      <td>0.018307</td>\n",
       "    </tr>\n",
       "    <tr>\n",
       "      <th>26</th>\n",
       "      <td>model_a_klasse</td>\n",
       "      <td>0.018187</td>\n",
       "    </tr>\n",
       "    <tr>\n",
       "      <th>40</th>\n",
       "      <td>model_ka</td>\n",
       "      <td>0.016451</td>\n",
       "    </tr>\n",
       "    <tr>\n",
       "      <th>13</th>\n",
       "      <td>vehicleType_suv</td>\n",
       "      <td>0.015430</td>\n",
       "    </tr>\n",
       "    <tr>\n",
       "      <th>72</th>\n",
       "      <td>brand_daihatsu</td>\n",
       "      <td>0.015341</td>\n",
       "    </tr>\n",
       "    <tr>\n",
       "      <th>68</th>\n",
       "      <td>brand_chrysler</td>\n",
       "      <td>0.014890</td>\n",
       "    </tr>\n",
       "    <tr>\n",
       "      <th>77</th>\n",
       "      <td>brand_jaguar</td>\n",
       "      <td>0.014402</td>\n",
       "    </tr>\n",
       "    <tr>\n",
       "      <th>61</th>\n",
       "      <td>fuelType_hybrid</td>\n",
       "      <td>0.014381</td>\n",
       "    </tr>\n",
       "  </tbody>\n",
       "</table>\n",
       "</div>"
      ],
      "text/plain": [
       "                     var    params\n",
       "90         brand_porsche  0.068013\n",
       "97  brand_sonstige_autos  0.037024\n",
       "50     model_transporter  0.036462\n",
       "82      brand_land_rover  0.032560\n",
       "14       vehicleType_nan  0.024493\n",
       "80            brand_lada  0.024209\n",
       "65            brand_audi  0.022327\n",
       "66             brand_bmw  0.021968\n",
       "71          brand_daewoo  0.021769\n",
       "85            brand_mini  0.021438\n",
       "84   brand_mercedes_benz  0.020557\n",
       "92           brand_rover  0.020341\n",
       "8     vehicleType_cabrio  0.018307\n",
       "26        model_a_klasse  0.018187\n",
       "40              model_ka  0.016451\n",
       "13       vehicleType_suv  0.015430\n",
       "72        brand_daihatsu  0.015341\n",
       "68        brand_chrysler  0.014890\n",
       "77          brand_jaguar  0.014402\n",
       "61       fuelType_hybrid  0.014381"
      ]
     },
     "execution_count": 236,
     "metadata": {},
     "output_type": "execute_result"
    }
   ],
   "source": [
    "std_coef=abs(reg.coef_)/sum(abs(reg.coef_))\n",
    "pd.DataFrame({'var':list(X_val.columns),'params':std_coef}).sort_values(by='params',ascending=False).head(20)"
   ]
  },
  {
   "cell_type": "code",
   "execution_count": 291,
   "metadata": {},
   "outputs": [],
   "source": [
    "pd.DataFrame({'act_val':y_train,'res':res}).to_csv('./res_plot.csv',index=False)"
   ]
  },
  {
   "cell_type": "code",
   "execution_count": 227,
   "metadata": {},
   "outputs": [
    {
     "data": {
      "text/plain": [
       "<matplotlib.axes._subplots.AxesSubplot object at 0x000000001944FD68>"
      ]
     },
     "execution_count": 227,
     "metadata": {},
     "output_type": "execute_result"
    },
    {
     "data": {
      "image/png": "[encoded data removed]",
      "text/plain": [
       "<Figure size 432x288 with 1 Axes>"
      ]
     },
     "metadata": {},
     "output_type": "display_data"
    }
   ],
   "source": [
    "pd.Series(reg_coef.params/sum(reg_coef.params)).hist()"
   ]
  },
  {
   "cell_type": "code",
   "execution_count": 214,
   "metadata": {},
   "outputs": [],
   "source": [
    "pd.DataFrame({'var':list(X_val.columns),'params':reg.coef_}).to_csv('./linear_params.csv',index=False)"
   ]
  },
  {
   "cell_type": "markdown",
   "metadata": {},
   "source": [
    "## Grid search based on random forest"
   ]
  },
  {
   "cell_type": "code",
   "execution_count": 170,
   "metadata": {},
   "outputs": [
    {
     "name": "stdout",
     "output_type": "stream",
     "text": [
      "Fitting 2 folds for each of 1 candidates, totalling 2 fits\n"
     ]
    },
    {
     "name": "stderr",
     "output_type": "stream",
     "text": [
      "[Parallel(n_jobs=-1)]: Using backend LokyBackend with 4 concurrent workers.\n",
      "[Parallel(n_jobs=-1)]: Done   2 out of   2 | elapsed:  4.7min finished\n"
     ]
    }
   ],
   "source": [
    "from sklearn.ensemble import RandomForestRegressor\n",
    "from sklearn.model_selection import GridSearchCV\n",
    "\n",
    "rf = RandomForestRegressor()\n",
    "\n",
    "param_grid = { \"criterion\" : [\"mse\"]\n",
    "              , \"min_samples_leaf\" : [3]\n",
    "              , \"min_samples_split\" : [3]\n",
    "              , \"max_depth\": [10]\n",
    "              , \"n_estimators\": [500]}\n",
    "\n",
    "gs = GridSearchCV(estimator=rf, param_grid=param_grid, cv=2, n_jobs=-1, verbose=1)\n",
    "gs = gs.fit(X_train, y_train)"
   ]
  },
  {
   "cell_type": "code",
   "execution_count": 171,
   "metadata": {},
   "outputs": [
    {
     "name": "stdout",
     "output_type": "stream",
     "text": [
      "0.8470958991309735\n",
      "{'criterion': 'mse', 'max_depth': 10, 'min_samples_leaf': 3, 'min_samples_split': 3, 'n_estimators': 500}\n"
     ]
    }
   ],
   "source": [
    "print(gs.best_score_)\n",
    "print(gs.best_params_)"
   ]
  },
  {
   "cell_type": "code",
   "execution_count": 172,
   "metadata": {},
   "outputs": [
    {
     "name": "stdout",
     "output_type": "stream",
     "text": [
      "Score: 0.84\n"
     ]
    }
   ],
   "source": [
    "bp = gs.best_params_\n",
    "forest = RandomForestRegressor(criterion=bp['criterion'],\n",
    "                              min_samples_leaf=bp['min_samples_leaf'],\n",
    "                              min_samples_split=bp['min_samples_split'],\n",
    "                              max_depth=bp['max_depth'],\n",
    "                              n_estimators=bp['n_estimators'])\n",
    "forest.fit(X_train, y_train)\n",
    "# Explained variance score: 1 is perfect prediction\n",
    "print('Score: %.2f' % forest.score(X_val, y_val))"
   ]
  },
  {
   "cell_type": "markdown",
   "metadata": {},
   "source": [
    "## saving trained model."
   ]
  },
  {
   "cell_type": "code",
   "execution_count": 173,
   "metadata": {},
   "outputs": [],
   "source": [
    "with open('./rf_model.pkl', 'wb') as f:\n",
    "    pickle.dump(forest, f)\n",
    "with open('./rf_model.pkl', 'rb') as f:\n",
    "    rf = pickle.load(f)"
   ]
  },
  {
   "cell_type": "code",
   "execution_count": 174,
   "metadata": {},
   "outputs": [],
   "source": [
    "feat_dict = dict(zip(list(X_train.columns),forest.feature_importances_))"
   ]
  },
  {
   "cell_type": "code",
   "execution_count": 175,
   "metadata": {},
   "outputs": [],
   "source": [
    "sorted_dict = sorted(feat_dict.items(), key=lambda x: x[1],reverse=True)"
   ]
  },
  {
   "cell_type": "markdown",
   "metadata": {},
   "source": [
    "## top variable based on variable importance."
   ]
  },
  {
   "cell_type": "code",
   "execution_count": 181,
   "metadata": {},
   "outputs": [
    {
     "name": "stdout",
     "output_type": "stream",
     "text": [
      "feature name is car_age and importance is 0.574.\n",
      "feature name is powerPS and importance is 0.285.\n",
      "feature name is kilometer and importance is 0.042.\n",
      "feature name is vehicleType_nan and importance is 0.027.\n",
      "feature name is notRepairedDamage_nein and importance is 0.010.\n",
      "feature name is model_transporter and importance is 0.009.\n",
      "feature name is vehicleType_cabrio and importance is 0.009.\n",
      "feature name is brand_porsche and importance is 0.007.\n",
      "feature name is notRepairedDamage_ja and importance is 0.007.\n",
      "feature name is vehicleType_kleinwagen and importance is 0.004.\n",
      "feature name is fuelType_diesel and importance is 0.003.\n",
      "feature name is gearbox_automatik and importance is 0.002.\n",
      "feature name is brand_mercedes_benz and importance is 0.002.\n",
      "feature name is brand_audi and importance is 0.002.\n",
      "feature name is brand_volkswagen and importance is 0.002.\n"
     ]
    }
   ],
   "source": [
    "for item in sorted_dict[:15]:\n",
    "    print('feature name is {} and importance is {:.3f}.'.format(item[0],item[1]))"
   ]
  },
  {
   "cell_type": "code",
   "execution_count": 182,
   "metadata": {},
   "outputs": [
    {
     "data": {
      "text/html": [
       "<div>\n",
       "<style scoped>\n",
       "    .dataframe tbody tr th:only-of-type {\n",
       "        vertical-align: middle;\n",
       "    }\n",
       "\n",
       "    .dataframe tbody tr th {\n",
       "        vertical-align: top;\n",
       "    }\n",
       "\n",
       "    .dataframe thead th {\n",
       "        text-align: right;\n",
       "    }\n",
       "</style>\n",
       "<table border=\"1\" class=\"dataframe\">\n",
       "  <thead>\n",
       "    <tr style=\"text-align: right;\">\n",
       "      <th></th>\n",
       "      <th>0</th>\n",
       "      <th>1</th>\n",
       "    </tr>\n",
       "  </thead>\n",
       "  <tbody>\n",
       "    <tr>\n",
       "      <th>0</th>\n",
       "      <td>car_age</td>\n",
       "      <td>0.573998</td>\n",
       "    </tr>\n",
       "    <tr>\n",
       "      <th>1</th>\n",
       "      <td>powerPS</td>\n",
       "      <td>0.284864</td>\n",
       "    </tr>\n",
       "    <tr>\n",
       "      <th>2</th>\n",
       "      <td>kilometer</td>\n",
       "      <td>0.042334</td>\n",
       "    </tr>\n",
       "    <tr>\n",
       "      <th>3</th>\n",
       "      <td>vehicleType_nan</td>\n",
       "      <td>0.026672</td>\n",
       "    </tr>\n",
       "    <tr>\n",
       "      <th>4</th>\n",
       "      <td>notRepairedDamage_nein</td>\n",
       "      <td>0.010009</td>\n",
       "    </tr>\n",
       "    <tr>\n",
       "      <th>5</th>\n",
       "      <td>model_transporter</td>\n",
       "      <td>0.008937</td>\n",
       "    </tr>\n",
       "    <tr>\n",
       "      <th>6</th>\n",
       "      <td>vehicleType_cabrio</td>\n",
       "      <td>0.008857</td>\n",
       "    </tr>\n",
       "    <tr>\n",
       "      <th>7</th>\n",
       "      <td>brand_porsche</td>\n",
       "      <td>0.006639</td>\n",
       "    </tr>\n",
       "    <tr>\n",
       "      <th>8</th>\n",
       "      <td>notRepairedDamage_ja</td>\n",
       "      <td>0.006506</td>\n",
       "    </tr>\n",
       "    <tr>\n",
       "      <th>9</th>\n",
       "      <td>vehicleType_kleinwagen</td>\n",
       "      <td>0.003746</td>\n",
       "    </tr>\n",
       "    <tr>\n",
       "      <th>10</th>\n",
       "      <td>fuelType_diesel</td>\n",
       "      <td>0.003054</td>\n",
       "    </tr>\n",
       "    <tr>\n",
       "      <th>11</th>\n",
       "      <td>gearbox_automatik</td>\n",
       "      <td>0.002450</td>\n",
       "    </tr>\n",
       "    <tr>\n",
       "      <th>12</th>\n",
       "      <td>brand_mercedes_benz</td>\n",
       "      <td>0.002277</td>\n",
       "    </tr>\n",
       "    <tr>\n",
       "      <th>13</th>\n",
       "      <td>brand_audi</td>\n",
       "      <td>0.001994</td>\n",
       "    </tr>\n",
       "    <tr>\n",
       "      <th>14</th>\n",
       "      <td>brand_volkswagen</td>\n",
       "      <td>0.001796</td>\n",
       "    </tr>\n",
       "  </tbody>\n",
       "</table>\n",
       "</div>"
      ],
      "text/plain": [
       "                         0         1\n",
       "0                  car_age  0.573998\n",
       "1                  powerPS  0.284864\n",
       "2                kilometer  0.042334\n",
       "3          vehicleType_nan  0.026672\n",
       "4   notRepairedDamage_nein  0.010009\n",
       "5        model_transporter  0.008937\n",
       "6       vehicleType_cabrio  0.008857\n",
       "7            brand_porsche  0.006639\n",
       "8     notRepairedDamage_ja  0.006506\n",
       "9   vehicleType_kleinwagen  0.003746\n",
       "10         fuelType_diesel  0.003054\n",
       "11       gearbox_automatik  0.002450\n",
       "12     brand_mercedes_benz  0.002277\n",
       "13              brand_audi  0.001994\n",
       "14        brand_volkswagen  0.001796"
      ]
     },
     "execution_count": 182,
     "metadata": {},
     "output_type": "execute_result"
    }
   ],
   "source": [
    "pd.DataFrame(sorted_dict[:15])"
   ]
  },
  {
   "cell_type": "markdown",
   "metadata": {},
   "source": [
    "## checking rank order between predicted and actual values(Linear regression)."
   ]
  },
  {
   "cell_type": "code",
   "execution_count": 177,
   "metadata": {},
   "outputs": [
    {
     "data": {
      "text/html": [
       "<div>\n",
       "<style scoped>\n",
       "    .dataframe tbody tr th:only-of-type {\n",
       "        vertical-align: middle;\n",
       "    }\n",
       "\n",
       "    .dataframe tbody tr th {\n",
       "        vertical-align: top;\n",
       "    }\n",
       "\n",
       "    .dataframe thead th {\n",
       "        text-align: right;\n",
       "    }\n",
       "</style>\n",
       "<table border=\"1\" class=\"dataframe\">\n",
       "  <thead>\n",
       "    <tr style=\"text-align: right;\">\n",
       "      <th></th>\n",
       "      <th>price</th>\n",
       "      <th>pred_val</th>\n",
       "    </tr>\n",
       "    <tr>\n",
       "      <th>quantile</th>\n",
       "      <th></th>\n",
       "      <th></th>\n",
       "    </tr>\n",
       "  </thead>\n",
       "  <tbody>\n",
       "    <tr>\n",
       "      <th>0</th>\n",
       "      <td>18.845819</td>\n",
       "      <td>31.055769</td>\n",
       "    </tr>\n",
       "    <tr>\n",
       "      <th>1</th>\n",
       "      <td>28.993231</td>\n",
       "      <td>36.866763</td>\n",
       "    </tr>\n",
       "    <tr>\n",
       "      <th>2</th>\n",
       "      <td>36.143953</td>\n",
       "      <td>42.766538</td>\n",
       "    </tr>\n",
       "    <tr>\n",
       "      <th>3</th>\n",
       "      <td>43.198651</td>\n",
       "      <td>49.112390</td>\n",
       "    </tr>\n",
       "    <tr>\n",
       "      <th>4</th>\n",
       "      <td>51.943443</td>\n",
       "      <td>57.124594</td>\n",
       "    </tr>\n",
       "    <tr>\n",
       "      <th>5</th>\n",
       "      <td>62.080275</td>\n",
       "      <td>64.861547</td>\n",
       "    </tr>\n",
       "    <tr>\n",
       "      <th>6</th>\n",
       "      <td>73.768068</td>\n",
       "      <td>72.890793</td>\n",
       "    </tr>\n",
       "    <tr>\n",
       "      <th>7</th>\n",
       "      <td>87.685495</td>\n",
       "      <td>83.158730</td>\n",
       "    </tr>\n",
       "    <tr>\n",
       "      <th>8</th>\n",
       "      <td>107.686499</td>\n",
       "      <td>96.281363</td>\n",
       "    </tr>\n",
       "    <tr>\n",
       "      <th>9</th>\n",
       "      <td>148.836146</td>\n",
       "      <td>121.978767</td>\n",
       "    </tr>\n",
       "  </tbody>\n",
       "</table>\n",
       "</div>"
      ],
      "text/plain": [
       "               price    pred_val\n",
       "quantile                        \n",
       "0          18.845819   31.055769\n",
       "1          28.993231   36.866763\n",
       "2          36.143953   42.766538\n",
       "3          43.198651   49.112390\n",
       "4          51.943443   57.124594\n",
       "5          62.080275   64.861547\n",
       "6          73.768068   72.890793\n",
       "7          87.685495   83.158730\n",
       "8         107.686499   96.281363\n",
       "9         148.836146  121.978767"
      ]
     },
     "execution_count": 177,
     "metadata": {},
     "output_type": "execute_result"
    }
   ],
   "source": [
    "test_data=pd.concat([X_val, y_val],axis=1)\n",
    "\n",
    "test_data['quantile'] = pd.qcut(test_data.price, 10, labels=False)\n",
    "\n",
    "act_val=test_data.groupby('quantile').price.mean()\n",
    "\n",
    "test_data['pred_val']=reg.predict(X_val)\n",
    "\n",
    "preds=test_data.groupby('quantile').pred_val.mean()\n",
    "\n",
    "pd.concat([act_val,preds],axis=1)"
   ]
  },
  {
   "cell_type": "markdown",
   "metadata": {},
   "source": [
    "## checking rank order between predicted and actual values(Random forest)."
   ]
  },
  {
   "cell_type": "code",
   "execution_count": 178,
   "metadata": {},
   "outputs": [
    {
     "data": {
      "text/html": [
       "<div>\n",
       "<style scoped>\n",
       "    .dataframe tbody tr th:only-of-type {\n",
       "        vertical-align: middle;\n",
       "    }\n",
       "\n",
       "    .dataframe tbody tr th {\n",
       "        vertical-align: top;\n",
       "    }\n",
       "\n",
       "    .dataframe thead th {\n",
       "        text-align: right;\n",
       "    }\n",
       "</style>\n",
       "<table border=\"1\" class=\"dataframe\">\n",
       "  <thead>\n",
       "    <tr style=\"text-align: right;\">\n",
       "      <th></th>\n",
       "      <th>price</th>\n",
       "      <th>pred_val</th>\n",
       "    </tr>\n",
       "    <tr>\n",
       "      <th>quantile</th>\n",
       "      <th></th>\n",
       "      <th></th>\n",
       "    </tr>\n",
       "  </thead>\n",
       "  <tbody>\n",
       "    <tr>\n",
       "      <th>0</th>\n",
       "      <td>18.845819</td>\n",
       "      <td>31.713226</td>\n",
       "    </tr>\n",
       "    <tr>\n",
       "      <th>1</th>\n",
       "      <td>28.993231</td>\n",
       "      <td>34.673909</td>\n",
       "    </tr>\n",
       "    <tr>\n",
       "      <th>2</th>\n",
       "      <td>36.143953</td>\n",
       "      <td>39.094776</td>\n",
       "    </tr>\n",
       "    <tr>\n",
       "      <th>3</th>\n",
       "      <td>43.198651</td>\n",
       "      <td>44.282120</td>\n",
       "    </tr>\n",
       "    <tr>\n",
       "      <th>4</th>\n",
       "      <td>51.943443</td>\n",
       "      <td>51.863865</td>\n",
       "    </tr>\n",
       "    <tr>\n",
       "      <th>5</th>\n",
       "      <td>62.080275</td>\n",
       "      <td>60.631266</td>\n",
       "    </tr>\n",
       "    <tr>\n",
       "      <th>6</th>\n",
       "      <td>73.768068</td>\n",
       "      <td>71.289080</td>\n",
       "    </tr>\n",
       "    <tr>\n",
       "      <th>7</th>\n",
       "      <td>87.685495</td>\n",
       "      <td>84.535979</td>\n",
       "    </tr>\n",
       "    <tr>\n",
       "      <th>8</th>\n",
       "      <td>107.686499</td>\n",
       "      <td>103.107686</td>\n",
       "    </tr>\n",
       "    <tr>\n",
       "      <th>9</th>\n",
       "      <td>148.836146</td>\n",
       "      <td>135.899045</td>\n",
       "    </tr>\n",
       "  </tbody>\n",
       "</table>\n",
       "</div>"
      ],
      "text/plain": [
       "               price    pred_val\n",
       "quantile                        \n",
       "0          18.845819   31.713226\n",
       "1          28.993231   34.673909\n",
       "2          36.143953   39.094776\n",
       "3          43.198651   44.282120\n",
       "4          51.943443   51.863865\n",
       "5          62.080275   60.631266\n",
       "6          73.768068   71.289080\n",
       "7          87.685495   84.535979\n",
       "8         107.686499  103.107686\n",
       "9         148.836146  135.899045"
      ]
     },
     "execution_count": 178,
     "metadata": {},
     "output_type": "execute_result"
    }
   ],
   "source": [
    "test_data=pd.concat([X_val, y_val],axis=1)\n",
    "\n",
    "test_data['quantile'] = pd.qcut(test_data.price, 10, labels=False)\n",
    "\n",
    "act_val=test_data.groupby('quantile').price.mean()\n",
    "\n",
    "test_data['pred_val']=forest.predict(X_val)\n",
    "\n",
    "preds=test_data.groupby('quantile').pred_val.mean()\n",
    "\n",
    "pd.concat([act_val,preds],axis=1)"
   ]
  },
  {
   "cell_type": "code",
   "execution_count": null,
   "metadata": {},
   "outputs": [],
   "source": []
  },
  {
   "cell_type": "code",
   "execution_count": null,
   "metadata": {},
   "outputs": [],
   "source": []
  },
  {
   "cell_type": "code",
   "execution_count": null,
   "metadata": {},
   "outputs": [],
   "source": []
  },
  {
   "cell_type": "code",
   "execution_count": null,
   "metadata": {},
   "outputs": [],
   "source": []
  }
 ],
 "metadata": {
  "kernelspec": {
   "display_name": "Python 3",
   "language": "python",
   "name": "python3"
  },
  "language_info": {
   "codemirror_mode": {
    "name": "ipython",
    "version": 3
   },
   "file_extension": ".py",
   "mimetype": "text/x-python",
   "name": "python",
   "nbconvert_exporter": "python",
   "pygments_lexer": "ipython3",
   "version": "3.6.5"
  }
 },
 "nbformat": 4,
 "nbformat_minor": 2
}
