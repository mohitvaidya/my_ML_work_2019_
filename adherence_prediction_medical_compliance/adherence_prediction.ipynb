{
 "cells": [
  {
   "cell_type": "markdown",
   "metadata": {},
   "source": [
    "## Below notebook has been divided into two major section -- modelling with/ without under-sampling. \n",
    "### Key steps\n",
    "- Dummy variable creation for categorical variables\n",
    "- Logistic modelling and tuning\n",
    "- Random forest modelling and tuning\n",
    "- Grad boost modelling and tuning\n",
    "- Neural net modelling and tuning\n",
    "- Evaluation on test set "
   ]
  },
  {
   "cell_type": "code",
   "execution_count": 257,
   "metadata": {},
   "outputs": [],
   "source": [
    "import pandas as pd\n",
    "import numpy as np\n",
    "import pickle as pkl\n",
    "import keras\n",
    "from keras.layers import merge, Input,InputLayer\n",
    "from keras.engine import InputLayer\n",
    "from keras.layers import Dense, Activation\n",
    "from keras.layers.core import Activation, Dense, Flatten\n",
    "from keras.models import Sequential\n",
    "from keras.layers import Dense\n",
    "from keras.utils import np_utils\n",
    "from sklearn.model_selection import train_test_split\n",
    "from sklearn.linear_model import LogisticRegression\n",
    "from sklearn.metrics import classification_report\n",
    "from sklearn.ensemble import GradientBoostingClassifier"
   ]
  },
  {
   "cell_type": "code",
   "execution_count": 258,
   "metadata": {},
   "outputs": [],
   "source": [
    "data=pd.read_csv('./Training Data.csv')"
   ]
  },
  {
   "cell_type": "code",
   "execution_count": 259,
   "metadata": {},
   "outputs": [
    {
     "data": {
      "text/plain": [
       "patient_id              int64\n",
       "Age                     int64\n",
       "Gender                 object\n",
       "Prescription_period     int64\n",
       "Diabetes                int64\n",
       "Alcoholism              int64\n",
       "HyperTension            int64\n",
       "Smokes                  int64\n",
       "Tuberculosis            int64\n",
       "Sms_Reminder            int64\n",
       "Adherence              object\n",
       "dtype: object"
      ]
     },
     "execution_count": 259,
     "metadata": {},
     "output_type": "execute_result"
    }
   ],
   "source": [
    "data.dtypes"
   ]
  },
  {
   "cell_type": "code",
   "execution_count": 260,
   "metadata": {},
   "outputs": [
    {
     "data": {
      "text/plain": [
       "No     0.698189\n",
       "Yes    0.301811\n",
       "Name: Adherence, dtype: float64"
      ]
     },
     "execution_count": 260,
     "metadata": {},
     "output_type": "execute_result"
    }
   ],
   "source": [
    "data.Adherence.value_counts()/len(data.Adherence)"
   ]
  },
  {
   "cell_type": "code",
   "execution_count": 261,
   "metadata": {},
   "outputs": [
    {
     "data": {
      "text/html": [
       "<div>\n",
       "<style scoped>\n",
       "    .dataframe tbody tr th:only-of-type {\n",
       "        vertical-align: middle;\n",
       "    }\n",
       "\n",
       "    .dataframe tbody tr th {\n",
       "        vertical-align: top;\n",
       "    }\n",
       "\n",
       "    .dataframe thead th {\n",
       "        text-align: right;\n",
       "    }\n",
       "</style>\n",
       "<table border=\"1\" class=\"dataframe\">\n",
       "  <thead>\n",
       "    <tr style=\"text-align: right;\">\n",
       "      <th></th>\n",
       "      <th>patient_id</th>\n",
       "      <th>Age</th>\n",
       "      <th>Gender</th>\n",
       "      <th>Prescription_period</th>\n",
       "      <th>Diabetes</th>\n",
       "      <th>Alcoholism</th>\n",
       "      <th>HyperTension</th>\n",
       "      <th>Smokes</th>\n",
       "      <th>Tuberculosis</th>\n",
       "      <th>Sms_Reminder</th>\n",
       "      <th>Adherence</th>\n",
       "    </tr>\n",
       "  </thead>\n",
       "  <tbody>\n",
       "    <tr>\n",
       "      <th>0</th>\n",
       "      <td>1</td>\n",
       "      <td>19</td>\n",
       "      <td>M</td>\n",
       "      <td>7</td>\n",
       "      <td>0</td>\n",
       "      <td>0</td>\n",
       "      <td>0</td>\n",
       "      <td>0</td>\n",
       "      <td>0</td>\n",
       "      <td>0</td>\n",
       "      <td>No</td>\n",
       "    </tr>\n",
       "    <tr>\n",
       "      <th>1</th>\n",
       "      <td>2</td>\n",
       "      <td>24</td>\n",
       "      <td>F</td>\n",
       "      <td>59</td>\n",
       "      <td>0</td>\n",
       "      <td>0</td>\n",
       "      <td>0</td>\n",
       "      <td>0</td>\n",
       "      <td>0</td>\n",
       "      <td>0</td>\n",
       "      <td>No</td>\n",
       "    </tr>\n",
       "    <tr>\n",
       "      <th>2</th>\n",
       "      <td>3</td>\n",
       "      <td>4</td>\n",
       "      <td>F</td>\n",
       "      <td>43</td>\n",
       "      <td>0</td>\n",
       "      <td>0</td>\n",
       "      <td>0</td>\n",
       "      <td>0</td>\n",
       "      <td>0</td>\n",
       "      <td>0</td>\n",
       "      <td>No</td>\n",
       "    </tr>\n",
       "    <tr>\n",
       "      <th>3</th>\n",
       "      <td>4</td>\n",
       "      <td>38</td>\n",
       "      <td>M</td>\n",
       "      <td>66</td>\n",
       "      <td>0</td>\n",
       "      <td>0</td>\n",
       "      <td>0</td>\n",
       "      <td>0</td>\n",
       "      <td>0</td>\n",
       "      <td>1</td>\n",
       "      <td>No</td>\n",
       "    </tr>\n",
       "    <tr>\n",
       "      <th>4</th>\n",
       "      <td>5</td>\n",
       "      <td>46</td>\n",
       "      <td>F</td>\n",
       "      <td>98</td>\n",
       "      <td>0</td>\n",
       "      <td>0</td>\n",
       "      <td>0</td>\n",
       "      <td>0</td>\n",
       "      <td>0</td>\n",
       "      <td>1</td>\n",
       "      <td>No</td>\n",
       "    </tr>\n",
       "  </tbody>\n",
       "</table>\n",
       "</div>"
      ],
      "text/plain": [
       "   patient_id  Age Gender  Prescription_period  Diabetes  Alcoholism  \\\n",
       "0           1   19      M                    7         0           0   \n",
       "1           2   24      F                   59         0           0   \n",
       "2           3    4      F                   43         0           0   \n",
       "3           4   38      M                   66         0           0   \n",
       "4           5   46      F                   98         0           0   \n",
       "\n",
       "   HyperTension  Smokes  Tuberculosis  Sms_Reminder Adherence  \n",
       "0             0       0             0             0        No  \n",
       "1             0       0             0             0        No  \n",
       "2             0       0             0             0        No  \n",
       "3             0       0             0             1        No  \n",
       "4             0       0             0             1        No  "
      ]
     },
     "execution_count": 261,
     "metadata": {},
     "output_type": "execute_result"
    }
   ],
   "source": [
    "data.head()"
   ]
  },
  {
   "cell_type": "code",
   "execution_count": 262,
   "metadata": {},
   "outputs": [
    {
     "data": {
      "text/html": [
       "<div>\n",
       "<style scoped>\n",
       "    .dataframe tbody tr th:only-of-type {\n",
       "        vertical-align: middle;\n",
       "    }\n",
       "\n",
       "    .dataframe tbody tr th {\n",
       "        vertical-align: top;\n",
       "    }\n",
       "\n",
       "    .dataframe thead th {\n",
       "        text-align: right;\n",
       "    }\n",
       "</style>\n",
       "<table border=\"1\" class=\"dataframe\">\n",
       "  <thead>\n",
       "    <tr style=\"text-align: right;\">\n",
       "      <th></th>\n",
       "      <th>patient_id</th>\n",
       "      <th>Age</th>\n",
       "      <th>Prescription_period</th>\n",
       "      <th>Diabetes</th>\n",
       "      <th>Alcoholism</th>\n",
       "      <th>HyperTension</th>\n",
       "      <th>Smokes</th>\n",
       "      <th>Tuberculosis</th>\n",
       "      <th>Sms_Reminder</th>\n",
       "    </tr>\n",
       "  </thead>\n",
       "  <tbody>\n",
       "    <tr>\n",
       "      <th>count</th>\n",
       "      <td>180212.000000</td>\n",
       "      <td>180212.000000</td>\n",
       "      <td>180212.000000</td>\n",
       "      <td>180212.000000</td>\n",
       "      <td>180212.000000</td>\n",
       "      <td>180212.000000</td>\n",
       "      <td>180212.000000</td>\n",
       "      <td>180212.000000</td>\n",
       "      <td>180212.000000</td>\n",
       "    </tr>\n",
       "    <tr>\n",
       "      <th>mean</th>\n",
       "      <td>90106.500000</td>\n",
       "      <td>37.795363</td>\n",
       "      <td>54.668485</td>\n",
       "      <td>0.078524</td>\n",
       "      <td>0.025043</td>\n",
       "      <td>0.216512</td>\n",
       "      <td>0.052566</td>\n",
       "      <td>0.000338</td>\n",
       "      <td>0.573968</td>\n",
       "    </tr>\n",
       "    <tr>\n",
       "      <th>std</th>\n",
       "      <td>52022.867693</td>\n",
       "      <td>22.852072</td>\n",
       "      <td>35.752491</td>\n",
       "      <td>0.268995</td>\n",
       "      <td>0.156255</td>\n",
       "      <td>0.411868</td>\n",
       "      <td>0.223166</td>\n",
       "      <td>0.018395</td>\n",
       "      <td>0.499824</td>\n",
       "    </tr>\n",
       "    <tr>\n",
       "      <th>min</th>\n",
       "      <td>1.000000</td>\n",
       "      <td>0.000000</td>\n",
       "      <td>1.000000</td>\n",
       "      <td>0.000000</td>\n",
       "      <td>0.000000</td>\n",
       "      <td>0.000000</td>\n",
       "      <td>0.000000</td>\n",
       "      <td>0.000000</td>\n",
       "      <td>0.000000</td>\n",
       "    </tr>\n",
       "    <tr>\n",
       "      <th>25%</th>\n",
       "      <td>45053.750000</td>\n",
       "      <td>19.000000</td>\n",
       "      <td>22.000000</td>\n",
       "      <td>0.000000</td>\n",
       "      <td>0.000000</td>\n",
       "      <td>0.000000</td>\n",
       "      <td>0.000000</td>\n",
       "      <td>0.000000</td>\n",
       "      <td>0.000000</td>\n",
       "    </tr>\n",
       "    <tr>\n",
       "      <th>50%</th>\n",
       "      <td>90106.500000</td>\n",
       "      <td>38.000000</td>\n",
       "      <td>51.000000</td>\n",
       "      <td>0.000000</td>\n",
       "      <td>0.000000</td>\n",
       "      <td>0.000000</td>\n",
       "      <td>0.000000</td>\n",
       "      <td>0.000000</td>\n",
       "      <td>1.000000</td>\n",
       "    </tr>\n",
       "    <tr>\n",
       "      <th>75%</th>\n",
       "      <td>135159.250000</td>\n",
       "      <td>56.000000</td>\n",
       "      <td>86.000000</td>\n",
       "      <td>0.000000</td>\n",
       "      <td>0.000000</td>\n",
       "      <td>0.000000</td>\n",
       "      <td>0.000000</td>\n",
       "      <td>0.000000</td>\n",
       "      <td>1.000000</td>\n",
       "    </tr>\n",
       "    <tr>\n",
       "      <th>max</th>\n",
       "      <td>180212.000000</td>\n",
       "      <td>113.000000</td>\n",
       "      <td>120.000000</td>\n",
       "      <td>1.000000</td>\n",
       "      <td>1.000000</td>\n",
       "      <td>1.000000</td>\n",
       "      <td>1.000000</td>\n",
       "      <td>1.000000</td>\n",
       "      <td>2.000000</td>\n",
       "    </tr>\n",
       "  </tbody>\n",
       "</table>\n",
       "</div>"
      ],
      "text/plain": [
       "          patient_id            Age  Prescription_period       Diabetes  \\\n",
       "count  180212.000000  180212.000000        180212.000000  180212.000000   \n",
       "mean    90106.500000      37.795363            54.668485       0.078524   \n",
       "std     52022.867693      22.852072            35.752491       0.268995   \n",
       "min         1.000000       0.000000             1.000000       0.000000   \n",
       "25%     45053.750000      19.000000            22.000000       0.000000   \n",
       "50%     90106.500000      38.000000            51.000000       0.000000   \n",
       "75%    135159.250000      56.000000            86.000000       0.000000   \n",
       "max    180212.000000     113.000000           120.000000       1.000000   \n",
       "\n",
       "          Alcoholism   HyperTension         Smokes   Tuberculosis  \\\n",
       "count  180212.000000  180212.000000  180212.000000  180212.000000   \n",
       "mean        0.025043       0.216512       0.052566       0.000338   \n",
       "std         0.156255       0.411868       0.223166       0.018395   \n",
       "min         0.000000       0.000000       0.000000       0.000000   \n",
       "25%         0.000000       0.000000       0.000000       0.000000   \n",
       "50%         0.000000       0.000000       0.000000       0.000000   \n",
       "75%         0.000000       0.000000       0.000000       0.000000   \n",
       "max         1.000000       1.000000       1.000000       1.000000   \n",
       "\n",
       "        Sms_Reminder  \n",
       "count  180212.000000  \n",
       "mean        0.573968  \n",
       "std         0.499824  \n",
       "min         0.000000  \n",
       "25%         0.000000  \n",
       "50%         1.000000  \n",
       "75%         1.000000  \n",
       "max         2.000000  "
      ]
     },
     "execution_count": 262,
     "metadata": {},
     "output_type": "execute_result"
    }
   ],
   "source": [
    "data.describe()"
   ]
  },
  {
   "cell_type": "code",
   "execution_count": 263,
   "metadata": {},
   "outputs": [],
   "source": [
    "char_col=[]\n",
    "num_col=[]\n",
    "for col in data.drop(labels=['patient_id'],axis=1,inplace=False).columns:\n",
    "    if len(data[col].value_counts()) < 5:\n",
    "        char_col.append(col)\n",
    "    else:\n",
    "        num_col.append(col)"
   ]
  },
  {
   "cell_type": "code",
   "execution_count": 264,
   "metadata": {},
   "outputs": [
    {
     "data": {
      "text/plain": [
       "Index(['patient_id', 'Age', 'Gender', 'Prescription_period', 'Diabetes',\n",
       "       'Alcoholism', 'HyperTension', 'Smokes', 'Tuberculosis', 'Sms_Reminder',\n",
       "       'Adherence'],\n",
       "      dtype='object')"
      ]
     },
     "execution_count": 264,
     "metadata": {},
     "output_type": "execute_result"
    }
   ],
   "source": [
    "data.columns"
   ]
  },
  {
   "cell_type": "code",
   "execution_count": 265,
   "metadata": {},
   "outputs": [
    {
     "data": {
      "text/plain": [
       "['Gender',\n",
       " 'Diabetes',\n",
       " 'Alcoholism',\n",
       " 'HyperTension',\n",
       " 'Smokes',\n",
       " 'Tuberculosis',\n",
       " 'Sms_Reminder',\n",
       " 'Adherence']"
      ]
     },
     "execution_count": 265,
     "metadata": {},
     "output_type": "execute_result"
    }
   ],
   "source": [
    "char_col"
   ]
  },
  {
   "cell_type": "code",
   "execution_count": 266,
   "metadata": {},
   "outputs": [],
   "source": [
    "char_col.remove('Adherence')"
   ]
  },
  {
   "cell_type": "code",
   "execution_count": 267,
   "metadata": {},
   "outputs": [],
   "source": [
    "data=pd.get_dummies(data,columns=char_col)"
   ]
  },
  {
   "cell_type": "code",
   "execution_count": 268,
   "metadata": {},
   "outputs": [],
   "source": [
    "data.Adherence=data.Adherence.map({'No':0,'Yes':1})"
   ]
  },
  {
   "cell_type": "code",
   "execution_count": 269,
   "metadata": {},
   "outputs": [
    {
     "data": {
      "text/plain": [
       "0    125822\n",
       "1     54390\n",
       "Name: Adherence, dtype: int64"
      ]
     },
     "execution_count": 269,
     "metadata": {},
     "output_type": "execute_result"
    }
   ],
   "source": [
    "data.Adherence.value_counts()"
   ]
  },
  {
   "cell_type": "code",
   "execution_count": 270,
   "metadata": {},
   "outputs": [],
   "source": [
    "final_data=data"
   ]
  },
  {
   "cell_type": "code",
   "execution_count": 271,
   "metadata": {},
   "outputs": [
    {
     "data": {
      "text/plain": [
       "Index(['patient_id', 'Age', 'Prescription_period', 'Adherence', 'Gender_F',\n",
       "       'Gender_M', 'Diabetes_0', 'Diabetes_1', 'Alcoholism_0', 'Alcoholism_1',\n",
       "       'HyperTension_0', 'HyperTension_1', 'Smokes_0', 'Smokes_1',\n",
       "       'Tuberculosis_0', 'Tuberculosis_1', 'Sms_Reminder_0', 'Sms_Reminder_1',\n",
       "       'Sms_Reminder_2'],\n",
       "      dtype='object')"
      ]
     },
     "execution_count": 271,
     "metadata": {},
     "output_type": "execute_result"
    }
   ],
   "source": [
    "final_data.columns"
   ]
  },
  {
   "cell_type": "code",
   "execution_count": 272,
   "metadata": {},
   "outputs": [],
   "source": [
    "\n",
    "X_train_, X_test_, y_train_, y_test_ = train_test_split(final_data.drop(labels=['patient_id','Adherence'],axis=1,inplace=False), final_data.Adherence, test_size=0.3, random_state=101)"
   ]
  },
  {
   "cell_type": "code",
   "execution_count": 273,
   "metadata": {},
   "outputs": [
    {
     "name": "stderr",
     "output_type": "stream",
     "text": [
      "/home/quantiphi/.local/lib/python3.5/site-packages/sklearn/linear_model/logistic.py:433: FutureWarning: Default solver will be changed to 'lbfgs' in 0.22. Specify a solver to silence this warning.\n",
      "  FutureWarning)\n"
     ]
    },
    {
     "data": {
      "text/plain": [
       "LogisticRegression(C=1.0, class_weight=None, dual=False, fit_intercept=True,\n",
       "          intercept_scaling=1, max_iter=100, multi_class='warn',\n",
       "          n_jobs=None, penalty='l2', random_state=None, solver='warn',\n",
       "          tol=0.0001, verbose=0, warm_start=False)"
      ]
     },
     "execution_count": 273,
     "metadata": {},
     "output_type": "execute_result"
    }
   ],
   "source": [
    "logisticRegr = LogisticRegression()\n",
    "logisticRegr.fit(X_train_, y_train_)"
   ]
  },
  {
   "cell_type": "markdown",
   "metadata": {},
   "source": [
    "## train set result "
   ]
  },
  {
   "cell_type": "code",
   "execution_count": 274,
   "metadata": {},
   "outputs": [
    {
     "data": {
      "text/plain": [
       "0.8810127786409614"
      ]
     },
     "execution_count": 274,
     "metadata": {},
     "output_type": "execute_result"
    }
   ],
   "source": [
    "logisticRegr.score(X_train_, y_train_)"
   ]
  },
  {
   "cell_type": "code",
   "execution_count": 275,
   "metadata": {},
   "outputs": [],
   "source": [
    "preds=logisticRegr.predict_proba(X_test_)\n",
    "\n",
    "preds=pd.Series(preds[:,1])"
   ]
  },
  {
   "cell_type": "markdown",
   "metadata": {},
   "source": [
    "##  test set result"
   ]
  },
  {
   "cell_type": "code",
   "execution_count": 276,
   "metadata": {
    "scrolled": true
   },
   "outputs": [
    {
     "name": "stdout",
     "output_type": "stream",
     "text": [
      "              precision    recall  f1-score   support\n",
      "\n",
      "           0       0.94      0.89      0.91     37736\n",
      "           1       0.77      0.87      0.81     16328\n",
      "\n",
      "   micro avg       0.88      0.88      0.88     54064\n",
      "   macro avg       0.85      0.88      0.86     54064\n",
      "weighted avg       0.89      0.88      0.88     54064\n",
      "\n"
     ]
    },
    {
     "data": {
      "text/plain": [
       "0.8784218703758508"
      ]
     },
     "execution_count": 276,
     "metadata": {},
     "output_type": "execute_result"
    }
   ],
   "source": [
    "print(classification_report(y_test_,pd.Series(np.where(preds>0.45,1,0))))\n",
    "\n",
    "logisticRegr.score(X_test_, y_test_)"
   ]
  },
  {
   "cell_type": "markdown",
   "metadata": {},
   "source": [
    "## Gradient boosting classifier"
   ]
  },
  {
   "cell_type": "code",
   "execution_count": 277,
   "metadata": {},
   "outputs": [
    {
     "name": "stdout",
     "output_type": "stream",
     "text": [
      "      Iter       Train Loss   Remaining Time \n",
      "         1           1.1117           13.71s\n",
      "         2           1.0236           13.93s\n",
      "         3           0.9528           13.07s\n",
      "         4           0.8949           12.86s\n",
      "         5           0.8470           12.74s\n",
      "         6           0.8071           12.93s\n",
      "         7           0.7736           12.84s\n",
      "         8           0.7453           12.91s\n",
      "         9           0.7215           12.78s\n",
      "        10           0.7013           12.53s\n",
      "        20           0.6106           10.81s\n",
      "        30           0.5937            9.20s\n",
      "        40           0.5907            7.74s\n",
      "        50           0.5899            6.31s\n",
      "        60           0.5895            4.93s\n",
      "        70           0.5892            3.61s\n",
      "        80           0.5889            2.39s\n",
      "        90           0.5886            1.19s\n",
      "       100           0.5884            0.00s\n"
     ]
    },
    {
     "data": {
      "text/plain": [
       "0.8954323493039922"
      ]
     },
     "execution_count": 277,
     "metadata": {},
     "output_type": "execute_result"
    }
   ],
   "source": [
    "gbc=GradientBoostingClassifier(learning_rate=0.1,verbose=True)\n",
    "\n",
    "gbc.fit(X_train_,y_train_)\n",
    "gbc.score(X_train_,y_train_)"
   ]
  },
  {
   "cell_type": "markdown",
   "metadata": {},
   "source": [
    "##  test set result"
   ]
  },
  {
   "cell_type": "code",
   "execution_count": 278,
   "metadata": {},
   "outputs": [
    {
     "data": {
      "text/plain": [
       "0.8923128144421426"
      ]
     },
     "execution_count": 278,
     "metadata": {},
     "output_type": "execute_result"
    }
   ],
   "source": [
    "gbc.score(X_test_,y_test_)"
   ]
  },
  {
   "cell_type": "markdown",
   "metadata": {},
   "source": [
    "## Precision, Recall and F1 Score"
   ]
  },
  {
   "cell_type": "code",
   "execution_count": 279,
   "metadata": {},
   "outputs": [
    {
     "name": "stdout",
     "output_type": "stream",
     "text": [
      "              precision    recall  f1-score   support\n",
      "\n",
      "           0       0.95      0.89      0.92     37736\n",
      "           1       0.78      0.89      0.83     16328\n",
      "\n",
      "   micro avg       0.89      0.89      0.89     54064\n",
      "   macro avg       0.87      0.89      0.88     54064\n",
      "weighted avg       0.90      0.89      0.89     54064\n",
      "\n"
     ]
    }
   ],
   "source": [
    "print(classification_report(y_test_,pd.Series(gbc.predict(X_test_))))"
   ]
  },
  {
   "cell_type": "code",
   "execution_count": 280,
   "metadata": {},
   "outputs": [
    {
     "data": {
      "text/plain": [
       "(126148, 17)"
      ]
     },
     "execution_count": 280,
     "metadata": {},
     "output_type": "execute_result"
    }
   ],
   "source": [
    "X_train_.shape"
   ]
  },
  {
   "cell_type": "code",
   "execution_count": 281,
   "metadata": {},
   "outputs": [],
   "source": [
    "var_imp=dict(zip(X_train_.columns,gbc.feature_importances_))\n",
    "\n",
    "var_imp_sorted=sorted(var_imp.items(),key=lambda x : x[1],reverse=True)"
   ]
  },
  {
   "cell_type": "code",
   "execution_count": 282,
   "metadata": {},
   "outputs": [
    {
     "name": "stdout",
     "output_type": "stream",
     "text": [
      "variable name is Prescription_period and importance is 0.9913\n",
      "variable name is Age and importance is 0.0075\n",
      "variable name is Smokes_0 and importance is 0.0003\n",
      "variable name is Alcoholism_1 and importance is 0.0002\n",
      "variable name is Alcoholism_0 and importance is 0.0002\n",
      "variable name is Smokes_1 and importance is 0.0001\n"
     ]
    }
   ],
   "source": [
    "for i in var_imp_sorted[:6]:\n",
    "    print('variable name is {} and importance is {:,.4f}'.format(i[0],i[1]))"
   ]
  },
  {
   "cell_type": "code",
   "execution_count": null,
   "metadata": {},
   "outputs": [],
   "source": []
  },
  {
   "cell_type": "markdown",
   "metadata": {},
   "source": [
    "## random forest classifier "
   ]
  },
  {
   "cell_type": "code",
   "execution_count": 283,
   "metadata": {},
   "outputs": [
    {
     "name": "stderr",
     "output_type": "stream",
     "text": [
      "[Parallel(n_jobs=3)]: Using backend ThreadingBackend with 3 concurrent workers.\n",
      "[Parallel(n_jobs=3)]: Done  44 tasks      | elapsed:    3.5s\n",
      "[Parallel(n_jobs=3)]: Done 100 out of 100 | elapsed:    7.4s finished\n",
      "[Parallel(n_jobs=3)]: Using backend ThreadingBackend with 3 concurrent workers.\n",
      "[Parallel(n_jobs=3)]: Done  44 tasks      | elapsed:    0.7s\n",
      "[Parallel(n_jobs=3)]: Done 100 out of 100 | elapsed:    1.6s finished\n"
     ]
    },
    {
     "data": {
      "text/plain": [
       "0.9253416621745886"
      ]
     },
     "execution_count": 283,
     "metadata": {},
     "output_type": "execute_result"
    }
   ],
   "source": [
    "from sklearn.ensemble import RandomForestClassifier\n",
    "rfc=RandomForestClassifier(n_estimators=100,verbose=True,class_weight='balanced',n_jobs=3)\n",
    "\n",
    "rfc.fit(X_train_,y_train_)\n",
    "\n",
    "rfc.score(X_train_,y_train_)"
   ]
  },
  {
   "cell_type": "markdown",
   "metadata": {},
   "source": [
    "## test set result"
   ]
  },
  {
   "cell_type": "code",
   "execution_count": 284,
   "metadata": {},
   "outputs": [
    {
     "name": "stderr",
     "output_type": "stream",
     "text": [
      "[Parallel(n_jobs=3)]: Using backend ThreadingBackend with 3 concurrent workers.\n",
      "[Parallel(n_jobs=3)]: Done  44 tasks      | elapsed:    0.3s\n",
      "[Parallel(n_jobs=3)]: Done 100 out of 100 | elapsed:    0.7s finished\n"
     ]
    },
    {
     "data": {
      "text/plain": [
       "0.8649748446285883"
      ]
     },
     "execution_count": 284,
     "metadata": {},
     "output_type": "execute_result"
    }
   ],
   "source": [
    "rfc.score(X_test_,y_test_)"
   ]
  },
  {
   "cell_type": "code",
   "execution_count": 285,
   "metadata": {},
   "outputs": [],
   "source": [
    "var_imp=dict(zip(X_train_.columns,rfc.feature_importances_))\n",
    "var_imp_sorted=sorted(var_imp.items(),key=lambda x : x[1],reverse=True)"
   ]
  },
  {
   "cell_type": "code",
   "execution_count": 286,
   "metadata": {},
   "outputs": [
    {
     "name": "stdout",
     "output_type": "stream",
     "text": [
      "variable name is Prescription_period and importance is 0.8717\n",
      "variable name is Age and importance is 0.1182\n",
      "variable name is HyperTension_0 and importance is 0.0018\n",
      "variable name is HyperTension_1 and importance is 0.0011\n",
      "variable name is Sms_Reminder_1 and importance is 0.0009\n",
      "variable name is Sms_Reminder_0 and importance is 0.0009\n"
     ]
    }
   ],
   "source": [
    "for i in var_imp_sorted[:6]:\n",
    "    print('variable name is {} and importance is {:,.4f}'.format(i[0],i[1]))"
   ]
  },
  {
   "cell_type": "markdown",
   "metadata": {},
   "source": [
    "## Precision, Recall and F1 Score"
   ]
  },
  {
   "cell_type": "code",
   "execution_count": 287,
   "metadata": {},
   "outputs": [
    {
     "name": "stderr",
     "output_type": "stream",
     "text": [
      "[Parallel(n_jobs=3)]: Using backend ThreadingBackend with 3 concurrent workers.\n",
      "[Parallel(n_jobs=3)]: Done  44 tasks      | elapsed:    0.3s\n"
     ]
    },
    {
     "name": "stdout",
     "output_type": "stream",
     "text": [
      "              precision    recall  f1-score   support\n",
      "\n",
      "           0       0.92      0.88      0.90     37736\n",
      "           1       0.75      0.83      0.79     16328\n",
      "\n",
      "   micro avg       0.86      0.86      0.86     54064\n",
      "   macro avg       0.84      0.86      0.84     54064\n",
      "weighted avg       0.87      0.86      0.87     54064\n",
      "\n"
     ]
    },
    {
     "name": "stderr",
     "output_type": "stream",
     "text": [
      "[Parallel(n_jobs=3)]: Done 100 out of 100 | elapsed:    0.7s finished\n"
     ]
    }
   ],
   "source": [
    "print(classification_report(y_test_,pd.Series(rfc.predict(X_test_))))"
   ]
  },
  {
   "cell_type": "markdown",
   "metadata": {},
   "source": []
  },
  {
   "cell_type": "markdown",
   "metadata": {},
   "source": [
    "## MLP based classifier"
   ]
  },
  {
   "cell_type": "code",
   "execution_count": 288,
   "metadata": {},
   "outputs": [],
   "source": [
    "\n",
    "y_main_encode = np_utils.to_categorical(final_data.Adherence, num_classes=2)"
   ]
  },
  {
   "cell_type": "code",
   "execution_count": 289,
   "metadata": {},
   "outputs": [],
   "source": [
    "X_train, X_test, y_train, y_test = train_test_split(final_data.drop(labels=['patient_id','Adherence'],axis=1,inplace=False), y_main_encode, test_size=0.3, random_state=101)"
   ]
  },
  {
   "cell_type": "code",
   "execution_count": 290,
   "metadata": {},
   "outputs": [
    {
     "name": "stdout",
     "output_type": "stream",
     "text": [
      "_________________________________________________________________\n",
      "Layer (type)                 Output Shape              Param #   \n",
      "=================================================================\n",
      "dense_11 (Dense)             (None, 32)                576       \n",
      "_________________________________________________________________\n",
      "dense_12 (Dense)             (None, 64)                2112      \n",
      "_________________________________________________________________\n",
      "dense_13 (Dense)             (None, 128)               8320      \n",
      "_________________________________________________________________\n",
      "dense_14 (Dense)             (None, 256)               33024     \n",
      "_________________________________________________________________\n",
      "dense_15 (Dense)             (None, 2)                 514       \n",
      "=================================================================\n",
      "Total params: 44,546\n",
      "Trainable params: 44,546\n",
      "Non-trainable params: 0\n",
      "_________________________________________________________________\n"
     ]
    }
   ],
   "source": [
    "model_ = Sequential()\n",
    "model_.add(Dense(32,input_dim=X_train.shape[1],activation='relu'))\n",
    "model_.add(Dense(64,activation='relu'))\n",
    "model_.add(Dense(128, activation='relu'))\n",
    "model_.add(Dense(256, activation='relu'))\n",
    "model_.add(Dense(2, activation='softmax'))\n",
    "adam = keras.optimizers.Adam(lr=0.01)\n",
    "model_.compile(loss='categorical_crossentropy', optimizer=adam, metrics=['accuracy'])\n",
    "model_.summary()"
   ]
  },
  {
   "cell_type": "code",
   "execution_count": 291,
   "metadata": {
    "scrolled": false
   },
   "outputs": [
    {
     "name": "stdout",
     "output_type": "stream",
     "text": [
      "Train on 113533 samples, validate on 12615 samples\n",
      "Epoch 1/20\n",
      "113533/113533 [==============================] - 3s 26us/step - loss: 0.3531 - acc: 0.8786 - val_loss: 0.3102 - val_acc: 0.8864\n",
      "Epoch 2/20\n",
      "113533/113533 [==============================] - 3s 23us/step - loss: 0.3103 - acc: 0.8882 - val_loss: 0.3076 - val_acc: 0.8931\n",
      "Epoch 3/20\n",
      "113533/113533 [==============================] - 2s 21us/step - loss: 0.3074 - acc: 0.8900 - val_loss: 0.3178 - val_acc: 0.8801\n",
      "Epoch 4/20\n",
      "113533/113533 [==============================] - 3s 26us/step - loss: 0.3058 - acc: 0.8911 - val_loss: 0.3202 - val_acc: 0.8884\n",
      "Epoch 5/20\n",
      "113533/113533 [==============================] - 3s 31us/step - loss: 0.3053 - acc: 0.8911 - val_loss: 0.3073 - val_acc: 0.8924\n",
      "Epoch 6/20\n",
      "113533/113533 [==============================] - 3s 27us/step - loss: 0.3047 - acc: 0.8914 - val_loss: 0.3039 - val_acc: 0.8922\n",
      "Epoch 7/20\n",
      "113533/113533 [==============================] - 3s 27us/step - loss: 0.3035 - acc: 0.8925 - val_loss: 0.3021 - val_acc: 0.8923\n",
      "Epoch 8/20\n",
      "113533/113533 [==============================] - 3s 27us/step - loss: 0.3041 - acc: 0.8920 - val_loss: 0.3031 - val_acc: 0.8934\n",
      "Epoch 9/20\n",
      "113533/113533 [==============================] - 3s 27us/step - loss: 0.3065 - acc: 0.8902 - val_loss: 0.3063 - val_acc: 0.8905\n",
      "Epoch 10/20\n",
      "113533/113533 [==============================] - 3s 27us/step - loss: 0.3051 - acc: 0.8916 - val_loss: 0.3025 - val_acc: 0.8934\n",
      "Epoch 11/20\n",
      "113533/113533 [==============================] - 3s 29us/step - loss: 0.3039 - acc: 0.8922 - val_loss: 0.3104 - val_acc: 0.8852\n",
      "Epoch 12/20\n",
      "113533/113533 [==============================] - 3s 29us/step - loss: 0.3030 - acc: 0.8923 - val_loss: 0.3046 - val_acc: 0.8930\n",
      "Epoch 13/20\n",
      "113533/113533 [==============================] - 3s 27us/step - loss: 0.3032 - acc: 0.8919 - val_loss: 0.3045 - val_acc: 0.8912\n",
      "Epoch 14/20\n",
      "113533/113533 [==============================] - 3s 29us/step - loss: 0.3036 - acc: 0.8924 - val_loss: 0.3023 - val_acc: 0.8881\n",
      "Epoch 15/20\n",
      "113533/113533 [==============================] - 3s 27us/step - loss: 0.3019 - acc: 0.8924 - val_loss: 0.3042 - val_acc: 0.8935\n",
      "Epoch 16/20\n",
      "113533/113533 [==============================] - 3s 29us/step - loss: 0.3017 - acc: 0.8928 - val_loss: 0.3011 - val_acc: 0.8934\n",
      "Epoch 17/20\n",
      "113533/113533 [==============================] - 3s 27us/step - loss: 0.3017 - acc: 0.8930 - val_loss: 0.3007 - val_acc: 0.8929\n",
      "Epoch 18/20\n",
      "113533/113533 [==============================] - 3s 28us/step - loss: 0.3029 - acc: 0.8923 - val_loss: 0.3005 - val_acc: 0.8937\n",
      "Epoch 19/20\n",
      "113533/113533 [==============================] - 3s 28us/step - loss: 0.3037 - acc: 0.8914 - val_loss: 0.3044 - val_acc: 0.8931\n",
      "Epoch 20/20\n",
      "113533/113533 [==============================] - 3s 27us/step - loss: 0.3017 - acc: 0.8935 - val_loss: 0.3037 - val_acc: 0.8924\n"
     ]
    },
    {
     "data": {
      "text/plain": [
       "<keras.callbacks.History at 0x7f8a2e40ad68>"
      ]
     },
     "execution_count": 291,
     "metadata": {},
     "output_type": "execute_result"
    }
   ],
   "source": [
    "model_.fit(x=X_train, y=y_train, epochs=20, batch_size=128,validation_split=0.1)"
   ]
  },
  {
   "cell_type": "code",
   "execution_count": 292,
   "metadata": {},
   "outputs": [
    {
     "data": {
      "text/plain": [
       "array([[0.96193963, 0.03806042],\n",
       "       [0.96193963, 0.03806042],\n",
       "       [0.96193963, 0.03806042],\n",
       "       ...,\n",
       "       [0.96193963, 0.03806042],\n",
       "       [0.96193963, 0.03806042],\n",
       "       [0.96193963, 0.03806042]], dtype=float32)"
      ]
     },
     "execution_count": 292,
     "metadata": {},
     "output_type": "execute_result"
    }
   ],
   "source": [
    "y_pred=np.argmax(model_.predict(X_test),axis=-1)\n",
    "y_test=np.argmax(y_test,axis=-1)\n",
    "model_.predict(X_test)"
   ]
  },
  {
   "cell_type": "markdown",
   "metadata": {},
   "source": [
    "## Precision, Recall and F1 Score"
   ]
  },
  {
   "cell_type": "code",
   "execution_count": 293,
   "metadata": {
    "scrolled": true
   },
   "outputs": [
    {
     "name": "stdout",
     "output_type": "stream",
     "text": [
      "              precision    recall  f1-score   support\n",
      "\n",
      "           0       0.89      0.92      0.91     37736\n",
      "           1       0.80      0.74      0.77     16328\n",
      "\n",
      "   micro avg       0.87      0.87      0.87     54064\n",
      "   macro avg       0.85      0.83      0.84     54064\n",
      "weighted avg       0.86      0.87      0.86     54064\n",
      "\n"
     ]
    }
   ],
   "source": [
    "print(classification_report(y_test,pd.Series(np.where(model_.predict(X_test)[:,1]>0.72,1,0))))"
   ]
  },
  {
   "cell_type": "markdown",
   "metadata": {},
   "source": [
    "'"
   ]
  },
  {
   "cell_type": "markdown",
   "metadata": {},
   "source": [
    "## Results with under-sampling the majority class"
   ]
  },
  {
   "cell_type": "code",
   "execution_count": 294,
   "metadata": {},
   "outputs": [],
   "source": [
    "final_data_0=final_data.loc[final_data.Adherence==0,:].sample(55000)\n",
    "final_data_1=final_data.loc[final_data.Adherence==1,:]\n",
    "final_data=pd.concat(objs=[final_data_0,final_data_1],axis=0)"
   ]
  },
  {
   "cell_type": "markdown",
   "metadata": {},
   "source": [
    "## train test split"
   ]
  },
  {
   "cell_type": "code",
   "execution_count": 295,
   "metadata": {},
   "outputs": [],
   "source": [
    "X_train_, X_test_, y_train_, y_test_ = train_test_split(final_data.drop(labels=['patient_id','Adherence'],axis=1,inplace=False), final_data.Adherence, test_size=0.3, random_state=101)"
   ]
  },
  {
   "cell_type": "markdown",
   "metadata": {},
   "source": [
    "## Logistic regression modelling"
   ]
  },
  {
   "cell_type": "code",
   "execution_count": 296,
   "metadata": {},
   "outputs": [
    {
     "name": "stderr",
     "output_type": "stream",
     "text": [
      "/home/quantiphi/.local/lib/python3.5/site-packages/sklearn/linear_model/logistic.py:433: FutureWarning: Default solver will be changed to 'lbfgs' in 0.22. Specify a solver to silence this warning.\n",
      "  FutureWarning)\n"
     ]
    }
   ],
   "source": [
    "logisticRegr = LogisticRegression()\n",
    "logisticRegr.fit(X_train_, y_train_)\n",
    "logisticRegr.score(X_train_, y_train_)\n",
    "\n",
    "preds=logisticRegr.predict_proba(X_test_)\n",
    "\n",
    "preds=pd.Series(preds[:,1])"
   ]
  },
  {
   "cell_type": "markdown",
   "metadata": {},
   "source": [
    "##  test set result"
   ]
  },
  {
   "cell_type": "code",
   "execution_count": 297,
   "metadata": {
    "scrolled": true
   },
   "outputs": [
    {
     "name": "stdout",
     "output_type": "stream",
     "text": [
      "              precision    recall  f1-score   support\n",
      "\n",
      "           0       0.91      0.77      0.83     16471\n",
      "           1       0.80      0.92      0.85     16346\n",
      "\n",
      "   micro avg       0.84      0.84      0.84     32817\n",
      "   macro avg       0.85      0.84      0.84     32817\n",
      "weighted avg       0.85      0.84      0.84     32817\n",
      "\n"
     ]
    },
    {
     "data": {
      "text/plain": [
       "0.8586403388487674"
      ]
     },
     "execution_count": 297,
     "metadata": {},
     "output_type": "execute_result"
    }
   ],
   "source": [
    "print(classification_report(y_test_,pd.Series(np.where(preds>0.45,1,0))))\n",
    "\n",
    "logisticRegr.score(X_test_, y_test_)"
   ]
  },
  {
   "cell_type": "markdown",
   "metadata": {},
   "source": [
    "## Gradient boosting classifier"
   ]
  },
  {
   "cell_type": "code",
   "execution_count": 298,
   "metadata": {},
   "outputs": [],
   "source": [
    "\n",
    "gbc=GradientBoostingClassifier(learning_rate=0.1,verbose=True)"
   ]
  },
  {
   "cell_type": "code",
   "execution_count": 299,
   "metadata": {},
   "outputs": [
    {
     "name": "stdout",
     "output_type": "stream",
     "text": [
      "      Iter       Train Loss   Remaining Time \n",
      "         1           1.2660            6.75s\n",
      "         2           1.1678            6.59s\n",
      "         3           1.0868            6.48s\n",
      "         4           1.0194            6.72s\n",
      "         5           0.9629            6.56s\n",
      "         6           0.9153            6.43s\n",
      "         7           0.8751            6.32s\n",
      "         8           0.8411            6.37s\n",
      "         9           0.8122            6.25s\n",
      "        10           0.7877            6.15s\n",
      "        20           0.6773            5.53s\n",
      "        30           0.6571            4.90s\n",
      "        40           0.6534            4.18s\n",
      "        50           0.6524            3.49s\n",
      "        60           0.6518            2.70s\n",
      "        70           0.6512            2.01s\n",
      "        80           0.6508            1.30s\n",
      "        90           0.6504            0.63s\n",
      "       100           0.6500            0.00s\n"
     ]
    },
    {
     "data": {
      "text/plain": [
       "0.8961905632533661"
      ]
     },
     "execution_count": 299,
     "metadata": {},
     "output_type": "execute_result"
    }
   ],
   "source": [
    "gbc.fit(X_train_,y_train_)\n",
    "gbc.score(X_train_,y_train_)"
   ]
  },
  {
   "cell_type": "code",
   "execution_count": 300,
   "metadata": {},
   "outputs": [
    {
     "data": {
      "text/plain": [
       "0.8979797056403693"
      ]
     },
     "execution_count": 300,
     "metadata": {},
     "output_type": "execute_result"
    }
   ],
   "source": [
    "gbc.score(X_test_,y_test_)"
   ]
  },
  {
   "cell_type": "markdown",
   "metadata": {},
   "source": [
    "##  test set result"
   ]
  },
  {
   "cell_type": "code",
   "execution_count": 302,
   "metadata": {},
   "outputs": [
    {
     "name": "stdout",
     "output_type": "stream",
     "text": [
      "              precision    recall  f1-score   support\n",
      "\n",
      "           0       0.90      0.89      0.90     16471\n",
      "           1       0.89      0.91      0.90     16346\n",
      "\n",
      "   micro avg       0.90      0.90      0.90     32817\n",
      "   macro avg       0.90      0.90      0.90     32817\n",
      "weighted avg       0.90      0.90      0.90     32817\n",
      "\n"
     ]
    }
   ],
   "source": [
    "print(classification_report(y_test_,pd.Series(gbc.predict(X_test_))))"
   ]
  },
  {
   "cell_type": "markdown",
   "metadata": {},
   "source": [
    "## Saving GBC model as pickle file for test prediction."
   ]
  },
  {
   "cell_type": "code",
   "execution_count": 301,
   "metadata": {},
   "outputs": [],
   "source": [
    "with open('./gbc_model.pickle','wb') as f:\n",
    "    pkl.dump(gbc,f)"
   ]
  },
  {
   "cell_type": "markdown",
   "metadata": {},
   "source": [
    "## random forest classifier "
   ]
  },
  {
   "cell_type": "code",
   "execution_count": 65,
   "metadata": {},
   "outputs": [
    {
     "name": "stderr",
     "output_type": "stream",
     "text": [
      "[Parallel(n_jobs=3)]: Using backend ThreadingBackend with 3 concurrent workers.\n",
      "[Parallel(n_jobs=3)]: Done  44 tasks      | elapsed:    1.7s\n",
      "[Parallel(n_jobs=3)]: Done 100 out of 100 | elapsed:    3.7s finished\n",
      "[Parallel(n_jobs=3)]: Using backend ThreadingBackend with 3 concurrent workers.\n",
      "[Parallel(n_jobs=3)]: Done  44 tasks      | elapsed:    0.5s\n",
      "[Parallel(n_jobs=3)]: Done 100 out of 100 | elapsed:    1.1s finished\n"
     ]
    },
    {
     "data": {
      "text/plain": [
       "0.9365833910124979"
      ]
     },
     "execution_count": 65,
     "metadata": {},
     "output_type": "execute_result"
    }
   ],
   "source": [
    "from sklearn.ensemble import RandomForestClassifier\n",
    "rfc=RandomForestClassifier(n_estimators=100,verbose=True,class_weight='balanced',n_jobs=3)\n",
    "\n",
    "rfc.fit(X_train_,y_train_)\n",
    "\n",
    "rfc.score(X_train_,y_train_)"
   ]
  },
  {
   "cell_type": "markdown",
   "metadata": {},
   "source": [
    "## test set result"
   ]
  },
  {
   "cell_type": "code",
   "execution_count": 66,
   "metadata": {},
   "outputs": [
    {
     "name": "stderr",
     "output_type": "stream",
     "text": [
      "[Parallel(n_jobs=3)]: Using backend ThreadingBackend with 3 concurrent workers.\n",
      "[Parallel(n_jobs=3)]: Done  44 tasks      | elapsed:    0.3s\n",
      "[Parallel(n_jobs=3)]: Done 100 out of 100 | elapsed:    0.5s finished\n"
     ]
    },
    {
     "data": {
      "text/plain": [
       "0.8658317335527318"
      ]
     },
     "execution_count": 66,
     "metadata": {},
     "output_type": "execute_result"
    }
   ],
   "source": [
    "rfc.score(X_test_,y_test_)"
   ]
  },
  {
   "cell_type": "markdown",
   "metadata": {},
   "source": [
    "## Precision, Recall and F1 Score"
   ]
  },
  {
   "cell_type": "code",
   "execution_count": 67,
   "metadata": {},
   "outputs": [
    {
     "name": "stderr",
     "output_type": "stream",
     "text": [
      "[Parallel(n_jobs=3)]: Using backend ThreadingBackend with 3 concurrent workers.\n",
      "[Parallel(n_jobs=3)]: Done  44 tasks      | elapsed:    0.2s\n"
     ]
    },
    {
     "name": "stdout",
     "output_type": "stream",
     "text": [
      "              precision    recall  f1-score   support\n",
      "\n",
      "           0       0.88      0.85      0.86     16471\n",
      "           1       0.86      0.88      0.87     16346\n",
      "\n",
      "   micro avg       0.87      0.87      0.87     32817\n",
      "   macro avg       0.87      0.87      0.87     32817\n",
      "weighted avg       0.87      0.87      0.87     32817\n",
      "\n"
     ]
    },
    {
     "name": "stderr",
     "output_type": "stream",
     "text": [
      "[Parallel(n_jobs=3)]: Done 100 out of 100 | elapsed:    0.4s finished\n"
     ]
    }
   ],
   "source": [
    "print(classification_report(y_test_,pd.Series(rfc.predict(X_test_))))"
   ]
  },
  {
   "cell_type": "markdown",
   "metadata": {},
   "source": []
  },
  {
   "cell_type": "markdown",
   "metadata": {},
   "source": [
    "## MLP based classifier"
   ]
  },
  {
   "cell_type": "code",
   "execution_count": 68,
   "metadata": {},
   "outputs": [],
   "source": [
    "\n",
    "y_main_encode = np_utils.to_categorical(final_data.Adherence, num_classes=2)\n",
    "\n",
    "X_train, X_test, y_train, y_test = train_test_split(final_data.drop(labels=['patient_id','Adherence'],axis=1,inplace=False), y_main_encode, test_size=0.3, random_state=101)"
   ]
  },
  {
   "cell_type": "code",
   "execution_count": 70,
   "metadata": {},
   "outputs": [],
   "source": [
    "model_ = Sequential()\n",
    "model_.add(Dense(32,input_dim=X_train.shape[1],activation='relu'))\n",
    "model_.add(Dense(64,activation='relu'))\n",
    "model_.add(Dense(128, activation='relu'))\n",
    "model_.add(Dense(256, activation='relu'))\n",
    "model_.add(Dense(2, activation='softmax'))\n",
    "\n",
    "adam = keras.optimizers.Adam(lr=0.01)\n",
    "\n",
    "model_.compile(loss='categorical_crossentropy', optimizer=adam, metrics=['accuracy'])\n",
    "model_.summary()"
   ]
  },
  {
   "cell_type": "code",
   "execution_count": 73,
   "metadata": {
    "scrolled": true
   },
   "outputs": [
    {
     "name": "stdout",
     "output_type": "stream",
     "text": [
      "Train on 68915 samples, validate on 7658 samples\n",
      "Epoch 1/20\n",
      "68915/68915 [==============================] - 2s 36us/step - loss: 0.3877 - acc: 0.8737 - val_loss: 0.3585 - val_acc: 0.8803\n",
      "Epoch 2/20\n",
      "68915/68915 [==============================] - 2s 25us/step - loss: 0.3450 - acc: 0.8870 - val_loss: 0.3172 - val_acc: 0.9018\n",
      "Epoch 3/20\n",
      "68915/68915 [==============================] - 2s 28us/step - loss: 0.3400 - acc: 0.8909 - val_loss: 0.3237 - val_acc: 0.9013\n",
      "Epoch 4/20\n",
      "68915/68915 [==============================] - 2s 25us/step - loss: 0.3400 - acc: 0.8901 - val_loss: 0.3231 - val_acc: 0.8967\n",
      "Epoch 5/20\n",
      "68915/68915 [==============================] - 2s 26us/step - loss: 0.3414 - acc: 0.8903 - val_loss: 0.3219 - val_acc: 0.8979\n",
      "Epoch 6/20\n",
      "68915/68915 [==============================] - 2s 25us/step - loss: 0.3398 - acc: 0.8905 - val_loss: 0.3321 - val_acc: 0.8921\n",
      "Epoch 7/20\n",
      "68915/68915 [==============================] - 2s 26us/step - loss: 0.3378 - acc: 0.8913 - val_loss: 0.3281 - val_acc: 0.8927\n",
      "Epoch 8/20\n",
      "68915/68915 [==============================] - 2s 25us/step - loss: 0.3389 - acc: 0.8910 - val_loss: 0.3201 - val_acc: 0.9000\n",
      "Epoch 9/20\n",
      "68915/68915 [==============================] - 2s 26us/step - loss: 0.3387 - acc: 0.8906 - val_loss: 0.3215 - val_acc: 0.8996\n",
      "Epoch 10/20\n",
      "68915/68915 [==============================] - 2s 25us/step - loss: 0.3366 - acc: 0.8917 - val_loss: 0.3260 - val_acc: 0.8958\n",
      "Epoch 11/20\n",
      "68915/68915 [==============================] - 2s 29us/step - loss: 0.3357 - acc: 0.8924 - val_loss: 0.3262 - val_acc: 0.8957\n",
      "Epoch 12/20\n",
      "68915/68915 [==============================] - 2s 25us/step - loss: 0.3349 - acc: 0.8928 - val_loss: 0.3187 - val_acc: 0.9018\n",
      "Epoch 13/20\n",
      "68915/68915 [==============================] - 2s 26us/step - loss: 0.3360 - acc: 0.8928 - val_loss: 0.3232 - val_acc: 0.8970\n",
      "Epoch 14/20\n",
      "68915/68915 [==============================] - 2s 26us/step - loss: 0.3354 - acc: 0.8927 - val_loss: 0.3200 - val_acc: 0.8997\n",
      "Epoch 15/20\n",
      "68915/68915 [==============================] - 2s 25us/step - loss: 0.3354 - acc: 0.8921 - val_loss: 0.3319 - val_acc: 0.8946\n",
      "Epoch 16/20\n",
      "68915/68915 [==============================] - 2s 26us/step - loss: 0.3360 - acc: 0.8928 - val_loss: 0.3160 - val_acc: 0.9022\n",
      "Epoch 17/20\n",
      "68915/68915 [==============================] - 2s 25us/step - loss: 0.3347 - acc: 0.8930 - val_loss: 0.3188 - val_acc: 0.9001\n",
      "Epoch 18/20\n",
      "68915/68915 [==============================] - 2s 28us/step - loss: 0.3353 - acc: 0.8924 - val_loss: 0.3194 - val_acc: 0.8989\n",
      "Epoch 19/20\n",
      "68915/68915 [==============================] - 2s 27us/step - loss: 0.3367 - acc: 0.8921 - val_loss: 0.3167 - val_acc: 0.9027\n",
      "Epoch 20/20\n",
      "68915/68915 [==============================] - 2s 26us/step - loss: 0.3353 - acc: 0.8927 - val_loss: 0.3288 - val_acc: 0.9002\n"
     ]
    },
    {
     "data": {
      "text/plain": [
       "<keras.callbacks.History at 0x7f8a6c440ac8>"
      ]
     },
     "execution_count": 73,
     "metadata": {},
     "output_type": "execute_result"
    }
   ],
   "source": [
    "model_.fit(x=X_train, y=y_train, epochs=20, batch_size=128,validation_split=0.1)"
   ]
  },
  {
   "cell_type": "code",
   "execution_count": 74,
   "metadata": {},
   "outputs": [],
   "source": [
    "y_pred=np.argmax(model_.predict(X_test),axis=-1)\n",
    "\n",
    "y_test=np.argmax(y_test,axis=-1)\n",
    "\n",
    "model_.predict(X_test)"
   ]
  },
  {
   "cell_type": "markdown",
   "metadata": {},
   "source": [
    "## Precision, Recall and F1 Score"
   ]
  },
  {
   "cell_type": "code",
   "execution_count": 77,
   "metadata": {
    "scrolled": true
   },
   "outputs": [
    {
     "name": "stdout",
     "output_type": "stream",
     "text": [
      "              precision    recall  f1-score   support\n",
      "\n",
      "           0       0.91      0.88      0.89     16471\n",
      "           1       0.88      0.91      0.89     16346\n",
      "\n",
      "   micro avg       0.89      0.89      0.89     32817\n",
      "   macro avg       0.89      0.89      0.89     32817\n",
      "weighted avg       0.89      0.89      0.89     32817\n",
      "\n"
     ]
    }
   ],
   "source": [
    "from sklearn.metrics import classification_report\n",
    "print(classification_report(y_test,pd.Series(y_pred)))"
   ]
  },
  {
   "cell_type": "markdown",
   "metadata": {},
   "source": []
  },
  {
   "cell_type": "markdown",
   "metadata": {},
   "source": [
    "## Test set predictions"
   ]
  },
  {
   "cell_type": "code",
   "execution_count": 303,
   "metadata": {},
   "outputs": [],
   "source": [
    "test_data=pd.read_csv('./Test Data.csv')"
   ]
  },
  {
   "cell_type": "code",
   "execution_count": 304,
   "metadata": {},
   "outputs": [
    {
     "data": {
      "text/html": [
       "<div>\n",
       "<style scoped>\n",
       "    .dataframe tbody tr th:only-of-type {\n",
       "        vertical-align: middle;\n",
       "    }\n",
       "\n",
       "    .dataframe tbody tr th {\n",
       "        vertical-align: top;\n",
       "    }\n",
       "\n",
       "    .dataframe thead th {\n",
       "        text-align: right;\n",
       "    }\n",
       "</style>\n",
       "<table border=\"1\" class=\"dataframe\">\n",
       "  <thead>\n",
       "    <tr style=\"text-align: right;\">\n",
       "      <th></th>\n",
       "      <th>patient_id</th>\n",
       "      <th>Age</th>\n",
       "      <th>Gender</th>\n",
       "      <th>Prescription_period</th>\n",
       "      <th>Diabetes</th>\n",
       "      <th>Alcoholism</th>\n",
       "      <th>HyperTension</th>\n",
       "      <th>Smokes</th>\n",
       "      <th>Tuberculosis</th>\n",
       "      <th>Sms_Reminder</th>\n",
       "    </tr>\n",
       "  </thead>\n",
       "  <tbody>\n",
       "    <tr>\n",
       "      <th>0</th>\n",
       "      <td>1</td>\n",
       "      <td>5</td>\n",
       "      <td>M</td>\n",
       "      <td>28</td>\n",
       "      <td>0</td>\n",
       "      <td>0</td>\n",
       "      <td>0</td>\n",
       "      <td>0</td>\n",
       "      <td>0</td>\n",
       "      <td>1</td>\n",
       "    </tr>\n",
       "    <tr>\n",
       "      <th>1</th>\n",
       "      <td>2</td>\n",
       "      <td>62</td>\n",
       "      <td>F</td>\n",
       "      <td>9</td>\n",
       "      <td>1</td>\n",
       "      <td>0</td>\n",
       "      <td>1</td>\n",
       "      <td>0</td>\n",
       "      <td>0</td>\n",
       "      <td>0</td>\n",
       "    </tr>\n",
       "    <tr>\n",
       "      <th>2</th>\n",
       "      <td>3</td>\n",
       "      <td>4</td>\n",
       "      <td>F</td>\n",
       "      <td>73</td>\n",
       "      <td>0</td>\n",
       "      <td>0</td>\n",
       "      <td>0</td>\n",
       "      <td>0</td>\n",
       "      <td>0</td>\n",
       "      <td>1</td>\n",
       "    </tr>\n",
       "    <tr>\n",
       "      <th>3</th>\n",
       "      <td>4</td>\n",
       "      <td>33</td>\n",
       "      <td>M</td>\n",
       "      <td>117</td>\n",
       "      <td>0</td>\n",
       "      <td>0</td>\n",
       "      <td>0</td>\n",
       "      <td>0</td>\n",
       "      <td>0</td>\n",
       "      <td>0</td>\n",
       "    </tr>\n",
       "    <tr>\n",
       "      <th>4</th>\n",
       "      <td>5</td>\n",
       "      <td>38</td>\n",
       "      <td>M</td>\n",
       "      <td>8</td>\n",
       "      <td>0</td>\n",
       "      <td>0</td>\n",
       "      <td>0</td>\n",
       "      <td>0</td>\n",
       "      <td>0</td>\n",
       "      <td>1</td>\n",
       "    </tr>\n",
       "  </tbody>\n",
       "</table>\n",
       "</div>"
      ],
      "text/plain": [
       "   patient_id  Age Gender  Prescription_period  Diabetes  Alcoholism  \\\n",
       "0           1    5      M                   28         0           0   \n",
       "1           2   62      F                    9         1           0   \n",
       "2           3    4      F                   73         0           0   \n",
       "3           4   33      M                  117         0           0   \n",
       "4           5   38      M                    8         0           0   \n",
       "\n",
       "   HyperTension  Smokes  Tuberculosis  Sms_Reminder  \n",
       "0             0       0             0             1  \n",
       "1             1       0             0             0  \n",
       "2             0       0             0             1  \n",
       "3             0       0             0             0  \n",
       "4             0       0             0             1  "
      ]
     },
     "execution_count": 304,
     "metadata": {},
     "output_type": "execute_result"
    }
   ],
   "source": [
    "test_data.head()"
   ]
  },
  {
   "cell_type": "code",
   "execution_count": 305,
   "metadata": {},
   "outputs": [],
   "source": [
    "test_data=pd.get_dummies(test_data,columns=char_col)"
   ]
  },
  {
   "cell_type": "markdown",
   "metadata": {},
   "source": [
    "## loading saved model as pickle file."
   ]
  },
  {
   "cell_type": "code",
   "execution_count": 306,
   "metadata": {},
   "outputs": [],
   "source": [
    "with open('./gbc_model.pickle','rb') as f:\n",
    "    gbc_test=pkl.load(f)"
   ]
  },
  {
   "cell_type": "code",
   "execution_count": 307,
   "metadata": {},
   "outputs": [],
   "source": [
    "test_probs=gbc_test.predict_proba(test_data.drop('patient_id',axis=1))"
   ]
  },
  {
   "cell_type": "code",
   "execution_count": 308,
   "metadata": {},
   "outputs": [],
   "source": [
    "adherence_test=np.argmax(test_probs,axis=-1)"
   ]
  },
  {
   "cell_type": "code",
   "execution_count": 309,
   "metadata": {},
   "outputs": [],
   "source": [
    "prob_adherence=test_probs[:,1]"
   ]
  },
  {
   "cell_type": "code",
   "execution_count": 310,
   "metadata": {},
   "outputs": [],
   "source": [
    "results_test=pd.DataFrame(index=test_data.patient_id)"
   ]
  },
  {
   "cell_type": "code",
   "execution_count": 311,
   "metadata": {},
   "outputs": [],
   "source": [
    "results_test['adherence_test']=adherence_test\n",
    "results_test.adherence_test=results_test.adherence_test.replace({1:'Yes',0:'No'})"
   ]
  },
  {
   "cell_type": "code",
   "execution_count": 312,
   "metadata": {},
   "outputs": [],
   "source": [
    "results_test['prob_adherence']=prob_adherence"
   ]
  },
  {
   "cell_type": "code",
   "execution_count": 313,
   "metadata": {},
   "outputs": [],
   "source": [
    "results_test.to_csv('./test_results.csv')"
   ]
  },
  {
   "cell_type": "code",
   "execution_count": 314,
   "metadata": {},
   "outputs": [
    {
     "data": {
      "text/html": [
       "<div>\n",
       "<style scoped>\n",
       "    .dataframe tbody tr th:only-of-type {\n",
       "        vertical-align: middle;\n",
       "    }\n",
       "\n",
       "    .dataframe tbody tr th {\n",
       "        vertical-align: top;\n",
       "    }\n",
       "\n",
       "    .dataframe thead th {\n",
       "        text-align: right;\n",
       "    }\n",
       "</style>\n",
       "<table border=\"1\" class=\"dataframe\">\n",
       "  <thead>\n",
       "    <tr style=\"text-align: right;\">\n",
       "      <th></th>\n",
       "      <th>adherence_test</th>\n",
       "      <th>prob_adherence</th>\n",
       "    </tr>\n",
       "    <tr>\n",
       "      <th>patient_id</th>\n",
       "      <th></th>\n",
       "      <th></th>\n",
       "    </tr>\n",
       "  </thead>\n",
       "  <tbody>\n",
       "    <tr>\n",
       "      <th>1</th>\n",
       "      <td>Yes</td>\n",
       "      <td>0.908820</td>\n",
       "    </tr>\n",
       "    <tr>\n",
       "      <th>2</th>\n",
       "      <td>Yes</td>\n",
       "      <td>0.864512</td>\n",
       "    </tr>\n",
       "    <tr>\n",
       "      <th>3</th>\n",
       "      <td>No</td>\n",
       "      <td>0.112822</td>\n",
       "    </tr>\n",
       "    <tr>\n",
       "      <th>4</th>\n",
       "      <td>No</td>\n",
       "      <td>0.136641</td>\n",
       "    </tr>\n",
       "    <tr>\n",
       "      <th>5</th>\n",
       "      <td>Yes</td>\n",
       "      <td>0.900378</td>\n",
       "    </tr>\n",
       "  </tbody>\n",
       "</table>\n",
       "</div>"
      ],
      "text/plain": [
       "           adherence_test  prob_adherence\n",
       "patient_id                               \n",
       "1                     Yes        0.908820\n",
       "2                     Yes        0.864512\n",
       "3                      No        0.112822\n",
       "4                      No        0.136641\n",
       "5                     Yes        0.900378"
      ]
     },
     "execution_count": 314,
     "metadata": {},
     "output_type": "execute_result"
    }
   ],
   "source": [
    "results_test.head()"
   ]
  }
 ],
 "metadata": {
  "kernelspec": {
   "display_name": "Python 3",
   "language": "python",
   "name": "python3"
  },
  "language_info": {
   "codemirror_mode": {
    "name": "ipython",
    "version": 3
   },
   "file_extension": ".py",
   "mimetype": "text/x-python",
   "name": "python",
   "nbconvert_exporter": "python",
   "pygments_lexer": "ipython3",
   "version": "3.5.2"
  }
 },
 "nbformat": 4,
 "nbformat_minor": 2
}
