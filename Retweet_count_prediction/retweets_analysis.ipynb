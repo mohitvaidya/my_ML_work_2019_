{
 "cells": [
  {
   "cell_type": "code",
   "execution_count": null,
   "metadata": {},
   "outputs": [],
   "source": []
  },
  {
   "cell_type": "code",
   "execution_count": 13,
   "metadata": {},
   "outputs": [
    {
     "ename": "ImportError",
     "evalue": "No module named 'keras'",
     "output_type": "error",
     "traceback": [
      "\u001b[0;31m---------------------------------------------------------------------------\u001b[0m",
      "\u001b[0;31mImportError\u001b[0m                               Traceback (most recent call last)",
      "\u001b[0;32m<ipython-input-13-4bf2f06af1e1>\u001b[0m in \u001b[0;36m<module>\u001b[0;34m\u001b[0m\n\u001b[1;32m     14\u001b[0m \u001b[0;32mfrom\u001b[0m \u001b[0msklearn\u001b[0m\u001b[0;34m.\u001b[0m\u001b[0mmodel_selection\u001b[0m \u001b[0;32mimport\u001b[0m \u001b[0mtrain_test_split\u001b[0m\u001b[0;34m\u001b[0m\u001b[0m\n\u001b[1;32m     15\u001b[0m \u001b[0;32mfrom\u001b[0m \u001b[0msklearn\u001b[0m\u001b[0;34m.\u001b[0m\u001b[0mensemble\u001b[0m \u001b[0;32mimport\u001b[0m \u001b[0mGradientBoostingRegressor\u001b[0m\u001b[0;34m\u001b[0m\u001b[0m\n\u001b[0;32m---> 16\u001b[0;31m \u001b[0;32mimport\u001b[0m \u001b[0mkeras\u001b[0m\u001b[0;34m\u001b[0m\u001b[0m\n\u001b[0m\u001b[1;32m     17\u001b[0m \u001b[0;32mfrom\u001b[0m \u001b[0mkeras\u001b[0m\u001b[0;34m.\u001b[0m\u001b[0mlayers\u001b[0m \u001b[0;32mimport\u001b[0m \u001b[0mmerge\u001b[0m\u001b[0;34m,\u001b[0m \u001b[0mInput\u001b[0m\u001b[0;34m,\u001b[0m\u001b[0mInputLayer\u001b[0m\u001b[0;34m\u001b[0m\u001b[0m\n\u001b[1;32m     18\u001b[0m \u001b[0;32mfrom\u001b[0m \u001b[0mkeras\u001b[0m\u001b[0;34m.\u001b[0m\u001b[0mengine\u001b[0m \u001b[0;32mimport\u001b[0m \u001b[0mInputLayer\u001b[0m\u001b[0;34m\u001b[0m\u001b[0m\n",
      "\u001b[0;31mImportError\u001b[0m: No module named 'keras'"
     ]
    }
   ],
   "source": [
    "import pandas as pd\n",
    "import re\n",
    "from nltk import pos_tag\n",
    "from nltk import word_tokenize\n",
    "from nltk.stem.wordnet import WordNetLemmatizer\n",
    "from nltk.corpus import wordnet\n",
    "from sklearn.feature_extraction.text import CountVectorizer\n",
    "import math\n",
    "from tqdm import tqdm\n",
    "from sklearn.decomposition import TruncatedSVD\n",
    "import pickle\n",
    "import seaborn as sns\n",
    "from sklearn.preprocessing import StandardScaler\n",
    "from sklearn.model_selection import train_test_split\n",
    "from sklearn.ensemble import GradientBoostingRegressor\n",
    "import keras\n",
    "from keras.layers import merge, Input,InputLayer\n",
    "from keras.engine import InputLayer\n",
    "from keras.layers import Dense, Activation\n",
    "from keras.layers.core import Activation, Dense, Flatten\n",
    "from keras.models import Sequential\n",
    "from keras.layers import Dense"
   ]
  },
  {
   "cell_type": "code",
   "execution_count": 485,
   "metadata": {},
   "outputs": [],
   "source": [
    "\n",
    "stop=['href','com','rel','@','http','https','all','i',\t'me',\t'my',\t'myself',\t'we',\t'our',\t'ours',\t'ourselves',\t'you',\t\"you're\",\t\"you've\",\t\"you'll\",\t\"you'd\",\t'your',\t'yours',\t'yourself',\t'yourselves',\t'he',\t'him',\t'his',\t'himself',\t'she',\t\"she's\",\t'her',\t'hers',\t'herself',\t'it',\t\"it's\",\t'its',\t'itself',\t'they',\t'them',\t'their',\t'theirs',\t'themselves',\t'what',\t'which',\t'who',\t'whom',\t'this',\t'that',\t\"that'll\",\t'these',\t'those',\t'am',\t'is',\t'are',\t'was',\t'were',\t'be',\t'been',\t'being',\t'have',\t'has',\t'had',\t'having',\t'do',\t'does',\t'did',\t'doing',\t'a',\t'an',\t'the',\t'and',\t'but',\t'if',\t'or',\t'because',\t'as',\t'until',\t'while',\t'of',\t'by',\t'for',\t'with',\t'against',\t\t'into',\t'through',\t'during',\t'before',\t'after',\t\t'to',\t\t\t'down',\t'in',\t'out',\t'over',\t'under',\t'again',\t'further',\t'then',\t'once',\t'here',\t'there',\t'when',\t'where',\t'why',\t'how',\t'all',\t'any',\t\t'each',\t'few',\t'more',\t'most',\t'other',\t'some',\t'such',\t'no',\t'nor',\t'not',\t'only',\t'own',\t'same',\t'so',\t'than',\t'too',\t'very',\t's',\t't',\t'can',\t'will',\t'just',\t'don',\t\"don't\",\t'should',\t\"should've\",\t'now',\t'd',\t'll',\t'm',\t'o',\t're',\t've',\t'y',\t'ain',\t'aren',\t\"aren't\",\t'couldn',\t\"couldn't\",\t'didn',\t\"didn't\",\t'doesn',\t\"doesn't\",\t'hadn',\t\"hadn't\",\t'hasn',\t\"hasn't\",\t'haven',\t\"haven't\",\t'isn',\t\"isn't\",\t'ma',\t'mightn',\t\"mightn't\",\t'mustn',\t\"mustn't\",\t'needn',\t\"needn't\",\t'shan',\t\"shan't\",\t'shouldn',\t\"shouldn't\",\t'wasn',\t\"wasn't\",\t'weren',\t\"weren't\",\t'won',\t\"won't\",\t'wouldn',\t\"wouldn't\",\"nbsp\"]\n",
    "\n",
    "def get_wordnet_pos(treebank_tag):\n",
    "    if treebank_tag.startswith('J'):\n",
    "        return wordnet.ADJ\n",
    "    elif treebank_tag.startswith('V'):\n",
    "        return wordnet.VERB\n",
    "    elif treebank_tag.startswith('N'):\n",
    "        return wordnet.NOUN\n",
    "    elif treebank_tag.startswith('R'):\n",
    "        return wordnet.ADV\n",
    "    else:\n",
    "        return wordnet.NOUN\n",
    "\n",
    "def pre_processing(row=''):\n",
    "    try:\n",
    "        if len(row)!=0:\n",
    "\n",
    "            raw_text=re.sub('[^a-zA-Z]+', ' ', row).lower()\n",
    "            raw_text=word_tokenize(raw_text)    \n",
    "            remove_stop=[i for i in raw_text if i not in stop ]\n",
    "            lemmatizer = WordNetLemmatizer()\n",
    "            row=\" \".join(lemmatizer.lemmatize(word,get_wordnet_pos(pos_tag)) for word,pos_tag in pos_tag(remove_stop))\n",
    "            return row\n",
    "        else:\n",
    "            return None\n",
    "    except Exception as e:\n",
    "#         print(e)\n",
    "#         print(row)\n",
    "        return None"
   ]
  },
  {
   "cell_type": "code",
   "execution_count": 486,
   "metadata": {},
   "outputs": [],
   "source": [
    "main_data=pd.read_excel('./tweets.xlsx',parse_dates=['TweetPostedTime','UserSignupDate'],dayfirst=True)"
   ]
  },
  {
   "cell_type": "code",
   "execution_count": 487,
   "metadata": {},
   "outputs": [
    {
     "data": {
      "text/html": [
       "<div>\n",
       "<style scoped>\n",
       "    .dataframe tbody tr th:only-of-type {\n",
       "        vertical-align: middle;\n",
       "    }\n",
       "\n",
       "    .dataframe tbody tr th {\n",
       "        vertical-align: top;\n",
       "    }\n",
       "\n",
       "    .dataframe thead th {\n",
       "        text-align: right;\n",
       "    }\n",
       "</style>\n",
       "<table border=\"1\" class=\"dataframe\">\n",
       "  <thead>\n",
       "    <tr style=\"text-align: right;\">\n",
       "      <th></th>\n",
       "      <th>TweetPostedTime</th>\n",
       "      <th>TweetID</th>\n",
       "      <th>TweetBody</th>\n",
       "      <th>TweetRetweetFlag</th>\n",
       "      <th>TweetSource</th>\n",
       "      <th>TweetInReplyToStatusID</th>\n",
       "      <th>TweetInReplyToUserID</th>\n",
       "      <th>TweetInReplyToScreenName</th>\n",
       "      <th>TweetRetweetCount</th>\n",
       "      <th>TweetFavoritesCount</th>\n",
       "      <th>...</th>\n",
       "      <th>UserDescription</th>\n",
       "      <th>UserLink</th>\n",
       "      <th>UserExpandedLink</th>\n",
       "      <th>UserFollowersCount</th>\n",
       "      <th>UserFriendsCount</th>\n",
       "      <th>UserListedCount</th>\n",
       "      <th>UserSignupDate</th>\n",
       "      <th>UserTweetCount</th>\n",
       "      <th>MacroIterationNumber</th>\n",
       "      <th>tweet.place</th>\n",
       "    </tr>\n",
       "  </thead>\n",
       "  <tbody>\n",
       "    <tr>\n",
       "      <th>0</th>\n",
       "      <td>2016-12-20 10:57:00</td>\n",
       "      <td>811163485052817408</td>\n",
       "      <td>RT @BeachyMaldives: Local interaction is a gre...</td>\n",
       "      <td>True</td>\n",
       "      <td>&lt;a href=\"http://twitter.com/download/iphone\" r...</td>\n",
       "      <td>NaN</td>\n",
       "      <td>NaN</td>\n",
       "      <td>NaN</td>\n",
       "      <td>1</td>\n",
       "      <td>0</td>\n",
       "      <td>...</td>\n",
       "      <td>Pls donate 2 https://t.co/RvOUK9lAWI #YearEndG...</td>\n",
       "      <td>https://t.co/jghZVBsiQF</td>\n",
       "      <td>http://cjqenterprises.com</td>\n",
       "      <td>6334</td>\n",
       "      <td>6144</td>\n",
       "      <td>1917</td>\n",
       "      <td>2015-06-14 22:36:15</td>\n",
       "      <td>33556</td>\n",
       "      <td>0</td>\n",
       "      <td>NaN</td>\n",
       "    </tr>\n",
       "    <tr>\n",
       "      <th>1</th>\n",
       "      <td>2016-12-20 10:56:59</td>\n",
       "      <td>811163483463122944</td>\n",
       "      <td>RT @TechTerraEd: Need #giftideas for your kid(...</td>\n",
       "      <td>True</td>\n",
       "      <td>&lt;a href=\"http://twitter.com/download/iphone\" r...</td>\n",
       "      <td>NaN</td>\n",
       "      <td>NaN</td>\n",
       "      <td>NaN</td>\n",
       "      <td>1</td>\n",
       "      <td>0</td>\n",
       "      <td>...</td>\n",
       "      <td>Educator of students with special needs, Mothe...</td>\n",
       "      <td>NaN</td>\n",
       "      <td>NaN</td>\n",
       "      <td>154</td>\n",
       "      <td>371</td>\n",
       "      <td>180</td>\n",
       "      <td>2010-01-02 13:36:23</td>\n",
       "      <td>3201</td>\n",
       "      <td>0</td>\n",
       "      <td>NaN</td>\n",
       "    </tr>\n",
       "    <tr>\n",
       "      <th>2</th>\n",
       "      <td>2016-12-20 10:56:55</td>\n",
       "      <td>811163466387988480</td>\n",
       "      <td>Seven Questions Before Choosing a Cruise Line ...</td>\n",
       "      <td>False</td>\n",
       "      <td>&lt;a href=\"http://www.google.com/\" rel=\"nofollow...</td>\n",
       "      <td>NaN</td>\n",
       "      <td>NaN</td>\n",
       "      <td>NaN</td>\n",
       "      <td>0</td>\n",
       "      <td>0</td>\n",
       "      <td>...</td>\n",
       "      <td>Thrifty Mom Media social media consulting and ...</td>\n",
       "      <td>https://t.co/cEhGzaQJp6</td>\n",
       "      <td>http://www.thriftymommastips.com/</td>\n",
       "      <td>23433</td>\n",
       "      <td>24762</td>\n",
       "      <td>961</td>\n",
       "      <td>2009-05-26 21:26:09</td>\n",
       "      <td>147958</td>\n",
       "      <td>0</td>\n",
       "      <td>NaN</td>\n",
       "    </tr>\n",
       "    <tr>\n",
       "      <th>3</th>\n",
       "      <td>2016-12-20 10:56:55</td>\n",
       "      <td>811163465125679104</td>\n",
       "      <td>RT @CMGsportsclub: Yoga do Brasil, un havre de...</td>\n",
       "      <td>True</td>\n",
       "      <td>&lt;a href=\"https://roundteam.co\" rel=\"nofollow\"&gt;...</td>\n",
       "      <td>NaN</td>\n",
       "      <td>NaN</td>\n",
       "      <td>NaN</td>\n",
       "      <td>1</td>\n",
       "      <td>0</td>\n",
       "      <td>...</td>\n",
       "      <td>Adventure travel, yoga, paleo, Crossfit, runni...</td>\n",
       "      <td>https://t.co/3IHwXkgAkA</td>\n",
       "      <td>https://primalsanctuary.com</td>\n",
       "      <td>11136</td>\n",
       "      <td>10081</td>\n",
       "      <td>978</td>\n",
       "      <td>2015-09-12 20:29:18</td>\n",
       "      <td>28988</td>\n",
       "      <td>0</td>\n",
       "      <td>NaN</td>\n",
       "    </tr>\n",
       "    <tr>\n",
       "      <th>4</th>\n",
       "      <td>2016-12-20 10:56:53</td>\n",
       "      <td>811163457508642817</td>\n",
       "      <td>RT @StylishRentals: Love this! \"Palm Springs M...</td>\n",
       "      <td>True</td>\n",
       "      <td>&lt;a href=\"http://twitter.com\" rel=\"nofollow\"&gt;Tw...</td>\n",
       "      <td>NaN</td>\n",
       "      <td>NaN</td>\n",
       "      <td>NaN</td>\n",
       "      <td>3065</td>\n",
       "      <td>0</td>\n",
       "      <td>...</td>\n",
       "      <td>I really have got giant ambitions. I start com...</td>\n",
       "      <td>NaN</td>\n",
       "      <td>NaN</td>\n",
       "      <td>55</td>\n",
       "      <td>21</td>\n",
       "      <td>31</td>\n",
       "      <td>2016-09-07 16:22:15</td>\n",
       "      <td>19581</td>\n",
       "      <td>0</td>\n",
       "      <td>NaN</td>\n",
       "    </tr>\n",
       "  </tbody>\n",
       "</table>\n",
       "<p>5 rows × 32 columns</p>\n",
       "</div>"
      ],
      "text/plain": [
       "      TweetPostedTime             TweetID  \\\n",
       "0 2016-12-20 10:57:00  811163485052817408   \n",
       "1 2016-12-20 10:56:59  811163483463122944   \n",
       "2 2016-12-20 10:56:55  811163466387988480   \n",
       "3 2016-12-20 10:56:55  811163465125679104   \n",
       "4 2016-12-20 10:56:53  811163457508642817   \n",
       "\n",
       "                                           TweetBody  TweetRetweetFlag  \\\n",
       "0  RT @BeachyMaldives: Local interaction is a gre...              True   \n",
       "1  RT @TechTerraEd: Need #giftideas for your kid(...              True   \n",
       "2  Seven Questions Before Choosing a Cruise Line ...             False   \n",
       "3  RT @CMGsportsclub: Yoga do Brasil, un havre de...              True   \n",
       "4  RT @StylishRentals: Love this! \"Palm Springs M...              True   \n",
       "\n",
       "                                         TweetSource  TweetInReplyToStatusID  \\\n",
       "0  <a href=\"http://twitter.com/download/iphone\" r...                     NaN   \n",
       "1  <a href=\"http://twitter.com/download/iphone\" r...                     NaN   \n",
       "2  <a href=\"http://www.google.com/\" rel=\"nofollow...                     NaN   \n",
       "3  <a href=\"https://roundteam.co\" rel=\"nofollow\">...                     NaN   \n",
       "4  <a href=\"http://twitter.com\" rel=\"nofollow\">Tw...                     NaN   \n",
       "\n",
       "   TweetInReplyToUserID TweetInReplyToScreenName  TweetRetweetCount  \\\n",
       "0                   NaN                      NaN                  1   \n",
       "1                   NaN                      NaN                  1   \n",
       "2                   NaN                      NaN                  0   \n",
       "3                   NaN                      NaN                  1   \n",
       "4                   NaN                      NaN               3065   \n",
       "\n",
       "   TweetFavoritesCount     ...      \\\n",
       "0                    0     ...       \n",
       "1                    0     ...       \n",
       "2                    0     ...       \n",
       "3                    0     ...       \n",
       "4                    0     ...       \n",
       "\n",
       "                                     UserDescription                 UserLink  \\\n",
       "0  Pls donate 2 https://t.co/RvOUK9lAWI #YearEndG...  https://t.co/jghZVBsiQF   \n",
       "1  Educator of students with special needs, Mothe...                      NaN   \n",
       "2  Thrifty Mom Media social media consulting and ...  https://t.co/cEhGzaQJp6   \n",
       "3  Adventure travel, yoga, paleo, Crossfit, runni...  https://t.co/3IHwXkgAkA   \n",
       "4  I really have got giant ambitions. I start com...                      NaN   \n",
       "\n",
       "                    UserExpandedLink UserFollowersCount UserFriendsCount  \\\n",
       "0          http://cjqenterprises.com               6334             6144   \n",
       "1                                NaN                154              371   \n",
       "2  http://www.thriftymommastips.com/              23433            24762   \n",
       "3        https://primalsanctuary.com              11136            10081   \n",
       "4                                NaN                 55               21   \n",
       "\n",
       "  UserListedCount      UserSignupDate  UserTweetCount  MacroIterationNumber  \\\n",
       "0            1917 2015-06-14 22:36:15           33556                     0   \n",
       "1             180 2010-01-02 13:36:23            3201                     0   \n",
       "2             961 2009-05-26 21:26:09          147958                     0   \n",
       "3             978 2015-09-12 20:29:18           28988                     0   \n",
       "4              31 2016-09-07 16:22:15           19581                     0   \n",
       "\n",
       "  tweet.place  \n",
       "0         NaN  \n",
       "1         NaN  \n",
       "2         NaN  \n",
       "3         NaN  \n",
       "4         NaN  \n",
       "\n",
       "[5 rows x 32 columns]"
      ]
     },
     "execution_count": 487,
     "metadata": {},
     "output_type": "execute_result"
    }
   ],
   "source": [
    "main_data.head()"
   ]
  },
  {
   "cell_type": "code",
   "execution_count": 488,
   "metadata": {},
   "outputs": [],
   "source": [
    "tweet_data=main_data.copy()"
   ]
  },
  {
   "cell_type": "code",
   "execution_count": 489,
   "metadata": {},
   "outputs": [
    {
     "data": {
      "text/plain": [
       "16947"
      ]
     },
     "execution_count": 489,
     "metadata": {},
     "output_type": "execute_result"
    }
   ],
   "source": [
    "threshold=int(len(tweet_data)*0.40)\n",
    "threshold"
   ]
  },
  {
   "cell_type": "code",
   "execution_count": 490,
   "metadata": {},
   "outputs": [
    {
     "data": {
      "text/plain": [
       "['TweetInReplyToStatusID', 'TweetInReplyToUserID', 'TweetInReplyToScreenName', 'TweetPlaceID', 'TweetPlaceName', 'TweetPlaceFullName', 'TweetCountry', 'TweetPlaceBoundingBox', 'TweetPlaceAttributes', 'TweetPlaceContainedWithin', 'UserLink', 'UserExpandedLink', 'tweet.place']"
      ]
     },
     "execution_count": 490,
     "metadata": {},
     "output_type": "execute_result"
    }
   ],
   "source": [
    "col_drop=[]\n",
    "for i,j in dict(main_data.isna().sum()).items():\n",
    "    if j>threshold:\n",
    "        col_drop.append(i)\n",
    "col_drop        "
   ]
  },
  {
   "cell_type": "code",
   "execution_count": 491,
   "metadata": {},
   "outputs": [],
   "source": [
    "col_drop=['TweetInReplyToStatusID',\n",
    " 'TweetInReplyToUserID', 'TweetInReplyToScreenName',\n",
    " 'TweetPlaceID', 'TweetPlaceName',\n",
    " 'TweetPlaceFullName', 'TweetCountry', 'TweetPlaceBoundingBox',\n",
    " 'TweetPlaceAttributes', 'TweetPlaceContainedWithin',\n",
    " 'UserLink', 'UserExpandedLink', 'tweet.place']"
   ]
  },
  {
   "cell_type": "code",
   "execution_count": 492,
   "metadata": {},
   "outputs": [
    {
     "data": {
      "text/plain": [
       "TweetInReplyToStatusID       42267\n",
       "TweetInReplyToUserID         42179\n",
       "TweetInReplyToScreenName     42179\n",
       "TweetPlaceID                 41368\n",
       "TweetPlaceName               41368\n",
       "TweetPlaceFullName           41368\n",
       "TweetCountry                 41369\n",
       "TweetPlaceBoundingBox        41368\n",
       "TweetPlaceAttributes         42368\n",
       "TweetPlaceContainedWithin    42368\n",
       "UserLink                     25769\n",
       "UserExpandedLink             25806\n",
       "tweet.place                  41368\n",
       "dtype: int64"
      ]
     },
     "execution_count": 492,
     "metadata": {},
     "output_type": "execute_result"
    }
   ],
   "source": [
    "tweet_data[col_drop].isna().sum()"
   ]
  },
  {
   "cell_type": "code",
   "execution_count": 493,
   "metadata": {},
   "outputs": [],
   "source": [
    "tweet_data.drop(labels=col_drop,axis=1,inplace=True)"
   ]
  },
  {
   "cell_type": "code",
   "execution_count": 494,
   "metadata": {},
   "outputs": [
    {
     "data": {
      "text/plain": [
       "TweetPostedTime             0\n",
       "TweetID                     0\n",
       "TweetBody                   0\n",
       "TweetRetweetFlag            0\n",
       "TweetSource                 0\n",
       "TweetRetweetCount           0\n",
       "TweetFavoritesCount         0\n",
       "TweetHashtags             100\n",
       "UserID                      0\n",
       "UserName                    0\n",
       "UserScreenName              0\n",
       "UserLocation            16026\n",
       "UserDescription          4364\n",
       "UserFollowersCount          0\n",
       "UserFriendsCount            0\n",
       "UserListedCount             0\n",
       "UserSignupDate              0\n",
       "UserTweetCount              0\n",
       "MacroIterationNumber        0\n",
       "dtype: int64"
      ]
     },
     "execution_count": 494,
     "metadata": {},
     "output_type": "execute_result"
    }
   ],
   "source": [
    "tweet_data.isna().sum()"
   ]
  },
  {
   "cell_type": "code",
   "execution_count": 495,
   "metadata": {},
   "outputs": [
    {
     "data": {
      "text/html": [
       "<div>\n",
       "<style scoped>\n",
       "    .dataframe tbody tr th:only-of-type {\n",
       "        vertical-align: middle;\n",
       "    }\n",
       "\n",
       "    .dataframe tbody tr th {\n",
       "        vertical-align: top;\n",
       "    }\n",
       "\n",
       "    .dataframe thead th {\n",
       "        text-align: right;\n",
       "    }\n",
       "</style>\n",
       "<table border=\"1\" class=\"dataframe\">\n",
       "  <thead>\n",
       "    <tr style=\"text-align: right;\">\n",
       "      <th></th>\n",
       "      <th>TweetPostedTime</th>\n",
       "      <th>TweetID</th>\n",
       "      <th>TweetBody</th>\n",
       "      <th>TweetRetweetFlag</th>\n",
       "      <th>TweetSource</th>\n",
       "      <th>TweetRetweetCount</th>\n",
       "      <th>TweetFavoritesCount</th>\n",
       "      <th>TweetHashtags</th>\n",
       "      <th>UserID</th>\n",
       "      <th>UserName</th>\n",
       "      <th>UserScreenName</th>\n",
       "      <th>UserLocation</th>\n",
       "      <th>UserDescription</th>\n",
       "      <th>UserFollowersCount</th>\n",
       "      <th>UserFriendsCount</th>\n",
       "      <th>UserListedCount</th>\n",
       "      <th>UserSignupDate</th>\n",
       "      <th>UserTweetCount</th>\n",
       "      <th>MacroIterationNumber</th>\n",
       "    </tr>\n",
       "  </thead>\n",
       "  <tbody>\n",
       "    <tr>\n",
       "      <th>0</th>\n",
       "      <td>2016-12-20 10:57:00</td>\n",
       "      <td>811163485052817408</td>\n",
       "      <td>RT @BeachyMaldives: Local interaction is a gre...</td>\n",
       "      <td>True</td>\n",
       "      <td>&lt;a href=\"http://twitter.com/download/iphone\" r...</td>\n",
       "      <td>1</td>\n",
       "      <td>0</td>\n",
       "      <td>Maldives, vacation, travel</td>\n",
       "      <td>3325724261</td>\n",
       "      <td>CjQenterprises</td>\n",
       "      <td>CjQenterprises</td>\n",
       "      <td>United States</td>\n",
       "      <td>Pls donate 2 https://t.co/RvOUK9lAWI #YearEndG...</td>\n",
       "      <td>6334</td>\n",
       "      <td>6144</td>\n",
       "      <td>1917</td>\n",
       "      <td>2015-06-14 22:36:15</td>\n",
       "      <td>33556</td>\n",
       "      <td>0</td>\n",
       "    </tr>\n",
       "    <tr>\n",
       "      <th>1</th>\n",
       "      <td>2016-12-20 10:56:59</td>\n",
       "      <td>811163483463122944</td>\n",
       "      <td>RT @TechTerraEd: Need #giftideas for your kid(...</td>\n",
       "      <td>True</td>\n",
       "      <td>&lt;a href=\"http://twitter.com/download/iphone\" r...</td>\n",
       "      <td>1</td>\n",
       "      <td>0</td>\n",
       "      <td>giftideas, holiday</td>\n",
       "      <td>101222953</td>\n",
       "      <td>monica</td>\n",
       "      <td>mama0004</td>\n",
       "      <td>durham  nc</td>\n",
       "      <td>Educator of students with special needs, Mothe...</td>\n",
       "      <td>154</td>\n",
       "      <td>371</td>\n",
       "      <td>180</td>\n",
       "      <td>2010-01-02 13:36:23</td>\n",
       "      <td>3201</td>\n",
       "      <td>0</td>\n",
       "    </tr>\n",
       "    <tr>\n",
       "      <th>2</th>\n",
       "      <td>2016-12-20 10:56:55</td>\n",
       "      <td>811163466387988480</td>\n",
       "      <td>Seven Questions Before Choosing a Cruise Line ...</td>\n",
       "      <td>False</td>\n",
       "      <td>&lt;a href=\"http://www.google.com/\" rel=\"nofollow...</td>\n",
       "      <td>0</td>\n",
       "      <td>0</td>\n",
       "      <td>travel, TTOT</td>\n",
       "      <td>42725028</td>\n",
       "      <td>Paula Schuck</td>\n",
       "      <td>inkscrblr</td>\n",
       "      <td>Canada</td>\n",
       "      <td>Thrifty Mom Media social media consulting and ...</td>\n",
       "      <td>23433</td>\n",
       "      <td>24762</td>\n",
       "      <td>961</td>\n",
       "      <td>2009-05-26 21:26:09</td>\n",
       "      <td>147958</td>\n",
       "      <td>0</td>\n",
       "    </tr>\n",
       "    <tr>\n",
       "      <th>3</th>\n",
       "      <td>2016-12-20 10:56:55</td>\n",
       "      <td>811163465125679104</td>\n",
       "      <td>RT @CMGsportsclub: Yoga do Brasil, un havre de...</td>\n",
       "      <td>True</td>\n",
       "      <td>&lt;a href=\"https://roundteam.co\" rel=\"nofollow\"&gt;...</td>\n",
       "      <td>1</td>\n",
       "      <td>0</td>\n",
       "      <td>yoga, bresil, meditation, holiday</td>\n",
       "      <td>3541532718</td>\n",
       "      <td>Primal Sanctuary</td>\n",
       "      <td>primalsanctuary</td>\n",
       "      <td>Cypress, Texas, USA</td>\n",
       "      <td>Adventure travel, yoga, paleo, Crossfit, runni...</td>\n",
       "      <td>11136</td>\n",
       "      <td>10081</td>\n",
       "      <td>978</td>\n",
       "      <td>2015-09-12 20:29:18</td>\n",
       "      <td>28988</td>\n",
       "      <td>0</td>\n",
       "    </tr>\n",
       "    <tr>\n",
       "      <th>4</th>\n",
       "      <td>2016-12-20 10:56:53</td>\n",
       "      <td>811163457508642817</td>\n",
       "      <td>RT @StylishRentals: Love this! \"Palm Springs M...</td>\n",
       "      <td>True</td>\n",
       "      <td>&lt;a href=\"http://twitter.com\" rel=\"nofollow\"&gt;Tw...</td>\n",
       "      <td>3065</td>\n",
       "      <td>0</td>\n",
       "      <td>Travel</td>\n",
       "      <td>773556998034063360</td>\n",
       "      <td>Joe</td>\n",
       "      <td>biryukovasever2</td>\n",
       "      <td>Providence</td>\n",
       "      <td>I really have got giant ambitions. I start com...</td>\n",
       "      <td>55</td>\n",
       "      <td>21</td>\n",
       "      <td>31</td>\n",
       "      <td>2016-09-07 16:22:15</td>\n",
       "      <td>19581</td>\n",
       "      <td>0</td>\n",
       "    </tr>\n",
       "  </tbody>\n",
       "</table>\n",
       "</div>"
      ],
      "text/plain": [
       "      TweetPostedTime             TweetID  \\\n",
       "0 2016-12-20 10:57:00  811163485052817408   \n",
       "1 2016-12-20 10:56:59  811163483463122944   \n",
       "2 2016-12-20 10:56:55  811163466387988480   \n",
       "3 2016-12-20 10:56:55  811163465125679104   \n",
       "4 2016-12-20 10:56:53  811163457508642817   \n",
       "\n",
       "                                           TweetBody  TweetRetweetFlag  \\\n",
       "0  RT @BeachyMaldives: Local interaction is a gre...              True   \n",
       "1  RT @TechTerraEd: Need #giftideas for your kid(...              True   \n",
       "2  Seven Questions Before Choosing a Cruise Line ...             False   \n",
       "3  RT @CMGsportsclub: Yoga do Brasil, un havre de...              True   \n",
       "4  RT @StylishRentals: Love this! \"Palm Springs M...              True   \n",
       "\n",
       "                                         TweetSource  TweetRetweetCount  \\\n",
       "0  <a href=\"http://twitter.com/download/iphone\" r...                  1   \n",
       "1  <a href=\"http://twitter.com/download/iphone\" r...                  1   \n",
       "2  <a href=\"http://www.google.com/\" rel=\"nofollow...                  0   \n",
       "3  <a href=\"https://roundteam.co\" rel=\"nofollow\">...                  1   \n",
       "4  <a href=\"http://twitter.com\" rel=\"nofollow\">Tw...               3065   \n",
       "\n",
       "   TweetFavoritesCount                      TweetHashtags              UserID  \\\n",
       "0                    0         Maldives, vacation, travel          3325724261   \n",
       "1                    0                 giftideas, holiday           101222953   \n",
       "2                    0                       travel, TTOT            42725028   \n",
       "3                    0  yoga, bresil, meditation, holiday          3541532718   \n",
       "4                    0                             Travel  773556998034063360   \n",
       "\n",
       "           UserName   UserScreenName         UserLocation  \\\n",
       "0    CjQenterprises   CjQenterprises        United States   \n",
       "1            monica         mama0004           durham  nc   \n",
       "2      Paula Schuck        inkscrblr               Canada   \n",
       "3  Primal Sanctuary  primalsanctuary  Cypress, Texas, USA   \n",
       "4               Joe  biryukovasever2           Providence   \n",
       "\n",
       "                                     UserDescription  UserFollowersCount  \\\n",
       "0  Pls donate 2 https://t.co/RvOUK9lAWI #YearEndG...                6334   \n",
       "1  Educator of students with special needs, Mothe...                 154   \n",
       "2  Thrifty Mom Media social media consulting and ...               23433   \n",
       "3  Adventure travel, yoga, paleo, Crossfit, runni...               11136   \n",
       "4  I really have got giant ambitions. I start com...                  55   \n",
       "\n",
       "   UserFriendsCount  UserListedCount      UserSignupDate  UserTweetCount  \\\n",
       "0              6144             1917 2015-06-14 22:36:15           33556   \n",
       "1               371              180 2010-01-02 13:36:23            3201   \n",
       "2             24762              961 2009-05-26 21:26:09          147958   \n",
       "3             10081              978 2015-09-12 20:29:18           28988   \n",
       "4                21               31 2016-09-07 16:22:15           19581   \n",
       "\n",
       "   MacroIterationNumber  \n",
       "0                     0  \n",
       "1                     0  \n",
       "2                     0  \n",
       "3                     0  \n",
       "4                     0  "
      ]
     },
     "execution_count": 495,
     "metadata": {},
     "output_type": "execute_result"
    }
   ],
   "source": [
    "tweet_data.head()"
   ]
  },
  {
   "cell_type": "code",
   "execution_count": 496,
   "metadata": {},
   "outputs": [],
   "source": [
    "%matplotlib inline\n",
    "diff_year=pd.Series((tweet_data.TweetPostedTime.dt.year - tweet_data.UserSignupDate.dt.year)*12)\n",
    "\n",
    "diff_month = pd.Series(tweet_data.TweetPostedTime.dt.month - tweet_data.UserSignupDate.dt.month)\n",
    "\n",
    "tweet_data['tenure_in_month'] = pd.Series(diff_year+diff_month)\n",
    "\n",
    "tweet_data.drop(labels=['UserSignupDate','TweetPostedTime'],axis=1,inplace=True)"
   ]
  },
  {
   "cell_type": "code",
   "execution_count": 497,
   "metadata": {},
   "outputs": [],
   "source": [
    "char_col=[]\n",
    "num_col=[]\n",
    "for col in tweet_data.columns:\n",
    "    if tweet_data[col].dtype=='object':\n",
    "        char_col.append(col)\n",
    "    else:\n",
    "        num_col.append(col)"
   ]
  },
  {
   "cell_type": "code",
   "execution_count": 498,
   "metadata": {},
   "outputs": [],
   "source": [
    "tweet_data[char_col]=tweet_data[char_col].fillna('')"
   ]
  },
  {
   "cell_type": "code",
   "execution_count": 499,
   "metadata": {},
   "outputs": [
    {
     "data": {
      "text/plain": [
       "TweetBody          0\n",
       "TweetSource        0\n",
       "TweetHashtags      0\n",
       "UserName           0\n",
       "UserScreenName     0\n",
       "UserLocation       0\n",
       "UserDescription    0\n",
       "dtype: int64"
      ]
     },
     "execution_count": 499,
     "metadata": {},
     "output_type": "execute_result"
    }
   ],
   "source": [
    "tweet_data[char_col].isna().sum()"
   ]
  },
  {
   "cell_type": "code",
   "execution_count": 500,
   "metadata": {},
   "outputs": [],
   "source": [
    "tweet_data['concat_text'] = tweet_data.TweetBody + ' ' +  tweet_data.TweetSource + ' ' + tweet_data.TweetHashtags + ' '+ tweet_data.UserLocation +' '+ tweet_data.UserDescription"
   ]
  },
  {
   "cell_type": "code",
   "execution_count": 501,
   "metadata": {},
   "outputs": [
    {
     "name": "stderr",
     "output_type": "stream",
     "text": [
      "100%|███████████████████████████████████| 42368/42368 [03:10<00:00, 222.14it/s]\n"
     ]
    }
   ],
   "source": [
    "tqdm.pandas()\n",
    "tweet_data.concat_text=tweet_data.concat_text.progress_apply(pre_processing)"
   ]
  },
  {
   "cell_type": "code",
   "execution_count": 502,
   "metadata": {},
   "outputs": [],
   "source": [
    "X= tweet_data.concat_text\n",
    "bow_transformer = CountVectorizer().fit(X)\n",
    "X = bow_transformer.fit_transform(X)"
   ]
  },
  {
   "cell_type": "code",
   "execution_count": 503,
   "metadata": {},
   "outputs": [
    {
     "data": {
      "text/plain": [
       "(42368, 74673)"
      ]
     },
     "execution_count": 503,
     "metadata": {},
     "output_type": "execute_result"
    }
   ],
   "source": [
    "X.shape"
   ]
  },
  {
   "cell_type": "code",
   "execution_count": 511,
   "metadata": {},
   "outputs": [],
   "source": [
    "# save the classifier\n",
    "with open('bow_trans.pkl', 'wb') as fid:\n",
    "    pickle.dump(bow_transformer, fid)    \n"
   ]
  },
  {
   "cell_type": "code",
   "execution_count": 505,
   "metadata": {},
   "outputs": [],
   "source": [
    "# from sklearn.feature_extraction.text import TfidfVectorizer\n",
    "# X= tweet_data.concat_text\n",
    "# vectorizer = TfidfVectorizer()\n",
    "# X = vectorizer.fit_transform(X.T)"
   ]
  },
  {
   "cell_type": "code",
   "execution_count": null,
   "metadata": {},
   "outputs": [],
   "source": [
    "scale=StandardScaler()\n",
    "scale.fit(X)\n",
    "scaled_data_svd=scale.transform(scaled_data_in)"
   ]
  },
  {
   "cell_type": "code",
   "execution_count": 532,
   "metadata": {},
   "outputs": [],
   "source": [
    "svd = TruncatedSVD(n_components = 110, n_iter=7, random_state=42)"
   ]
  },
  {
   "cell_type": "code",
   "execution_count": 533,
   "metadata": {},
   "outputs": [
    {
     "data": {
      "text/plain": [
       "TruncatedSVD(algorithm='randomized', n_components=110, n_iter=7,\n",
       "       random_state=42, tol=0.0)"
      ]
     },
     "execution_count": 533,
     "metadata": {},
     "output_type": "execute_result"
    }
   ],
   "source": [
    "svd.fit(scaled_data_svd.T)"
   ]
  },
  {
   "cell_type": "code",
   "execution_count": 534,
   "metadata": {},
   "outputs": [
    {
     "data": {
      "text/plain": [
       "array([[ 0.14325847,  0.13401238, -0.11450353, ...,  0.05879989,\n",
       "         0.10578671, -0.00803007],\n",
       "       [ 0.02404746,  0.01159884,  0.02531538, ..., -0.00299409,\n",
       "        -0.00769984,  0.01327882],\n",
       "       [ 0.00483591,  0.00127368,  0.00159894, ..., -0.00088288,\n",
       "         0.00065555, -0.00135973],\n",
       "       ...,\n",
       "       [ 0.00454318,  0.00207745,  0.0018911 , ..., -0.00094777,\n",
       "        -0.01226723, -0.00091272],\n",
       "       [ 0.00380038,  0.00278083, -0.00556789, ..., -0.00035456,\n",
       "        -0.00109749,  0.00206757],\n",
       "       [ 0.02332934,  0.01222821, -0.01049056, ...,  0.01197578,\n",
       "        -0.02263038, -0.01233291]])"
      ]
     },
     "execution_count": 534,
     "metadata": {},
     "output_type": "execute_result"
    }
   ],
   "source": [
    "svd.transform(scaled_data_svd.T)"
   ]
  },
  {
   "cell_type": "code",
   "execution_count": 535,
   "metadata": {},
   "outputs": [
    {
     "name": "stdout",
     "output_type": "stream",
     "text": [
      "0.6221513744711199\n"
     ]
    }
   ],
   "source": [
    " print(svd.explained_variance_ratio_.sum()) "
   ]
  },
  {
   "cell_type": "code",
   "execution_count": 536,
   "metadata": {},
   "outputs": [],
   "source": [
    "with open('svd.pkl', 'wb') as fid:\n",
    "    pickle.dump(svd, fid)    "
   ]
  },
  {
   "cell_type": "code",
   "execution_count": 108,
   "metadata": {},
   "outputs": [],
   "source": [
    "svd_data = svd.components_.T"
   ]
  },
  {
   "cell_type": "code",
   "execution_count": 109,
   "metadata": {},
   "outputs": [
    {
     "data": {
      "text/html": [
       "<div>\n",
       "<style scoped>\n",
       "    .dataframe tbody tr th:only-of-type {\n",
       "        vertical-align: middle;\n",
       "    }\n",
       "\n",
       "    .dataframe tbody tr th {\n",
       "        vertical-align: top;\n",
       "    }\n",
       "\n",
       "    .dataframe thead th {\n",
       "        text-align: right;\n",
       "    }\n",
       "</style>\n",
       "<table border=\"1\" class=\"dataframe\">\n",
       "  <thead>\n",
       "    <tr style=\"text-align: right;\">\n",
       "      <th></th>\n",
       "      <th>TweetFavoritesCount</th>\n",
       "      <th>UserFollowersCount</th>\n",
       "      <th>UserFriendsCount</th>\n",
       "      <th>UserListedCount</th>\n",
       "      <th>UserTweetCount</th>\n",
       "      <th>MacroIterationNumber</th>\n",
       "      <th>tenure_in_month</th>\n",
       "    </tr>\n",
       "  </thead>\n",
       "  <tbody>\n",
       "    <tr>\n",
       "      <th>TweetFavoritesCount</th>\n",
       "      <td>1.000000</td>\n",
       "      <td>0.031358</td>\n",
       "      <td>0.018708</td>\n",
       "      <td>0.009973</td>\n",
       "      <td>-0.003033</td>\n",
       "      <td>0.005040</td>\n",
       "      <td>0.021195</td>\n",
       "    </tr>\n",
       "    <tr>\n",
       "      <th>UserFollowersCount</th>\n",
       "      <td>0.031358</td>\n",
       "      <td>1.000000</td>\n",
       "      <td>0.714140</td>\n",
       "      <td>0.493029</td>\n",
       "      <td>0.154184</td>\n",
       "      <td>-0.010877</td>\n",
       "      <td>0.122127</td>\n",
       "    </tr>\n",
       "    <tr>\n",
       "      <th>UserFriendsCount</th>\n",
       "      <td>0.018708</td>\n",
       "      <td>0.714140</td>\n",
       "      <td>1.000000</td>\n",
       "      <td>0.503876</td>\n",
       "      <td>0.352575</td>\n",
       "      <td>-0.020666</td>\n",
       "      <td>0.166581</td>\n",
       "    </tr>\n",
       "    <tr>\n",
       "      <th>UserListedCount</th>\n",
       "      <td>0.009973</td>\n",
       "      <td>0.493029</td>\n",
       "      <td>0.503876</td>\n",
       "      <td>1.000000</td>\n",
       "      <td>0.532808</td>\n",
       "      <td>0.001354</td>\n",
       "      <td>0.269027</td>\n",
       "    </tr>\n",
       "    <tr>\n",
       "      <th>UserTweetCount</th>\n",
       "      <td>-0.003033</td>\n",
       "      <td>0.154184</td>\n",
       "      <td>0.352575</td>\n",
       "      <td>0.532808</td>\n",
       "      <td>1.000000</td>\n",
       "      <td>0.002116</td>\n",
       "      <td>0.204573</td>\n",
       "    </tr>\n",
       "    <tr>\n",
       "      <th>MacroIterationNumber</th>\n",
       "      <td>0.005040</td>\n",
       "      <td>-0.010877</td>\n",
       "      <td>-0.020666</td>\n",
       "      <td>0.001354</td>\n",
       "      <td>0.002116</td>\n",
       "      <td>1.000000</td>\n",
       "      <td>-0.076680</td>\n",
       "    </tr>\n",
       "    <tr>\n",
       "      <th>tenure_in_month</th>\n",
       "      <td>0.021195</td>\n",
       "      <td>0.122127</td>\n",
       "      <td>0.166581</td>\n",
       "      <td>0.269027</td>\n",
       "      <td>0.204573</td>\n",
       "      <td>-0.076680</td>\n",
       "      <td>1.000000</td>\n",
       "    </tr>\n",
       "  </tbody>\n",
       "</table>\n",
       "</div>"
      ],
      "text/plain": [
       "                      TweetFavoritesCount  UserFollowersCount  \\\n",
       "TweetFavoritesCount              1.000000            0.031358   \n",
       "UserFollowersCount               0.031358            1.000000   \n",
       "UserFriendsCount                 0.018708            0.714140   \n",
       "UserListedCount                  0.009973            0.493029   \n",
       "UserTweetCount                  -0.003033            0.154184   \n",
       "MacroIterationNumber             0.005040           -0.010877   \n",
       "tenure_in_month                  0.021195            0.122127   \n",
       "\n",
       "                      UserFriendsCount  UserListedCount  UserTweetCount  \\\n",
       "TweetFavoritesCount           0.018708         0.009973       -0.003033   \n",
       "UserFollowersCount            0.714140         0.493029        0.154184   \n",
       "UserFriendsCount              1.000000         0.503876        0.352575   \n",
       "UserListedCount               0.503876         1.000000        0.532808   \n",
       "UserTweetCount                0.352575         0.532808        1.000000   \n",
       "MacroIterationNumber         -0.020666         0.001354        0.002116   \n",
       "tenure_in_month               0.166581         0.269027        0.204573   \n",
       "\n",
       "                      MacroIterationNumber  tenure_in_month  \n",
       "TweetFavoritesCount               0.005040         0.021195  \n",
       "UserFollowersCount               -0.010877         0.122127  \n",
       "UserFriendsCount                 -0.020666         0.166581  \n",
       "UserListedCount                   0.001354         0.269027  \n",
       "UserTweetCount                    0.002116         0.204573  \n",
       "MacroIterationNumber              1.000000        -0.076680  \n",
       "tenure_in_month                  -0.076680         1.000000  "
      ]
     },
     "execution_count": 109,
     "metadata": {},
     "output_type": "execute_result"
    }
   ],
   "source": [
    "tweet_data[num_col].drop(labels=['TweetRetweetFlag','TweetID','UserID','TweetRetweetCount'],axis=1,inplace=False).corr()"
   ]
  },
  {
   "cell_type": "code",
   "execution_count": 164,
   "metadata": {},
   "outputs": [
    {
     "data": {
      "image/png": "[encoded data removed]",
      "text/plain": [
       "<Figure size 432x288 with 2 Axes>"
      ]
     },
     "metadata": {},
     "output_type": "display_data"
    }
   ],
   "source": [
    "sns.set()\n",
    "ax = sns.heatmap(tweet_data[num_col].drop(labels=['UserFriendsCount','TweetRetweetFlag','UserListedCount','UserTweetCount','TweetID','UserID'],axis=1,inplace=False).corr())\n"
   ]
  },
  {
   "cell_type": "code",
   "execution_count": 300,
   "metadata": {},
   "outputs": [],
   "source": [
    "scaled_data_in = tweet_data[num_col].drop(labels=['TweetRetweetCount','UserFriendsCount','UserTweetCount','TweetRetweetFlag','UserListedCount','TweetID','UserID'],axis=1,inplace=False)"
   ]
  },
  {
   "cell_type": "code",
   "execution_count": 301,
   "metadata": {},
   "outputs": [
    {
     "name": "stderr",
     "output_type": "stream",
     "text": [
      "C:\\Users\\uesr\\Anaconda3\\lib\\site-packages\\sklearn\\preprocessing\\data.py:645: DataConversionWarning: Data with input dtype int64 were all converted to float64 by StandardScaler.\n",
      "  return self.partial_fit(X, y)\n",
      "C:\\Users\\uesr\\Anaconda3\\lib\\site-packages\\ipykernel_launcher.py:6: DataConversionWarning: Data with input dtype int64 were all converted to float64 by StandardScaler.\n",
      "  \n"
     ]
    }
   ],
   "source": [
    "scale=StandardScaler()\n",
    "scale.fit(scaled_data_in)\n",
    "scaled_data=pd.DataFrame(scale.transform(scaled_data_in),columns=list(scaled_data_in.columns))"
   ]
  },
  {
   "cell_type": "code",
   "execution_count": 302,
   "metadata": {},
   "outputs": [],
   "source": [
    "scale.fit(svd_data)\n",
    "\n",
    "svd_data = pd.DataFrame(scale.transform(svd_data))"
   ]
  },
  {
   "cell_type": "code",
   "execution_count": 299,
   "metadata": {},
   "outputs": [],
   "source": [
    "# from sklearn.cluster import KMeans\n",
    "# from sklearn.decomposition import PCA\n",
    "# from collections import Counter\n",
    "\n",
    "# from sklearn.preprocessing import StandardScaler\n",
    "# kmeans = KMeans(n_clusters=2, random_state=0).fit(pd.concat([svd_data,scaled_data],axis=1))\n",
    "# y_label=kmeans.predict(pd.concat([svd_data,scaled_data],axis=1))\n",
    "\n",
    "# Counter(y_label)\n",
    "\n",
    "# # train_data=pd.concat([svd_data,scaled_data,tweet_data.TweetRetweetCount],axis=1)\n",
    "# train_data = pd.concat([svd_data,scaled_data],axis=1)\n",
    "\n",
    "# train_data['cluster']=y_label\n",
    "\n",
    "# train_data['TweetRetweetCount']=tweet_data.TweetRetweetCount\n",
    "\n",
    "# train_data.TweetRetweetCount[train_data.cluster==1].max()\n",
    "\n",
    "# train_data.loc[train_data.cluster==2,:]['TweetRetweetCount'].max()\n",
    "\n",
    "# train_data.head()\n",
    "\n",
    "# y_final = tweet_data.TweetRetweetCount\n",
    "\n",
    "# tweet_data.TweetRetweetCount.max()\n",
    "\n",
    "# train_data.head()\n",
    "\n",
    "# train_data['target_class']=None\n",
    "# train_data.loc[train_data.TweetRetweetCount==0,'target_class'] = 0\n",
    "# train_data.loc[train_data.TweetRetweetCount!=0,'target_class'] = 1\n",
    "\n",
    "# train_data.drop('TweetRetweetCount',axis=1,inplace=True)\n",
    "\n",
    "# train_data.target_class.value_counts()\n",
    "\n",
    "# y=train_data.target_class\n",
    "# from sklearn.model_selection import train_test_split\n",
    "# X_train, X_test, y_train, y_test = train_test_split(train_data.drop('target_class',axis=1,inplace=False), y, test_size=0.2, random_state=101)\n",
    "\n",
    "# from sklearn.linear_model import LogisticRegression\n",
    "# clf = LogisticRegression(random_state=0, solver='lbfgs',\n",
    "#                           multi_class='multinomial').fit(X_train,y_train)\n",
    "# clf.score(X_train,y_train)\n",
    "\n",
    "# sum((clf.predict(X_test)==y_test)/len(y_test))\n",
    "\n",
    "# train_data_1=train_data.loc[train_data.target_class==1,:]\n",
    "\n",
    "# train_data_1.head()\n",
    "\n",
    "# y_final = tweet_data.TweetRetweetCount[tweet_data.TweetRetweetCount!=0]\n",
    "# y_final.shape\n",
    "\n",
    "# y_final.apply(np.sqrt).hist()\n",
    "\n",
    "# from sklearn.preprocessing import StandardScaler\n",
    "# scale=StandardScaler()\n",
    "# scale.fit(X_train)\n",
    "\n",
    "# final_data=scale.transform(X_train)\n",
    "\n",
    "# from sklearn.linear_model import LinearRegression\n",
    "# reg = LinearRegression().fit(X_train, y_train)\n",
    "\n",
    "# reg.score(X_train, y_train)\n",
    "\n",
    "# reg.score(X_test,y_test)\n",
    "\n",
    "# pd.DataFrame({'actual':y_test,'predicted':reg.predict(X_test)}).to_csv('./results_tweet.csv',index=False)\n",
    "\n",
    "# reg.score(X_test,y_test)"
   ]
  },
  {
   "cell_type": "code",
   "execution_count": 304,
   "metadata": {},
   "outputs": [],
   "source": [
    "train_data=pd.concat([svd_data,scaled_data],axis=1)\n",
    "train_data['TweetRetweetCount'] =tweet_data.TweetRetweetCount"
   ]
  },
  {
   "cell_type": "code",
   "execution_count": 305,
   "metadata": {},
   "outputs": [],
   "source": [
    "\n",
    "X_train, X_test, y_train, y_test = train_test_split(train_data.drop('TweetRetweetCount',axis=1,inplace=False), tweet_data.TweetRetweetCount, test_size=0.3, random_state=101)"
   ]
  },
  {
   "cell_type": "code",
   "execution_count": 333,
   "metadata": {},
   "outputs": [
    {
     "data": {
      "text/plain": [
       "GradientBoostingRegressor(alpha=0.9, criterion='friedman_mse', init=None,\n",
       "             learning_rate=0.1, loss='ls', max_depth=3, max_features=None,\n",
       "             max_leaf_nodes=None, min_impurity_decrease=0.0,\n",
       "             min_impurity_split=None, min_samples_leaf=1,\n",
       "             min_samples_split=2, min_weight_fraction_leaf=0.0,\n",
       "             n_estimators=100, n_iter_no_change=None, presort='auto',\n",
       "             random_state=None, subsample=1.0, tol=0.0001,\n",
       "             validation_fraction=0.1, verbose=0, warm_start=False)"
      ]
     },
     "execution_count": 333,
     "metadata": {},
     "output_type": "execute_result"
    }
   ],
   "source": [
    "\n",
    "grd_model=GradientBoostingRegressor(n_estimators=100)\n",
    "grd_model.fit(X_train,y_train)"
   ]
  },
  {
   "cell_type": "code",
   "execution_count": 388,
   "metadata": {},
   "outputs": [],
   "source": [
    "# save the classifier\n",
    "with open('grd_boost.pkl', 'wb') as fid:\n",
    "    pickle.dump(grd_model, fid)    "
   ]
  },
  {
   "cell_type": "code",
   "execution_count": 373,
   "metadata": {},
   "outputs": [
    {
     "name": "stdout",
     "output_type": "stream",
     "text": [
      "0.996912142470335\n"
     ]
    },
    {
     "data": {
      "text/plain": [
       "0.993258777174273"
      ]
     },
     "execution_count": 373,
     "metadata": {},
     "output_type": "execute_result"
    }
   ],
   "source": [
    "print(grd_model.score(X_train,y_train))\n",
    "grd_model.score(X_test,y_test)"
   ]
  },
  {
   "cell_type": "code",
   "execution_count": 338,
   "metadata": {},
   "outputs": [],
   "source": [
    "pd.DataFrame({'actual':y_test,'predicted':grd_model.predict(X_test)}).to_csv('./results_tweet_grd.csv',index=False)"
   ]
  },
  {
   "cell_type": "code",
   "execution_count": null,
   "metadata": {},
   "outputs": [],
   "source": []
  },
  {
   "cell_type": "code",
   "execution_count": 317,
   "metadata": {},
   "outputs": [
    {
     "name": "stdout",
     "output_type": "stream",
     "text": [
      "_________________________________________________________________\n",
      "Layer (type)                 Output Shape              Param #   \n",
      "=================================================================\n",
      "dense_16 (Dense)             (None, 32)                3680      \n",
      "_________________________________________________________________\n",
      "dense_17 (Dense)             (None, 64)                2112      \n",
      "_________________________________________________________________\n",
      "dense_18 (Dense)             (None, 128)               8320      \n",
      "_________________________________________________________________\n",
      "dense_19 (Dense)             (None, 256)               33024     \n",
      "_________________________________________________________________\n",
      "dense_20 (Dense)             (None, 1)                 257       \n",
      "=================================================================\n",
      "Total params: 47,393\n",
      "Trainable params: 47,393\n",
      "Non-trainable params: 0\n",
      "_________________________________________________________________\n"
     ]
    }
   ],
   "source": [
    "\n",
    "\n",
    "model = Sequential()\n",
    "model.add(Dense(32,input_dim=X_train.shape[1],activation='relu'))\n",
    "model.add(Dense(64,activation='relu'))\n",
    "model.add(Dense(128, activation='relu'))\n",
    "model.add(Dense(256, activation='relu'))\n",
    "model.add(Dense(1,kernel_initializer='normal'))\n",
    "\n",
    "model.compile(loss='mean_squared_error', optimizer='adam',metrics=['accuracy'])\n",
    "\n",
    "model.summary()"
   ]
  },
  {
   "cell_type": "code",
   "execution_count": 320,
   "metadata": {},
   "outputs": [
    {
     "name": "stdout",
     "output_type": "stream",
     "text": [
      "Epoch 1/20\n",
      "29657/29657 [==============================] - ETA: 1s - loss: 5643.9541 - acc: 0.00 - ETA: 1s - loss: 4200.5734 - acc: 0.01 - ETA: 1s - loss: 3774.5651 - acc: 0.02 - ETA: 0s - loss: 3522.1247 - acc: 0.04 - ETA: 0s - loss: 3419.2900 - acc: 0.05 - ETA: 0s - loss: 3483.6392 - acc: 0.04 - ETA: 0s - loss: 3394.3874 - acc: 0.04 - ETA: 0s - loss: 4797.2740 - acc: 0.05 - ETA: 0s - loss: 4679.1727 - acc: 0.05 - ETA: 0s - loss: 4510.0407 - acc: 0.04 - ETA: 0s - loss: 4368.6974 - acc: 0.04 - ETA: 0s - loss: 4240.9497 - acc: 0.05 - ETA: 0s - loss: 4163.1625 - acc: 0.05 - ETA: 0s - loss: 4072.6465 - acc: 0.05 - ETA: 0s - loss: 4053.8894 - acc: 0.05 - ETA: 0s - loss: 3955.5901 - acc: 0.05 - ETA: 0s - loss: 4048.2180 - acc: 0.05 - ETA: 0s - loss: 3954.2266 - acc: 0.05 - ETA: 0s - loss: 3937.3645 - acc: 0.05 - ETA: 0s - loss: 3948.4960 - acc: 0.05 - 1s 34us/step - loss: 3949.1829 - acc: 0.0494\n",
      "Epoch 2/20\n",
      "29657/29657 [==============================] - ETA: 1s - loss: 5872.8115 - acc: 0.01 - ETA: 1s - loss: 3316.3653 - acc: 0.02 - ETA: 0s - loss: 3558.9123 - acc: 0.02 - ETA: 0s - loss: 3373.5350 - acc: 0.04 - ETA: 0s - loss: 3517.5646 - acc: 0.04 - ETA: 0s - loss: 3460.4396 - acc: 0.04 - ETA: 0s - loss: 4769.5369 - acc: 0.03 - ETA: 0s - loss: 4618.7024 - acc: 0.03 - ETA: 0s - loss: 4425.1443 - acc: 0.03 - ETA: 0s - loss: 4300.1310 - acc: 0.03 - ETA: 0s - loss: 4222.8415 - acc: 0.03 - ETA: 0s - loss: 4155.9160 - acc: 0.03 - ETA: 0s - loss: 4115.7684 - acc: 0.03 - ETA: 0s - loss: 4057.9722 - acc: 0.03 - ETA: 0s - loss: 4013.3541 - acc: 0.04 - ETA: 0s - loss: 3989.1181 - acc: 0.04 - ETA: 0s - loss: 3933.3962 - acc: 0.04 - ETA: 0s - loss: 3884.5034 - acc: 0.04 - ETA: 0s - loss: 3857.6273 - acc: 0.04 - 1s 35us/step - loss: 3845.6319 - acc: 0.0420\n",
      "Epoch 3/20\n",
      "29657/29657 [==============================] - ETA: 2s - loss: 1354.6432 - acc: 0.07 - ETA: 1s - loss: 11835.8911 - acc: 0.046 - ETA: 1s - loss: 7753.5620 - acc: 0.032 - ETA: 0s - loss: 5962.9906 - acc: 0.04 - ETA: 0s - loss: 5342.0492 - acc: 0.05 - ETA: 0s - loss: 5171.7931 - acc: 0.05 - ETA: 0s - loss: 4791.6304 - acc: 0.05 - ETA: 0s - loss: 4608.1294 - acc: 0.05 - ETA: 0s - loss: 4477.2907 - acc: 0.05 - ETA: 0s - loss: 4334.0981 - acc: 0.05 - ETA: 0s - loss: 4546.0772 - acc: 0.05 - ETA: 0s - loss: 4379.6107 - acc: 0.04 - ETA: 0s - loss: 4294.4023 - acc: 0.04 - ETA: 0s - loss: 4197.6216 - acc: 0.04 - ETA: 0s - loss: 4126.8594 - acc: 0.04 - ETA: 0s - loss: 4132.3385 - acc: 0.04 - ETA: 0s - loss: 4036.7150 - acc: 0.04 - ETA: 0s - loss: 3984.6594 - acc: 0.04 - ETA: 0s - loss: 3986.4620 - acc: 0.04 - ETA: 0s - loss: 3986.8363 - acc: 0.04 - ETA: 0s - loss: 3934.8407 - acc: 0.04 - ETA: 0s - loss: 3921.9429 - acc: 0.04 - ETA: 0s - loss: 3879.0227 - acc: 0.04 - 1s 40us/step - loss: 3895.8256 - acc: 0.0484\n",
      "Epoch 4/20\n",
      "29657/29657 [==============================] - ETA: 1s - loss: 3745.3875 - acc: 0.03 - ETA: 1s - loss: 3671.3010 - acc: 0.02 - ETA: 1s - loss: 3141.2610 - acc: 0.05 - ETA: 1s - loss: 2959.9558 - acc: 0.06 - ETA: 1s - loss: 2835.8388 - acc: 0.05 - ETA: 1s - loss: 2981.6615 - acc: 0.05 - ETA: 0s - loss: 2974.2475 - acc: 0.04 - ETA: 0s - loss: 2986.5404 - acc: 0.05 - ETA: 0s - loss: 3086.9374 - acc: 0.05 - ETA: 0s - loss: 3094.2310 - acc: 0.05 - ETA: 0s - loss: 3278.2135 - acc: 0.05 - ETA: 0s - loss: 3382.0934 - acc: 0.05 - ETA: 0s - loss: 3433.8732 - acc: 0.04 - ETA: 0s - loss: 4407.0668 - acc: 0.04 - ETA: 0s - loss: 4315.5915 - acc: 0.04 - ETA: 0s - loss: 4228.1435 - acc: 0.04 - ETA: 0s - loss: 4091.3041 - acc: 0.04 - ETA: 0s - loss: 3996.3475 - acc: 0.04 - ETA: 0s - loss: 3940.7394 - acc: 0.04 - ETA: 0s - loss: 3972.1926 - acc: 0.05 - ETA: 0s - loss: 3928.5854 - acc: 0.04 - ETA: 0s - loss: 3867.0360 - acc: 0.04 - ETA: 0s - loss: 3868.7693 - acc: 0.05 - ETA: 0s - loss: 3837.3190 - acc: 0.05 - 1s 42us/step - loss: 3807.5516 - acc: 0.0515\n",
      "Epoch 5/20\n",
      "29657/29657 [==============================] - ETA: 1s - loss: 3057.6802 - acc: 0.01 - ETA: 1s - loss: 13090.8389 - acc: 0.037 - ETA: 1s - loss: 8117.3835 - acc: 0.036 - ETA: 1s - loss: 6386.3141 - acc: 0.04 - ETA: 1s - loss: 5704.0174 - acc: 0.05 - ETA: 1s - loss: 5185.6856 - acc: 0.05 - ETA: 0s - loss: 4827.6398 - acc: 0.04 - ETA: 0s - loss: 4561.7988 - acc: 0.04 - ETA: 0s - loss: 4315.3329 - acc: 0.05 - ETA: 0s - loss: 4193.0911 - acc: 0.05 - ETA: 0s - loss: 4077.8117 - acc: 0.05 - ETA: 0s - loss: 3947.1650 - acc: 0.05 - ETA: 0s - loss: 3903.7438 - acc: 0.05 - ETA: 0s - loss: 3853.7636 - acc: 0.05 - ETA: 0s - loss: 3875.6492 - acc: 0.05 - ETA: 0s - loss: 3818.7387 - acc: 0.05 - ETA: 0s - loss: 3798.7987 - acc: 0.05 - ETA: 0s - loss: 3736.5141 - acc: 0.05 - ETA: 0s - loss: 3759.8159 - acc: 0.05 - ETA: 0s - loss: 3795.9551 - acc: 0.05 - ETA: 0s - loss: 3734.7822 - acc: 0.05 - ETA: 0s - loss: 3706.9109 - acc: 0.05 - ETA: 0s - loss: 3633.0513 - acc: 0.05 - ETA: 0s - loss: 3614.1092 - acc: 0.05 - ETA: 0s - loss: 3679.7821 - acc: 0.05 - 1s 43us/step - loss: 3673.9235 - acc: 0.0528\n",
      "Epoch 6/20\n",
      "29657/29657 [==============================] - ETA: 1s - loss: 856.0787 - acc: 0.078 - ETA: 0s - loss: 2262.3471 - acc: 0.06 - ETA: 0s - loss: 2394.4503 - acc: 0.05 - ETA: 0s - loss: 2582.7873 - acc: 0.06 - ETA: 0s - loss: 2855.5613 - acc: 0.05 - ETA: 0s - loss: 2787.1816 - acc: 0.05 - ETA: 0s - loss: 2731.8009 - acc: 0.05 - ETA: 0s - loss: 2671.8400 - acc: 0.05 - ETA: 0s - loss: 2650.2637 - acc: 0.06 - ETA: 0s - loss: 2685.3927 - acc: 0.05 - ETA: 0s - loss: 2686.0994 - acc: 0.05 - ETA: 0s - loss: 2706.2600 - acc: 0.05 - ETA: 0s - loss: 2759.7038 - acc: 0.05 - ETA: 0s - loss: 2753.9122 - acc: 0.05 - ETA: 0s - loss: 2700.7984 - acc: 0.05 - ETA: 0s - loss: 2719.7554 - acc: 0.05 - ETA: 0s - loss: 2798.1293 - acc: 0.05 - ETA: 0s - loss: 2876.1072 - acc: 0.05 - ETA: 0s - loss: 2933.5277 - acc: 0.05 - ETA: 0s - loss: 3005.8467 - acc: 0.05 - ETA: 0s - loss: 3036.1113 - acc: 0.05 - ETA: 0s - loss: 3043.1277 - acc: 0.05 - ETA: 0s - loss: 3031.7892 - acc: 0.05 - 1s 39us/step - loss: 3579.5431 - acc: 0.0543\n",
      "Epoch 7/20\n",
      "29657/29657 [==============================] - ETA: 1s - loss: 2080.7344 - acc: 0.00 - ETA: 1s - loss: 12836.2495 - acc: 0.044 - ETA: 1s - loss: 7938.6172 - acc: 0.052 - ETA: 0s - loss: 5927.9825 - acc: 0.05 - ETA: 0s - loss: 5159.3496 - acc: 0.05 - ETA: 0s - loss: 5118.0535 - acc: 0.05 - ETA: 0s - loss: 4760.6442 - acc: 0.05 - ETA: 0s - loss: 4540.7880 - acc: 0.05 - ETA: 0s - loss: 4307.4435 - acc: 0.05 - ETA: 0s - loss: 4136.0633 - acc: 0.05 - ETA: 0s - loss: 4071.5879 - acc: 0.05 - ETA: 0s - loss: 3911.4864 - acc: 0.05 - ETA: 0s - loss: 3903.5813 - acc: 0.05 - ETA: 0s - loss: 3889.2704 - acc: 0.05 - ETA: 0s - loss: 3847.8767 - acc: 0.05 - ETA: 0s - loss: 3784.7127 - acc: 0.05 - ETA: 0s - loss: 3727.3953 - acc: 0.05 - ETA: 0s - loss: 3652.0679 - acc: 0.05 - ETA: 0s - loss: 3631.2263 - acc: 0.05 - ETA: 0s - loss: 3613.1188 - acc: 0.05 - ETA: 0s - loss: 3567.8603 - acc: 0.05 - 1s 35us/step - loss: 3565.4688 - acc: 0.0562\n",
      "Epoch 8/20\n",
      "29657/29657 [==============================] - ETA: 2s - loss: 1077.6584 - acc: 0.02 - ETA: 1s - loss: 3071.4374 - acc: 0.03 - ETA: 1s - loss: 2961.2053 - acc: 0.03 - ETA: 1s - loss: 3046.9540 - acc: 0.04 - ETA: 1s - loss: 2930.4835 - acc: 0.04 - ETA: 0s - loss: 2852.5630 - acc: 0.04 - ETA: 0s - loss: 2734.6164 - acc: 0.05 - ETA: 0s - loss: 2811.3806 - acc: 0.05 - ETA: 0s - loss: 2872.7897 - acc: 0.05 - ETA: 0s - loss: 2852.2601 - acc: 0.05 - ETA: 0s - loss: 2895.4781 - acc: 0.05 - ETA: 0s - loss: 2869.9214 - acc: 0.05 - ETA: 0s - loss: 2829.6075 - acc: 0.05 - ETA: 0s - loss: 2831.1775 - acc: 0.05 - ETA: 0s - loss: 2880.1860 - acc: 0.05 - ETA: 0s - loss: 2836.6860 - acc: 0.05 - ETA: 0s - loss: 2871.3233 - acc: 0.05 - ETA: 0s - loss: 2848.0451 - acc: 0.05 - ETA: 0s - loss: 2939.4739 - acc: 0.05 - ETA: 0s - loss: 2926.4609 - acc: 0.05 - ETA: 0s - loss: 3506.0882 - acc: 0.05 - ETA: 0s - loss: 3453.7473 - acc: 0.05 - ETA: 0s - loss: 3433.2530 - acc: 0.05 - 1s 39us/step - loss: 3425.6660 - acc: 0.0533\n",
      "Epoch 9/20\n",
      "29657/29657 [==============================] - ETA: 1s - loss: 4019.4980 - acc: 0.04 - ETA: 0s - loss: 11994.6747 - acc: 0.046 - ETA: 0s - loss: 7572.7118 - acc: 0.041 - ETA: 0s - loss: 5935.1236 - acc: 0.04 - ETA: 0s - loss: 5269.9343 - acc: 0.04 - ETA: 0s - loss: 4726.3629 - acc: 0.05 - ETA: 0s - loss: 4386.3898 - acc: 0.05 - ETA: 0s - loss: 4210.8191 - acc: 0.05 - ETA: 0s - loss: 3967.5997 - acc: 0.05 - ETA: 0s - loss: 3881.1745 - acc: 0.05 - ETA: 0s - loss: 3859.6924 - acc: 0.05 - ETA: 0s - loss: 3793.5536 - acc: 0.05 - ETA: 0s - loss: 3720.4725 - acc: 0.05 - ETA: 0s - loss: 3676.5440 - acc: 0.04 - ETA: 0s - loss: 3619.2943 - acc: 0.04 - ETA: 0s - loss: 3567.9204 - acc: 0.04 - ETA: 0s - loss: 3568.2715 - acc: 0.05 - ETA: 0s - loss: 3525.9185 - acc: 0.05 - ETA: 0s - loss: 3478.3378 - acc: 0.05 - ETA: 0s - loss: 3513.8108 - acc: 0.05 - ETA: 0s - loss: 3444.5242 - acc: 0.05 - ETA: 0s - loss: 3372.0991 - acc: 0.05 - ETA: 0s - loss: 3330.7069 - acc: 0.05 - 1s 40us/step - loss: 3304.9731 - acc: 0.0533\n",
      "Epoch 10/20\n",
      "29657/29657 [==============================] - ETA: 1s - loss: 5313.2485 - acc: 0.03 - ETA: 1s - loss: 2467.0435 - acc: 0.07 - ETA: 1s - loss: 2418.7682 - acc: 0.06 - ETA: 1s - loss: 2652.5489 - acc: 0.05 - ETA: 1s - loss: 2540.0088 - acc: 0.06 - ETA: 1s - loss: 2617.4319 - acc: 0.06 - ETA: 1s - loss: 2591.6716 - acc: 0.06 - ETA: 1s - loss: 2482.5161 - acc: 0.06 - ETA: 0s - loss: 2657.1915 - acc: 0.05 - ETA: 0s - loss: 2738.2669 - acc: 0.05 - ETA: 0s - loss: 2724.2269 - acc: 0.05 - ETA: 0s - loss: 2689.3126 - acc: 0.06 - ETA: 0s - loss: 2709.6334 - acc: 0.05 - ETA: 0s - loss: 2800.8729 - acc: 0.05 - ETA: 0s - loss: 2740.9199 - acc: 0.05 - ETA: 0s - loss: 2752.8111 - acc: 0.05 - ETA: 0s - loss: 2750.1467 - acc: 0.05 - ETA: 0s - loss: 2753.4540 - acc: 0.05 - ETA: 0s - loss: 2762.5603 - acc: 0.05 - ETA: 0s - loss: 2756.3608 - acc: 0.05 - ETA: 0s - loss: 2756.9527 - acc: 0.05 - ETA: 0s - loss: 2741.8984 - acc: 0.05 - ETA: 0s - loss: 2758.7249 - acc: 0.05 - ETA: 0s - loss: 3345.7855 - acc: 0.05 - ETA: 0s - loss: 3325.6613 - acc: 0.05 - ETA: 0s - loss: 3283.7238 - acc: 0.05 - 1s 44us/step - loss: 3285.4177 - acc: 0.0572\n",
      "Epoch 11/20\n",
      "29657/29657 [==============================] - ETA: 2s - loss: 5697.2695 - acc: 0.00 - ETA: 1s - loss: 3626.7185 - acc: 0.05 - ETA: 1s - loss: 3067.2560 - acc: 0.03 - ETA: 1s - loss: 2787.4840 - acc: 0.03 - ETA: 1s - loss: 2812.1369 - acc: 0.04 - ETA: 1s - loss: 2854.3957 - acc: 0.04 - ETA: 0s - loss: 2935.3670 - acc: 0.05 - ETA: 0s - loss: 2870.1538 - acc: 0.05 - ETA: 0s - loss: 2815.0167 - acc: 0.05 - ETA: 0s - loss: 2809.7876 - acc: 0.05 - ETA: 0s - loss: 2743.3637 - acc: 0.05 - ETA: 0s - loss: 2733.7433 - acc: 0.05 - ETA: 0s - loss: 2703.5648 - acc: 0.05 - ETA: 0s - loss: 2693.0793 - acc: 0.06 - ETA: 0s - loss: 2750.9361 - acc: 0.06 - ETA: 0s - loss: 3503.2546 - acc: 0.06 - ETA: 0s - loss: 3429.0222 - acc: 0.05 - ETA: 0s - loss: 3369.5239 - acc: 0.05 - ETA: 0s - loss: 3353.7565 - acc: 0.05 - ETA: 0s - loss: 3336.3135 - acc: 0.05 - ETA: 0s - loss: 3316.8411 - acc: 0.05 - ETA: 0s - loss: 3307.2101 - acc: 0.05 - 1s 38us/step - loss: 3316.1010 - acc: 0.0575\n",
      "Epoch 12/20\n",
      "29657/29657 [==============================] - ETA: 1s - loss: 2793.3108 - acc: 0.08 - ETA: 1s - loss: 3150.6281 - acc: 0.06 - ETA: 1s - loss: 2676.8340 - acc: 0.05 - ETA: 1s - loss: 2690.3468 - acc: 0.06 - ETA: 1s - loss: 2746.1975 - acc: 0.06 - ETA: 0s - loss: 5265.4377 - acc: 0.05 - ETA: 0s - loss: 4856.4259 - acc: 0.05 - ETA: 0s - loss: 4578.4553 - acc: 0.04 - ETA: 0s - loss: 4344.6872 - acc: 0.04 - ETA: 0s - loss: 4183.6450 - acc: 0.05 - ETA: 0s - loss: 3965.7391 - acc: 0.05 - ETA: 0s - loss: 3827.9922 - acc: 0.05 - ETA: 0s - loss: 3730.4126 - acc: 0.05 - ETA: 0s - loss: 3656.8675 - acc: 0.05 - ETA: 0s - loss: 3546.0012 - acc: 0.05 - ETA: 0s - loss: 3406.5208 - acc: 0.05 - ETA: 0s - loss: 3361.4340 - acc: 0.05 - ETA: 0s - loss: 3337.1802 - acc: 0.05 - ETA: 0s - loss: 3290.5958 - acc: 0.05 - ETA: 0s - loss: 3227.0389 - acc: 0.05 - ETA: 0s - loss: 3171.9965 - acc: 0.05 - ETA: 0s - loss: 3123.8041 - acc: 0.05 - ETA: 0s - loss: 3169.9271 - acc: 0.05 - ETA: 0s - loss: 3136.7989 - acc: 0.05 - 1s 41us/step - loss: 3135.9945 - acc: 0.0577\n",
      "Epoch 13/20\n",
      "29657/29657 [==============================] - ETA: 1s - loss: 2375.6465 - acc: 0.05 - ETA: 0s - loss: 2318.0671 - acc: 0.06 - ETA: 1s - loss: 2913.5780 - acc: 0.05 - ETA: 1s - loss: 2636.6262 - acc: 0.06 - ETA: 1s - loss: 2822.5804 - acc: 0.06 - ETA: 0s - loss: 2529.8580 - acc: 0.06 - ETA: 0s - loss: 2486.2800 - acc: 0.06 - ETA: 0s - loss: 2494.9688 - acc: 0.06 - ETA: 0s - loss: 3984.0682 - acc: 0.05 - ETA: 0s - loss: 3892.0300 - acc: 0.05 - ETA: 0s - loss: 3762.0563 - acc: 0.05 - ETA: 0s - loss: 3636.4085 - acc: 0.05 - ETA: 0s - loss: 3548.6051 - acc: 0.05 - ETA: 0s - loss: 3499.0941 - acc: 0.05 - ETA: 0s - loss: 3465.5889 - acc: 0.05 - ETA: 0s - loss: 3362.1210 - acc: 0.05 - ETA: 0s - loss: 3264.6978 - acc: 0.05 - ETA: 0s - loss: 3237.8179 - acc: 0.05 - ETA: 0s - loss: 3205.7693 - acc: 0.05 - ETA: 0s - loss: 3176.1342 - acc: 0.05 - ETA: 0s - loss: 3166.4061 - acc: 0.05 - ETA: 0s - loss: 3160.1008 - acc: 0.05 - ETA: 0s - loss: 3123.0404 - acc: 0.05 - 1s 39us/step - loss: 3109.1020 - acc: 0.0589\n",
      "Epoch 14/20\n",
      "29657/29657 [==============================] - ETA: 2s - loss: 694.3618 - acc: 0.078 - ETA: 0s - loss: 2345.4709 - acc: 0.07 - ETA: 0s - loss: 2179.9556 - acc: 0.06 - ETA: 0s - loss: 2207.9896 - acc: 0.06 - ETA: 0s - loss: 2331.2322 - acc: 0.06 - ETA: 0s - loss: 2634.2679 - acc: 0.06 - ETA: 0s - loss: 2530.1235 - acc: 0.06 - ETA: 0s - loss: 2414.5153 - acc: 0.06 - ETA: 0s - loss: 2404.3386 - acc: 0.06 - ETA: 0s - loss: 2402.0657 - acc: 0.06 - ETA: 0s - loss: 2372.4083 - acc: 0.06 - ETA: 0s - loss: 2498.7715 - acc: 0.06 - ETA: 0s - loss: 3319.6473 - acc: 0.06 - ETA: 0s - loss: 3267.4185 - acc: 0.05 - ETA: 0s - loss: 3211.4501 - acc: 0.05 - ETA: 0s - loss: 3218.7317 - acc: 0.05 - ETA: 0s - loss: 3185.5448 - acc: 0.05 - ETA: 0s - loss: 3146.3360 - acc: 0.05 - ETA: 0s - loss: 3142.1237 - acc: 0.05 - ETA: 0s - loss: 3130.9873 - acc: 0.05 - ETA: 0s - loss: 3152.8591 - acc: 0.05 - ETA: 0s - loss: 3125.8422 - acc: 0.05 - 1s 38us/step - loss: 3109.1529 - acc: 0.0557\n",
      "Epoch 15/20\n",
      "29657/29657 [==============================] - ETA: 1s - loss: 2665.9619 - acc: 0.07 - ETA: 1s - loss: 2880.3291 - acc: 0.06 - ETA: 1s - loss: 2571.5765 - acc: 0.07 - ETA: 1s - loss: 2846.2940 - acc: 0.07 - ETA: 1s - loss: 2693.7604 - acc: 0.07 - ETA: 1s - loss: 2923.7011 - acc: 0.06 - ETA: 1s - loss: 2895.9471 - acc: 0.06 - ETA: 1s - loss: 2740.5734 - acc: 0.07 - ETA: 0s - loss: 2573.3789 - acc: 0.07 - ETA: 0s - loss: 2532.7032 - acc: 0.06 - ETA: 0s - loss: 2521.9011 - acc: 0.07 - ETA: 0s - loss: 2592.8619 - acc: 0.07 - ETA: 0s - loss: 2643.4096 - acc: 0.07 - ETA: 0s - loss: 2654.4823 - acc: 0.06 - ETA: 0s - loss: 2594.4467 - acc: 0.06 - ETA: 0s - loss: 2648.7818 - acc: 0.06 - ETA: 0s - loss: 2587.7219 - acc: 0.06 - ETA: 0s - loss: 2597.3335 - acc: 0.06 - ETA: 0s - loss: 2634.5266 - acc: 0.06 - ETA: 0s - loss: 2602.5569 - acc: 0.06 - ETA: 0s - loss: 3129.6471 - acc: 0.06 - ETA: 0s - loss: 3116.0702 - acc: 0.06 - 1s 38us/step - loss: 3078.3330 - acc: 0.0636\n",
      "Epoch 16/20\n",
      "29657/29657 [==============================] - ETA: 1s - loss: 912.3823 - acc: 0.093 - ETA: 0s - loss: 1871.3224 - acc: 0.03 - ETA: 0s - loss: 1893.5714 - acc: 0.04 - ETA: 0s - loss: 2180.2541 - acc: 0.04 - ETA: 0s - loss: 2593.1004 - acc: 0.04 - ETA: 0s - loss: 2536.1506 - acc: 0.05 - ETA: 0s - loss: 2500.9102 - acc: 0.05 - ETA: 0s - loss: 2532.2308 - acc: 0.05 - ETA: 0s - loss: 2524.5777 - acc: 0.05 - ETA: 0s - loss: 2516.7139 - acc: 0.05 - ETA: 0s - loss: 2527.2190 - acc: 0.05 - ETA: 0s - loss: 2506.8232 - acc: 0.05 - ETA: 0s - loss: 2496.4817 - acc: 0.06 - ETA: 0s - loss: 2503.2989 - acc: 0.06 - ETA: 0s - loss: 2503.0127 - acc: 0.06 - ETA: 0s - loss: 2495.2958 - acc: 0.06 - ETA: 0s - loss: 2541.1377 - acc: 0.06 - 1s 29us/step - loss: 2999.5616 - acc: 0.0640\n",
      "Epoch 17/20\n"
     ]
    },
    {
     "name": "stdout",
     "output_type": "stream",
     "text": [
      "29657/29657 [==============================] - ETA: 1s - loss: 2079.9902 - acc: 0.00 - ETA: 0s - loss: 2809.2977 - acc: 0.04 - ETA: 0s - loss: 2592.4549 - acc: 0.04 - ETA: 0s - loss: 2560.1002 - acc: 0.04 - ETA: 0s - loss: 2468.7745 - acc: 0.05 - ETA: 0s - loss: 2561.6153 - acc: 0.05 - ETA: 0s - loss: 2700.2123 - acc: 0.05 - ETA: 0s - loss: 2661.1948 - acc: 0.05 - ETA: 0s - loss: 2573.9123 - acc: 0.05 - ETA: 0s - loss: 2589.7762 - acc: 0.05 - ETA: 0s - loss: 2599.1785 - acc: 0.05 - ETA: 0s - loss: 2581.2763 - acc: 0.05 - ETA: 0s - loss: 2747.5063 - acc: 0.05 - ETA: 0s - loss: 2848.7850 - acc: 0.06 - ETA: 0s - loss: 3584.9777 - acc: 0.05 - ETA: 0s - loss: 3548.9324 - acc: 0.05 - ETA: 0s - loss: 3511.4670 - acc: 0.05 - ETA: 0s - loss: 3443.9145 - acc: 0.05 - ETA: 0s - loss: 3387.3378 - acc: 0.05 - ETA: 0s - loss: 3386.0090 - acc: 0.05 - ETA: 0s - loss: 3330.3545 - acc: 0.05 - ETA: 0s - loss: 3251.3036 - acc: 0.05 - ETA: 0s - loss: 3190.2505 - acc: 0.05 - ETA: 0s - loss: 3150.2411 - acc: 0.05 - 1s 40us/step - loss: 3154.9551 - acc: 0.0568\n",
      "Epoch 18/20\n",
      "29657/29657 [==============================] - ETA: 1s - loss: 1404.9507 - acc: 0.09 - ETA: 1s - loss: 2402.3007 - acc: 0.04 - ETA: 0s - loss: 2041.6710 - acc: 0.05 - ETA: 0s - loss: 2255.5101 - acc: 0.06 - ETA: 0s - loss: 2259.5016 - acc: 0.06 - ETA: 0s - loss: 2248.3274 - acc: 0.06 - ETA: 0s - loss: 2192.9330 - acc: 0.06 - ETA: 0s - loss: 2283.3384 - acc: 0.06 - ETA: 0s - loss: 2443.2647 - acc: 0.05 - ETA: 0s - loss: 2497.0636 - acc: 0.06 - ETA: 0s - loss: 2444.9550 - acc: 0.05 - ETA: 0s - loss: 3173.3254 - acc: 0.05 - ETA: 0s - loss: 3059.7161 - acc: 0.05 - ETA: 0s - loss: 2991.2586 - acc: 0.05 - ETA: 0s - loss: 2943.2869 - acc: 0.05 - ETA: 0s - loss: 2941.4367 - acc: 0.05 - ETA: 0s - loss: 2991.2820 - acc: 0.05 - ETA: 0s - loss: 2980.7089 - acc: 0.05 - ETA: 0s - loss: 2961.4884 - acc: 0.05 - ETA: 0s - loss: 2942.9774 - acc: 0.05 - 1s 33us/step - loss: 2935.5699 - acc: 0.0555\n",
      "Epoch 19/20\n",
      "29657/29657 [==============================] - ETA: 2s - loss: 1756.9382 - acc: 0.03 - ETA: 1s - loss: 2495.1091 - acc: 0.05 - ETA: 1s - loss: 2198.1158 - acc: 0.07 - ETA: 1s - loss: 2319.3540 - acc: 0.07 - ETA: 1s - loss: 2380.6836 - acc: 0.07 - ETA: 1s - loss: 2199.1741 - acc: 0.07 - ETA: 0s - loss: 2303.6113 - acc: 0.06 - ETA: 0s - loss: 2291.4835 - acc: 0.06 - ETA: 0s - loss: 2377.7560 - acc: 0.06 - ETA: 0s - loss: 2360.8382 - acc: 0.06 - ETA: 0s - loss: 2302.5154 - acc: 0.06 - ETA: 0s - loss: 2264.5121 - acc: 0.06 - ETA: 0s - loss: 3098.2211 - acc: 0.06 - ETA: 0s - loss: 3045.1746 - acc: 0.06 - ETA: 0s - loss: 2997.4097 - acc: 0.06 - ETA: 0s - loss: 2980.5771 - acc: 0.06 - ETA: 0s - loss: 2974.6907 - acc: 0.05 - ETA: 0s - loss: 2953.4242 - acc: 0.05 - ETA: 0s - loss: 2928.5989 - acc: 0.05 - ETA: 0s - loss: 2869.5694 - acc: 0.05 - ETA: 0s - loss: 2834.9002 - acc: 0.05 - ETA: 0s - loss: 2819.1396 - acc: 0.05 - 1s 37us/step - loss: 2821.8491 - acc: 0.0586\n",
      "Epoch 20/20\n",
      "29657/29657 [==============================] - ETA: 2s - loss: 1610.1833 - acc: 0.05 - ETA: 1s - loss: 2242.5471 - acc: 0.05 - ETA: 1s - loss: 2682.9908 - acc: 0.05 - ETA: 1s - loss: 2595.6027 - acc: 0.06 - ETA: 1s - loss: 2457.4174 - acc: 0.06 - ETA: 0s - loss: 2498.5702 - acc: 0.06 - ETA: 0s - loss: 2364.4285 - acc: 0.06 - ETA: 0s - loss: 2430.2627 - acc: 0.06 - ETA: 0s - loss: 3702.0764 - acc: 0.06 - ETA: 0s - loss: 3543.2314 - acc: 0.06 - ETA: 0s - loss: 3469.4420 - acc: 0.06 - ETA: 0s - loss: 3344.6749 - acc: 0.06 - ETA: 0s - loss: 3290.7017 - acc: 0.06 - ETA: 0s - loss: 3228.8538 - acc: 0.06 - ETA: 0s - loss: 3164.7265 - acc: 0.06 - ETA: 0s - loss: 3092.7229 - acc: 0.06 - ETA: 0s - loss: 3042.5010 - acc: 0.06 - ETA: 0s - loss: 3021.7349 - acc: 0.06 - ETA: 0s - loss: 2961.8311 - acc: 0.06 - ETA: 0s - loss: 3009.9462 - acc: 0.06 - ETA: 0s - loss: 2985.3639 - acc: 0.06 - ETA: 0s - loss: 2922.6590 - acc: 0.06 - ETA: 0s - loss: 2879.4015 - acc: 0.05 - 1s 39us/step - loss: 2864.3089 - acc: 0.0597\n"
     ]
    },
    {
     "data": {
      "text/plain": [
       "<keras.callbacks.History object at 0x0000000026660EF0>"
      ]
     },
     "execution_count": 320,
     "metadata": {},
     "output_type": "execute_result"
    }
   ],
   "source": [
    "model.fit(x=X_train, y=y_train, epochs=20, batch_size=128)"
   ]
  },
  {
   "cell_type": "code",
   "execution_count": 387,
   "metadata": {},
   "outputs": [],
   "source": [
    "model.save('./nn_model.h5')"
   ]
  },
  {
   "cell_type": "code",
   "execution_count": 353,
   "metadata": {},
   "outputs": [],
   "source": [
    "predicted_val=pd.Series(model.predict(X_test)[:,0])\n",
    "\n",
    "predicted_val[predicted_val<0]=0\n",
    "\n",
    "predicted_val=predicted_val.astype(int)"
   ]
  },
  {
   "cell_type": "code",
   "execution_count": 368,
   "metadata": {},
   "outputs": [],
   "source": [
    "pd.DataFrame({'actual':y_test.reset_index(drop=True),'predicted':predicted_val}).to_csv('./results_tweet.csv',index=False)"
   ]
  },
  {
   "cell_type": "code",
   "execution_count": null,
   "metadata": {},
   "outputs": [],
   "source": []
  },
  {
   "cell_type": "code",
   "execution_count": null,
   "metadata": {},
   "outputs": [],
   "source": []
  },
  {
   "cell_type": "code",
   "execution_count": 515,
   "metadata": {},
   "outputs": [],
   "source": [
    "new_test = main_data.sample(100)"
   ]
  },
  {
   "cell_type": "code",
   "execution_count": 516,
   "metadata": {},
   "outputs": [],
   "source": [
    "# col_drop=['TweetInReplyToStatusID',\n",
    "#  'TweetInReplyToUserID', 'TweetInReplyToScreenName',\n",
    "#  'TweetPlaceID', 'TweetPlaceName',\n",
    "#  'TweetPlaceFullName', 'TweetCountry', 'TweetPlaceBoundingBox',\n",
    "#  'TweetPlaceAttributes', 'TweetPlaceContainedWithin',\n",
    "#  'UserLink', 'UserExpandedLink', 'tweet.place']\n",
    "\n",
    "# new_test.drop(labels=col_drop,axis=1,inplace=True)"
   ]
  },
  {
   "cell_type": "code",
   "execution_count": null,
   "metadata": {},
   "outputs": [],
   "source": []
  },
  {
   "cell_type": "code",
   "execution_count": 517,
   "metadata": {},
   "outputs": [],
   "source": [
    "diff_year_=pd.Series((new_test.TweetPostedTime.dt.year - new_test.UserSignupDate.dt.year)*12)\n",
    "\n",
    "diff_month_ = pd.Series(new_test.TweetPostedTime.dt.month - new_test.UserSignupDate.dt.month)\n",
    "\n",
    "new_test['tenure_in_month'] = pd.Series(diff_year_+diff_month_)\n",
    "\n",
    "new_test.drop(labels=['UserSignupDate','TweetPostedTime'],axis=1,inplace=True)"
   ]
  },
  {
   "cell_type": "code",
   "execution_count": 518,
   "metadata": {},
   "outputs": [],
   "source": [
    "new_test.fillna('',inplace=True)"
   ]
  },
  {
   "cell_type": "code",
   "execution_count": 519,
   "metadata": {},
   "outputs": [
    {
     "name": "stderr",
     "output_type": "stream",
     "text": [
      "100%|███████████████████████████████████████| 100/100 [00:00<00:00, 229.09it/s]\n"
     ]
    }
   ],
   "source": [
    "new_test['concat_text'] = new_test.TweetBody + ' ' +  new_test.TweetSource + ' ' + new_test.TweetHashtags + ' '+ new_test.UserLocation +' '+ new_test.UserDescription\n",
    "\n",
    "tqdm.pandas()\n",
    "new_test.concat_text=new_test.concat_text.progress_apply(pre_processing)"
   ]
  },
  {
   "cell_type": "code",
   "execution_count": null,
   "metadata": {},
   "outputs": [],
   "source": []
  },
  {
   "cell_type": "code",
   "execution_count": 521,
   "metadata": {},
   "outputs": [],
   "source": [
    "with open('./bow_trans.pkl', 'rb') as f:\n",
    "    test_bow = pickle.load(f)"
   ]
  },
  {
   "cell_type": "code",
   "execution_count": 522,
   "metadata": {},
   "outputs": [
    {
     "data": {
      "text/plain": [
       "<100x74673 sparse matrix of type '<class 'numpy.int64'>'\n",
       "\twith 2752 stored elements in Compressed Sparse Row format>"
      ]
     },
     "execution_count": 522,
     "metadata": {},
     "output_type": "execute_result"
    }
   ],
   "source": [
    "test_bow.transform(new_test.concat_text)"
   ]
  },
  {
   "cell_type": "code",
   "execution_count": 523,
   "metadata": {},
   "outputs": [],
   "source": [
    "new_test_X=test_bow.transform(new_test.concat_text)"
   ]
  },
  {
   "cell_type": "code",
   "execution_count": 538,
   "metadata": {},
   "outputs": [],
   "source": [
    "with open('./svd.pkl', 'rb') as f:\n",
    "    test_svd = pickle.load(f)"
   ]
  },
  {
   "cell_type": "code",
   "execution_count": 539,
   "metadata": {},
   "outputs": [],
   "source": [
    "train_col=['TweetFavoritesCount', 'UserFollowersCount', 'MacroIterationNumber',\n",
    "       'tenure_in_month']"
   ]
  },
  {
   "cell_type": "code",
   "execution_count": 540,
   "metadata": {},
   "outputs": [
    {
     "data": {
      "text/plain": [
       "(100, 74673)"
      ]
     },
     "execution_count": 540,
     "metadata": {},
     "output_type": "execute_result"
    }
   ],
   "source": [
    "new_test_X.shape"
   ]
  },
  {
   "cell_type": "code",
   "execution_count": 542,
   "metadata": {
    "scrolled": true
   },
   "outputs": [],
   "source": [
    "test_svd_data=test_svd.transform(new_test_X.T)"
   ]
  },
  {
   "cell_type": "code",
   "execution_count": 430,
   "metadata": {},
   "outputs": [
    {
     "data": {
      "text/plain": [
       "(100, 74673)"
      ]
     },
     "execution_count": 430,
     "metadata": {},
     "output_type": "execute_result"
    }
   ],
   "source": [
    "scale=StandardScaler()\n",
    "scale.fit(new_test_X)\n",
    "new_test_X=scale.transform(new_test_X)"
   ]
  },
  {
   "cell_type": "code",
   "execution_count": 546,
   "metadata": {},
   "outputs": [],
   "source": [
    "final_test_data=pd.concat([new_test_X,new_test[train_col]])"
   ]
  },
  {
   "cell_type": "code",
   "execution_count": null,
   "metadata": {},
   "outputs": [],
   "source": [
    "with open('./grd_boost.pkl', 'rb') as f:\n",
    "    test_grd = pickle.load(f)"
   ]
  },
  {
   "cell_type": "code",
   "execution_count": null,
   "metadata": {},
   "outputs": [],
   "source": [
    "test_pred_grd=test_grd.predict(final_test_data)"
   ]
  },
  {
   "cell_type": "code",
   "execution_count": null,
   "metadata": {},
   "outputs": [],
   "source": [
    "from keras.models import load_model\n",
    "test_model_nn = load_model('./nn_model.h5')"
   ]
  },
  {
   "cell_type": "code",
   "execution_count": null,
   "metadata": {},
   "outputs": [],
   "source": [
    "test_pred_nn = test_model_nn.predict(final_test_data)"
   ]
  }
 ],
 "metadata": {
  "kernelspec": {
   "display_name": "Python 3",
   "language": "python",
   "name": "python3"
  },
  "language_info": {
   "codemirror_mode": {
    "name": "ipython",
    "version": 3
   },
   "file_extension": ".py",
   "mimetype": "text/x-python",
   "name": "python",
   "nbconvert_exporter": "python",
   "pygments_lexer": "ipython3",
   "version": "3.5.2"
  }
 },
 "nbformat": 4,
 "nbformat_minor": 2
}
